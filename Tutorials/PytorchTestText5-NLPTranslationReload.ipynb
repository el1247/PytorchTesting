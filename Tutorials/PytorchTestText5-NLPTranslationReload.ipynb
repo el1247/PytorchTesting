{
 "cells": [
  {
   "cell_type": "markdown",
   "id": "6df9348a",
   "metadata": {},
   "source": [
    "# Pytorch Text - Translation With A Sqeuence To Sequence Network and Attention\n",
    "Notebook for following along with Pytorch Text NLP From Scratch tutorials that is looking at creating a NN to translate French to English [Pytorch](https://pytorch.org/tutorials/intermediate/seq2seq_translation_tutorial.html)  website tutorial. <br><br>\n",
    "The data can be downloaded [here](https://download.pytorch.org/tutorial/data.zip)."
   ]
  },
  {
   "cell_type": "markdown",
   "id": "ec967837",
   "metadata": {},
   "source": [
    "### Choices for data"
   ]
  },
  {
   "cell_type": "markdown",
   "id": "66e6fc7e",
   "metadata": {},
   "source": [
    "<br>"
   ]
  },
  {
   "cell_type": "markdown",
   "id": "699447fc",
   "metadata": {},
   "source": [
    "### Libaries and Modules\n",
    "Importing the necessary libaries and modules for the notebook."
   ]
  },
  {
   "cell_type": "code",
   "execution_count": 1,
   "id": "d660636a",
   "metadata": {
    "code_folding": [
     0
    ],
    "jupyter": {
     "source_hidden": true
    }
   },
   "outputs": [
    {
     "name": "stdout",
     "output_type": "stream",
     "text": [
      "Device: cpu. Cuda available: False\n",
      "Imports complete\n"
     ]
    }
   ],
   "source": [
    "#Import cell\n",
    "import glob\n",
    "import matplotlib as mpl\n",
    "import matplotlib.dates as mdates\n",
    "import matplotlib.pyplot as plt\n",
    "import matplotlib.ticker as ticker\n",
    "import math\n",
    "import numpy as np\n",
    "import os\n",
    "import pandas as pd\n",
    "import pickle as pk\n",
    "import random\n",
    "import re\n",
    "import string\n",
    "import time\n",
    "import torch\n",
    "import torch.nn as nn\n",
    "import torch.nn.functional as F\n",
    "import torchtext\n",
    "import unicodedata\n",
    "\n",
    "from __future__ import unicode_literals, print_function, division\n",
    "from io import open\n",
    "from torch import optim\n",
    "\n",
    "device = torch.device('cuda' if torch.cuda.is_available() else 'cpu')\n",
    "print(f\"Device: {device}. Cuda available: {torch.cuda.is_available()}\")\n",
    "print(\"Imports complete\")"
   ]
  },
  {
   "cell_type": "markdown",
   "id": "e77d57c5",
   "metadata": {},
   "source": [
    "<br>"
   ]
  },
  {
   "cell_type": "markdown",
   "id": "144b8a2f",
   "metadata": {},
   "source": [
    "### Importing and preparing data sets\n",
    "Importing and preparing the data for the models."
   ]
  },
  {
   "cell_type": "code",
   "execution_count": 2,
   "id": "3d9d6461",
   "metadata": {
    "code_folding": []
   },
   "outputs": [
    {
     "name": "stdout",
     "output_type": "stream",
     "text": [
      "Data sets functions defined.\n"
     ]
    }
   ],
   "source": [
    "#Gather datasets and prepare them for consumption\n",
    "def unicodeToAscii(s):\n",
    "    return ''.join(\n",
    "        c for c in unicodedata.normalize('NFD', s)\n",
    "        if unicodedata.category(c)!= 'Mn')\n",
    "\n",
    "def normalizeString(s):\n",
    "    s = unicodeToAscii(s.lower().strip())\n",
    "    s = re.sub(r\"([.!?])\", r\" \\1\", s)\n",
    "    s = re.sub(r\"[^a-zA-Z.!?]+\", r\" \", s)\n",
    "    return s\n",
    "\n",
    "print(\"Data sets functions defined.\")"
   ]
  },
  {
   "cell_type": "code",
   "execution_count": 3,
   "id": "76441c10",
   "metadata": {
    "code_folding": [],
    "jupyter": {
     "source_hidden": true
    }
   },
   "outputs": [
    {
     "name": "stdout",
     "output_type": "stream",
     "text": [
      "\n",
      "Data sets successfully imported.\n"
     ]
    }
   ],
   "source": [
    "#Importing data sets\n",
    "def readLangs(lang1, lang2, reverse=False):\n",
    "    print(\"Reading lines...\")\n",
    "    lines = open('data/%s-%s.txt' % (lang1, lang2), encoding='utf-8').\\\n",
    "                read().strip().split('\\n')\n",
    "    pairs = [[normalizeString(s) for s in l.split('\\t')] for l in lines]\n",
    "    \n",
    "    if reverse:\n",
    "        pairs = [list(reversed(p)) for p in pairs]\n",
    "        input_lang = Lang(lang2)\n",
    "        output_lang = Lang(lang1)\n",
    "    else:\n",
    "        input_lang = Lang(lang1)\n",
    "        output_lang = Lang(lang2)\n",
    "    return input_lang, output_lang, pairs    \n",
    "    \n",
    "print(\"\\nData sets successfully imported.\")"
   ]
  },
  {
   "cell_type": "code",
   "execution_count": 4,
   "id": "9b051ffe",
   "metadata": {
    "code_folding": [
     0
    ]
   },
   "outputs": [
    {
     "name": "stdout",
     "output_type": "stream",
     "text": [
      "Loaders defined, running on device: cpu\n"
     ]
    }
   ],
   "source": [
    "#Loader definitions\n",
    "\n",
    "print(f\"Loaders defined, running on device: {device}\")"
   ]
  },
  {
   "cell_type": "code",
   "execution_count": 5,
   "id": "d4b04821",
   "metadata": {},
   "outputs": [
    {
     "data": {
      "text/plain": [
       "<torch._C.Generator at 0x1ba4249df50>"
      ]
     },
     "execution_count": 5,
     "metadata": {},
     "output_type": "execute_result"
    }
   ],
   "source": [
    "#Setting seed value\n",
    "torch.manual_seed(1247)"
   ]
  },
  {
   "cell_type": "markdown",
   "id": "f87f41a6",
   "metadata": {},
   "source": [
    "<br>"
   ]
  },
  {
   "cell_type": "markdown",
   "id": "cf1e919b",
   "metadata": {},
   "source": [
    "### Class Definitions\n",
    "<b>Classes:</b><br>\n",
    "<ul>\n",
    "    <li>Lang - Language encoder that converts words into a single hot-vector.</li>\n",
    "    <li>Encoder - Outputs some value for every word from the input sentence. For every input word the encord outputs a vector and a hidden state, which is used for the next input word.</li>\n",
    "    <li>Decoder - takes the encoder output vector(s) and outputs a sequence of words to create the translation.</li>\n",
    "</ul>"
   ]
  },
  {
   "cell_type": "code",
   "execution_count": 6,
   "id": "a333d5e5",
   "metadata": {},
   "outputs": [],
   "source": [
    "#Constants\n",
    "SOS_token = 0\n",
    "EOS_token = 1\n",
    "MAX_LENGTH = 10"
   ]
  },
  {
   "cell_type": "code",
   "execution_count": 7,
   "id": "26f3a52d",
   "metadata": {
    "code_folding": [
     1,
     26,
     44,
     65
    ]
   },
   "outputs": [
    {
     "name": "stdout",
     "output_type": "stream",
     "text": [
      "Classes defined.\n"
     ]
    }
   ],
   "source": [
    "#Class definition cell\n",
    "class Lang:\n",
    "    def __init__(self, name) -> None:\n",
    "        self.name = name\n",
    "        self.word2index = {}\n",
    "        self.word2count = {}\n",
    "        self.index2word = {0: \"SOS\", 1:\"EOS\"}\n",
    "        self.n_words = 2 #Count SOS and EOS\n",
    "        return None\n",
    "        \n",
    "    def addSentence(self, sentence) -> None:\n",
    "        for word in sentence.split(' '):\n",
    "            self.addWord(word)\n",
    "        return None\n",
    "    \n",
    "    def addWord(self, word) -> None:\n",
    "        if word not in self.word2index:\n",
    "            self.word2index[word] = self.n_words\n",
    "            self.word2count[word] = 1\n",
    "            self.index2word[self.n_words] = word\n",
    "            self.n_words += 1\n",
    "        else:\n",
    "            self.word2count[word] += 1\n",
    "        return None\n",
    "\n",
    "    \n",
    "class EncoderRNN(nn.Module):\n",
    "    def __init__(self, input_size, hidden_size) -> None:\n",
    "        super(EncoderRNN, self).__init__()\n",
    "        self.hidden_size = hidden_size\n",
    "        self.embedding = nn.Embedding(input_size, hidden_size)\n",
    "        self.gru = nn.GRU(hidden_size, hidden_size)\n",
    "        return None\n",
    "    \n",
    "    def forward(self, input, hidden):\n",
    "        embedding = self.embedding(input).view(1, 1, -1)\n",
    "        output = embedding\n",
    "        output, hidden = self.gru(output, hidden)\n",
    "        return output, hidden\n",
    "    \n",
    "    def initHidden(self):\n",
    "        return torch.zeros(1, 1, self.hidden_size, device=device)\n",
    "    \n",
    "\n",
    "class DecoderRNN(nn.Module):\n",
    "    def __init__(self, hidden_size, output_size) -> None:\n",
    "        super(DecoderRNN, self).init()\n",
    "        self.hidden_size = hidden_size\n",
    "        self.embedding = nn.Embedding(output_size, hidden_size)\n",
    "        self.gru = nn.GRU(hidden_size, hidden_size)\n",
    "        self.out = nn.Linear(hidden_size, output_size)\n",
    "        self.softmax = nn.LogSoftmax(dim=1)\n",
    "        return None\n",
    "    \n",
    "    def forward(self, input, hidden):\n",
    "        output = self.embedding(input).view(1, 1, -1)\n",
    "        output = F.relu(output)\n",
    "        output, hidden = self.gru(output, hidden)\n",
    "        output = self.softmax(self.out(output[0]))\n",
    "        return output, hidden\n",
    "    \n",
    "    def initHidden(self):\n",
    "        return torch.zeros(1, 1, self.hidden_size, device=device)\n",
    "    \n",
    "    \n",
    "class AttnDecoderRNN(nn.Module):\n",
    "    def __init__(self, hidden_size, output_size, dropout_p=0.1, max_length=MAX_LENGTH):\n",
    "        super(AttnDecoderRNN, self).__init__()\n",
    "        self.hidden_size = hidden_size\n",
    "        self.output_size = output_size\n",
    "        self.dropout_p = dropout_p\n",
    "        self.max_length = max_length\n",
    "        \n",
    "        self.embedding = nn.Embedding(self.output_size, self.hidden_size)\n",
    "        self.attn = nn.Linear(self.hidden_size*2, self.max_length)\n",
    "        self.attn_combine = nn.Linear(self.hidden_size*2, self.hidden_size)\n",
    "        self.dropout = nn.Dropout(self.dropout_p)\n",
    "        self.gru = nn.GRU(self.hidden_size, self.hidden_size)\n",
    "        self.out = nn.Linear(self.hidden_size, self.output_size)\n",
    "        return None\n",
    "    \n",
    "    def forward(self, input, hidden, encoder_outputs):\n",
    "        embedded = self.embedding(input).view(1, 1, -1)\n",
    "        ebeded = self.dropout(embedded)\n",
    "        \n",
    "        attn_weights = F.softmax(\n",
    "            self.attn(torch.cat((embedded[0], hidden[0]), 1)), dim=1)\n",
    "        attn_applied = torch.bmm(attn_weights.unsqueeze(0),\n",
    "                                encoder_outputs.unsqueeze(0))\n",
    "        \n",
    "        output = torch.cat((embedded[0], attn_applied[0]), 1)\n",
    "        output = self.attn_combine(output).unsqueeze(0)\n",
    "        output = F.relu(output)\n",
    "        output, hidden = self.gru(output, hidden)\n",
    "        output = F.log_softmax(self.out(output[0]), dim=1)\n",
    "        return output, hidden, attn_weights\n",
    "    \n",
    "    def initHidden(self):\n",
    "        return torch.zeros(1, 1, self.hidden_size, device=device)\n",
    "\n",
    "print(\"Classes defined.\")"
   ]
  },
  {
   "cell_type": "markdown",
   "id": "55d966b5",
   "metadata": {},
   "source": [
    "<br>"
   ]
  },
  {
   "cell_type": "markdown",
   "id": "4ae43c80",
   "metadata": {},
   "source": [
    "### Calculation functions\n",
    "<b>Functions:</b><br>\n",
    "<ul>\n",
    "    <li>filterPair - Checks if the data is below the length of MAX_LENGTH</li>\n",
    "    <li>filterPairs - returns elements in a list if below the MAX_LENGTH</li>\n",
    "    <li>prepareData - filters data by MAX_LENGTH, printing relevant information</li>\n",
    "</ul>"
   ]
  },
  {
   "cell_type": "code",
   "execution_count": 8,
   "id": "72ba5a08",
   "metadata": {
    "code_folding": [],
    "jupyter": {
     "source_hidden": true
    }
   },
   "outputs": [
    {
     "name": "stdout",
     "output_type": "stream",
     "text": [
      "Calculation functions defined.\n"
     ]
    }
   ],
   "source": [
    "#Calculation functions cell\n",
    "def filterPair(p) -> bool:\n",
    "    return len(p[0].split(' ')) < MAX_LENGTH and \\\n",
    "            len(p[1].split(' ')) < MAX_LENGTH and \\\n",
    "            p[1].startswith(eng_prefixes)\n",
    "\n",
    "def filterPairs(pairs):\n",
    "    return [pair for pair in pairs if filterPair(pair)]\n",
    "\n",
    "def prepareData(lang1, lang2, reverse=False):\n",
    "    input_lang, output_lang, pairs = readLangs(lang1, lang2, reverse)\n",
    "    print(\"Read %s sentence pairs\\n\" % len(pairs))\n",
    "    pairs = filterPairs(pairs)\n",
    "    print(\"Trimmed to %s sentence pairs\\n\" % len(pairs))\n",
    "    print(\"Counting words...\")\n",
    "    for pair in pairs:\n",
    "        input_lang.addSentence(pair[0])\n",
    "        output_lang.addSentence(pair[1])\n",
    "    print(\"Counted words:\")\n",
    "    print(input_lang.name, input_lang.n_words)\n",
    "    print(output_lang.name, output_lang.n_words, \"\\n\")\n",
    "    return input_lang, output_lang, pairs\n",
    "    \n",
    "print(\"Calculation functions defined.\")"
   ]
  },
  {
   "cell_type": "markdown",
   "id": "a6fee989",
   "metadata": {},
   "source": [
    "<br>"
   ]
  },
  {
   "cell_type": "markdown",
   "id": "f0674ba3",
   "metadata": {},
   "source": [
    "### Plotting functions\n",
    "<b>Functions:</b>\n",
    "<ul>\n",
    "    <li>showPlot - plots input array, used for plot_losses</li>\n",
    "</ul>"
   ]
  },
  {
   "cell_type": "code",
   "execution_count": 9,
   "id": "b661aee3",
   "metadata": {
    "code_folding": [
     0
    ],
    "jupyter": {
     "source_hidden": true
    }
   },
   "outputs": [
    {
     "name": "stdout",
     "output_type": "stream",
     "text": [
      "Plotting functions defined.\n"
     ]
    }
   ],
   "source": [
    "#Plotting functions Cell\n",
    "#plt.switch_backend('agg')\n",
    "%matplotlib inline\n",
    "\n",
    "def showPlot(points) -> None:\n",
    "    plt.figure()\n",
    "    fig, ax = plt.subplots()\n",
    "    loc = ticker.MultipleLocator(base=0.2)\n",
    "    ax.yaxis.set_major_locator(loc)\n",
    "    plt.plot(points)\n",
    "    plt.title(\"Average Training Loss\")\n",
    "    plt.ylabel(\"Average Loss Value\")\n",
    "    plt.xlabel(\"Loss Check Point\")\n",
    "    return None\n",
    "    \n",
    "print(\"Plotting functions defined.\")"
   ]
  },
  {
   "cell_type": "markdown",
   "id": "03b08738",
   "metadata": {},
   "source": [
    "<br>"
   ]
  },
  {
   "cell_type": "markdown",
   "id": "033e79a7",
   "metadata": {},
   "source": [
    "### Main code"
   ]
  },
  {
   "cell_type": "code",
   "execution_count": 10,
   "id": "c6afb019",
   "metadata": {
    "code_folding": [
     0
    ]
   },
   "outputs": [],
   "source": [
    "eng_prefixes = (\n",
    "    \"i am \", \"i m \",\n",
    "    \"he is\", \"he s \",\n",
    "    \"she is\", \"she s \",\n",
    "    \"you are\", \"you re \",\n",
    "    \"we are\", \"we re \",\n",
    "    \"they are\", \"they re \")"
   ]
  },
  {
   "cell_type": "code",
   "execution_count": 11,
   "id": "4a0563e8",
   "metadata": {},
   "outputs": [
    {
     "name": "stdout",
     "output_type": "stream",
     "text": [
      "Reading lines...\n",
      "Read 135842 sentence pairs\n",
      "\n",
      "Trimmed to 10599 sentence pairs\n",
      "\n",
      "Counting words...\n",
      "Counted words:\n",
      "fra 4345\n",
      "eng 2803 \n",
      "\n",
      "['il est tres fier de sa moto trafiquee .', 'he s very proud of his custom motorcycle .']\n"
     ]
    }
   ],
   "source": [
    "input_lang, output_lang, pairs = prepareData('eng', 'fra', True)\n",
    "print(random.choice(pairs))"
   ]
  },
  {
   "cell_type": "markdown",
   "id": "c9d35444",
   "metadata": {},
   "source": [
    "#### Training Functions"
   ]
  },
  {
   "cell_type": "code",
   "execution_count": 12,
   "id": "7c67983c",
   "metadata": {
    "code_folding": [
     0,
     14,
     17
    ]
   },
   "outputs": [],
   "source": [
    "#Training Preparation Functions\n",
    "def indexesFromSentence(lang, sentence):\n",
    "    return [lang.word2index[word] for word in sentence.split(' ')]\n",
    "\n",
    "def tensorFromSentence(lang, sentence):\n",
    "    indexes = indexesFromSentence(lang, sentence)\n",
    "    indexes.append(EOS_token)\n",
    "    return torch.tensor(indexes, dtype=torch.long, device=device).view(-1,1)\n",
    "\n",
    "def tensorsFromPair(pair):\n",
    "    input_tensor = tensorFromSentence(input_lang,pair[0])\n",
    "    target_tensor = tensorFromSentence(output_lang, pair[1])\n",
    "    return (input_tensor, target_tensor)\n",
    "\n",
    "def asMinutes(s):\n",
    "    return '%dm %ds' % (s//60, s%60)\n",
    "\n",
    "def timeSince(since, percent):\n",
    "    now = time.time()\n",
    "    s = now - since\n",
    "    es = s/percent\n",
    "    rs = es - s\n",
    "    return '%s (est: %s)' % (asMinutes(s), asMinutes(rs))"
   ]
  },
  {
   "cell_type": "markdown",
   "id": "971aa366",
   "metadata": {},
   "source": [
    "#### Evaluating Functions"
   ]
  },
  {
   "cell_type": "code",
   "execution_count": 13,
   "id": "542145d0",
   "metadata": {
    "code_folding": [
     0,
     32
    ]
   },
   "outputs": [],
   "source": [
    "def evaluate(encoder, decoder, sentence, max_length=MAX_LENGTH):\n",
    "    with torch.no_grad():\n",
    "        input_tensor = tensorFromSentence(input_lang, sentence)\n",
    "        input_length = input_tensor.size()[0]\n",
    "        encoder_hidden = encoder.initHidden()\n",
    "        encoder_outputs = torch.zeros(max_length, encoder.hidden_size, device=device)\n",
    "        \n",
    "        for ei in range(input_length):\n",
    "            encoder_output, encoder_hidden = encoder(input_tensor[ei],\n",
    "                                                    encoder_hidden)\n",
    "            encoder_outputs[ei] += encoder_output[0, 0]\n",
    "            \n",
    "        decoder_input = torch.tensor([[SOS_token]], device=device)\n",
    "        decoder_hidden = encoder_hidden\n",
    "        decoded_words = []\n",
    "        decoder_attentions = torch.zeros(max_length, max_length)\n",
    "        \n",
    "        for di in range(max_length):\n",
    "            decoder_output, decoder_hidden, decoder_attention = decoder(\n",
    "                decoder_input, decoder_hidden, encoder_outputs)\n",
    "            decoder_attentions[di] = decoder_attention.data\n",
    "            topv, topi = decoder_output.data.topk(1)\n",
    "            if topi.item() == EOS_token:\n",
    "                decoded_words.append('<EOS>')\n",
    "                break\n",
    "            else:\n",
    "                decoded_words.append(output_lang.index2word[topi.item()])\n",
    "            decoder_input = topi.squeeze().detach()\n",
    "            \n",
    "        return decoded_words, decoder_attentions[:di+1]\n",
    "\n",
    "    \n",
    "def evaluateRandomly(encoder, decoder, n=10) -> None:\n",
    "    for i in range(n):\n",
    "        pair = random.choice(pairs)\n",
    "        print('>', pair[0])\n",
    "        print('=', pair[1])\n",
    "        output_words, attentions = evaluate(encoder, decoder, pair[0])\n",
    "        output_sentence = ' '.join(output_words)\n",
    "        print('<', output_sentence)\n",
    "        print('')\n",
    "    return None"
   ]
  },
  {
   "cell_type": "markdown",
   "id": "1baae9bb",
   "metadata": {},
   "source": [
    "### Reloading the Model"
   ]
  },
  {
   "cell_type": "code",
   "execution_count": 14,
   "id": "4d017821",
   "metadata": {},
   "outputs": [
    {
     "name": "stdout",
     "output_type": "stream",
     "text": [
      "Hidden_size: 256\n",
      "Input language name: fra\n",
      "Output language name: eng\n"
     ]
    }
   ],
   "source": [
    "with open(f'{input_lang.name}_{output_lang.name}_meta.txt', 'r') as f:\n",
    "    fileContents = f.read()\n",
    "    f.close()\n",
    "   \n",
    "fileContents = [lineRead.split(' ') for lineRead in fileContents.split('\\n')]\n",
    "fileContents.pop() #removes empty end line\n",
    "\n",
    "for descript, value in fileContents:\n",
    "    match descript:\n",
    "        case 'hidden_size:':\n",
    "            hidden_size = int(value)\n",
    "            print(f\"Hidden_size: {hidden_size}\")\n",
    "        case 'input_lang.n_words:':\n",
    "            assert input_lang.n_words == int(value)\n",
    "            print(f\"Input language name: {input_lang.name}\")\n",
    "        case 'output_lang.n_words:':\n",
    "            print(f\"Output language name: {output_lang.name}\")\n",
    "            assert output_lang.n_words == int(value)\n",
    "        case 'Attn_additional: dropout_p=':\n",
    "            dropout_pVal = int(value)\n",
    "            print(f\"droppit_pVal: {dropout_pVal}\")\n",
    "        case _:\n",
    "            continue"
   ]
  },
  {
   "cell_type": "code",
   "execution_count": 15,
   "id": "14b234a8",
   "metadata": {},
   "outputs": [
    {
     "data": {
      "text/plain": [
       "EncoderRNN(\n",
       "  (embedding): Embedding(4345, 256)\n",
       "  (gru): GRU(256, 256)\n",
       ")"
      ]
     },
     "execution_count": 15,
     "metadata": {},
     "output_type": "execute_result"
    }
   ],
   "source": [
    "encoderReload = EncoderRNN(input_lang.n_words, hidden_size)\n",
    "encoderReload.load_state_dict(torch.load(f'encoder_{input_lang.name}_{output_lang.name}_weights.pth'))\n",
    "encoderReload.eval()"
   ]
  },
  {
   "cell_type": "code",
   "execution_count": 16,
   "id": "7f159d5b",
   "metadata": {},
   "outputs": [
    {
     "data": {
      "text/plain": [
       "AttnDecoderRNN(\n",
       "  (embedding): Embedding(2803, 256)\n",
       "  (attn): Linear(in_features=512, out_features=10, bias=True)\n",
       "  (attn_combine): Linear(in_features=512, out_features=256, bias=True)\n",
       "  (dropout): Dropout(p=0.1, inplace=False)\n",
       "  (gru): GRU(256, 256)\n",
       "  (out): Linear(in_features=256, out_features=2803, bias=True)\n",
       ")"
      ]
     },
     "execution_count": 16,
     "metadata": {},
     "output_type": "execute_result"
    }
   ],
   "source": [
    "attn_decoderReload = AttnDecoderRNN(hidden_size, output_lang.n_words,\n",
    "                               dropout_p=0.1)\n",
    "attn_decoderReload.load_state_dict(torch.load(f'attn_decoder_{input_lang.name}_{output_lang.name}_weights.pth'))\n",
    "attn_decoderReload.eval()"
   ]
  },
  {
   "cell_type": "markdown",
   "id": "53b599d5",
   "metadata": {},
   "source": [
    "### Reload Test"
   ]
  },
  {
   "cell_type": "code",
   "execution_count": 17,
   "id": "b178b014",
   "metadata": {},
   "outputs": [
    {
     "name": "stdout",
     "output_type": "stream",
     "text": [
      "> tu es intrepide .\n",
      "= you re fearless .\n",
      "< you re fearless . <EOS>\n",
      "\n",
      "> je suis tellement malade .\n",
      "= i am so sick .\n",
      "< i m so sick . <EOS>\n",
      "\n",
      "> il est tres honnete .\n",
      "= he is very honest .\n",
      "< he is very honest . <EOS>\n",
      "\n",
      "> il est tres courageux .\n",
      "= he is very brave .\n",
      "< he is very brave . <EOS>\n",
      "\n",
      "> j y suis habitue .\n",
      "= i m accustomed to this .\n",
      "< i m used to it . <EOS>\n",
      "\n",
      "> on va bien rigoler .\n",
      "= we re gonna have a lot of fun .\n",
      "< we re getting out . <EOS>\n",
      "\n",
      "> on n est jamais trop vieux pour apprendre .\n",
      "= you re never too old to learn .\n",
      "< you re never too old to learn . <EOS>\n",
      "\n",
      "> je suis retenue en otage .\n",
      "= i m being held hostage .\n",
      "< i m being held hostage . <EOS>\n",
      "\n",
      "> je suis en train de perdre mon temps .\n",
      "= i am wasting my time .\n",
      "< i m wasting my time . <EOS>\n",
      "\n",
      "> je ne sais pas bien nager .\n",
      "= i am poor at swimming .\n",
      "< i m in a afraid . <EOS>\n",
      "\n"
     ]
    }
   ],
   "source": [
    "evaluateRandomly(encoderReload, attn_decoderReload)"
   ]
  },
  {
   "cell_type": "code",
   "execution_count": 18,
   "id": "5737f765",
   "metadata": {},
   "outputs": [
    {
     "name": "stdout",
     "output_type": "stream",
     "text": [
      "> il agit en son nom propre .\n",
      "= he is acting on his own behalf .\n",
      "< he is acting on his own . <EOS>\n",
      "\n",
      "> il exerce sur elle du chantage .\n",
      "= she is being blackmailed by him .\n",
      "< he is at it all him . <EOS>\n",
      "\n",
      "> je ne suis pas sure d aimer ca .\n",
      "= i m not sure i like this .\n",
      "< i m not sure i like this . <EOS>\n",
      "\n",
      "> vous en etes en partie responsables .\n",
      "= you are in part responsible for it .\n",
      "< you are in part responsible for it . <EOS>\n",
      "\n",
      "> vous etes tres drole .\n",
      "= you re very funny .\n",
      "< you re very funny . <EOS>\n",
      "\n",
      "> je suis fatiguee de boston .\n",
      "= i m tired of boston .\n",
      "< i m tired of boston . <EOS>\n",
      "\n",
      "> je suis affame et assoiffe .\n",
      "= i m hungry and thirsty .\n",
      "< i m hungry and thirsty . <EOS>\n",
      "\n",
      "> je suis pret a mourir .\n",
      "= i am ready to die .\n",
      "< i am ready to die . <EOS>\n",
      "\n",
      "> je sur reagis .\n",
      "= i m overreacting .\n",
      "< i m kidding . <EOS>\n",
      "\n",
      "> elle est toujours soigneusement habillee .\n",
      "= she is always neatly dressed .\n",
      "< she is always neatly dressed . <EOS>\n",
      "\n"
     ]
    }
   ],
   "source": [
    "evaluateRandomly(encoderReload, attn_decoderReload)"
   ]
  },
  {
   "cell_type": "code",
   "execution_count": 19,
   "id": "581fcc37",
   "metadata": {
    "scrolled": true
   },
   "outputs": [
    {
     "name": "stdout",
     "output_type": "stream",
     "text": [
      "{0: 'SOS', 1: 'EOS', 2: 'j', 3: 'ai', 4: 'ans', 5: '.', 6: 'je', 7: 'vais', 8: 'bien', 9: 'ca', 10: 'va', 11: 'suis', 12: 'gras', 13: 'gros', 14: 'en', 15: 'forme', 16: 'touche', 17: '!', 18: 'touchee', 19: 'malade', 20: 'triste', 21: 'timide', 22: 'mouille', 23: 'mouillee', 24: 'il', 25: 'est', 26: 'revenu', 27: 'me', 28: 'revoila', 29: 'chauve', 30: 'occupe', 31: 'occupee', 32: 'calme', 33: 'froid', 34: 'fini', 35: 'tout', 36: 'libre', 37: 'disponible', 38: 'repu', 39: 'rassasie', 40: 'content', 41: 'chez', 42: 'moi', 43: 'retard', 44: 'paresseux', 45: 'faineant', 46: 'paresseuse', 47: 'faineante', 48: 'porte', 49: 'securite', 50: 'certain', 51: 'sur', 52: 'sure', 53: 'grande', 54: 'mince', 55: 'ordonne', 56: 'ordonnee', 57: 'laid', 58: 'laide', 59: 'faible', 60: 'vieux', 61: 'dj', 62: 'bon', 63: 'riche', 64: 'ici', 65: 'flic', 66: 'un', 67: 'homme', 68: 'seule', 69: 'seul', 70: 'arme', 71: 'armee', 72: 'reveille', 73: 'aveugle', 74: 'fauche', 75: 'fou', 76: 'folle', 77: 'gueri', 78: 'guerie', 79: 'saoul', 80: 'soul', 81: 'ivre', 82: 'meurs', 83: 'avance', 84: 'premier', 85: 'difficile', 86: 'tatillon', 87: 'tatillonne', 88: 'pars', 89: 'maintenant', 90: 'tire', 91: 'y', 92: 'loyal', 93: 'loyale', 94: 'veinard', 95: 'veinarde', 96: 'du', 97: 'pot', 98: 'chanceux', 99: 'chanceuse', 100: 'train', 101: 'de', 102: 'mentir', 103: 'tranquille', 104: 'prete', 105: 'pret', 106: 'raison', 107: 'sobre', 108: 'excuse', 109: 'desole', 110: 'desolee', 111: 'coincee', 112: 'fatigue', 113: 'dur', 114: 'dure', 115: 'a', 116: 'cuire', 117: 'toi', 118: 'vous', 119: 'elle', 120: 'chaude', 121: 'tres', 122: 'attirante', 123: 'nous', 124: 'avons', 125: 'chaud', 126: 'sommes', 127: 'tristes', 128: 'timides', 129: 'faire', 130: 'gentil', 131: 'pauvre', 132: 'suisse', 133: 'helvete', 134: 'ruine', 135: 'intelligent', 136: 'humain', 137: 'creve', 138: 'francais', 139: 'coreen', 140: 'heros', 141: 'menteur', 142: 'cuis', 143: 'mieux', 144: 'paie', 145: 'c', 146: 'qui', 147: 'grassouillet', 148: 'grassouillette', 149: 'mange', 150: 'connu', 151: 'connue', 152: 'plus', 153: 'rapide', 154: 'flasque', 155: 'cupide', 156: 'gourmand', 157: 'gourmande', 158: 'cache', 159: 'honnete', 160: 'humble', 161: 'faim', 162: 'immunise', 163: 'immunisee', 164: 'au', 165: 'lit', 166: 'alite', 167: 'alitee', 168: 'rigole', 169: 'sens', 170: 'perdre', 171: 'demenager', 172: 'normal', 173: 'normale', 174: 'payer', 175: 'repose', 176: 'reposee', 177: 'ruinee', 178: 'remue', 179: 'remuee', 180: 'celibataire', 181: 'maigrichon', 182: 'maigrichonne', 183: 'sommeil', 184: 'sournois', 185: 'sournoise', 186: 'strict', 187: 'stricte', 188: 'fort', 189: 'forte', 190: 'trente', 191: 'affaiblie', 192: 'vieille', 193: 'gentille', 194: 'des', 195: 'hommes', 196: 'retour', 197: 'occupes', 198: 'occupees', 199: 'termine', 200: 'quittes', 201: 'allons', 202: 'la', 203: 'perdus', 204: 'perdues', 205: 'riches', 206: 'on', 207: 'foutu', 208: 'foutus', 209: 'faibles', 210: 'tu', 211: 'es', 212: 'vilain', 213: 'grand', 214: 'etes', 215: 'grands', 216: 'grandes', 217: 't', 218: 'marrante', 219: 'marrant', 220: 'vieilles', 221: 'huit', 222: 'hai', 223: 'mechant', 224: 'jeune', 225: 'beau', 226: 'mec', 227: 'gosse', 228: 'type', 229: 'binoclard', 230: 'flemmard', 231: 'endormi', 232: 'arrive', 233: 'd', 234: 'arriver', 235: 'pleurer', 236: 'simule', 237: 'blinde', 238: 'pete', 239: 'thune', 240: 'plein', 241: 'aux', 242: 'as', 243: 'mon', 244: 'age', 245: 'n', 246: 'pas', 247: 'lui', 248: 'l', 249: 'interieur', 250: 'cuisinier', 251: 'moine', 252: 'plaisante', 253: 'egalement', 254: 'dix', 255: 'sept', 256: 'finlandais', 257: 'finlandaise', 258: 'italien', 259: 'boulanger', 260: 'boulangere', 261: 'fait', 262: 'honte', 263: 'maison', 264: 'dans', 265: 'perplexe', 266: 'beni', 267: 'benie', 268: 'prudent', 269: 'prudente', 270: 'les', 271: 'foies', 272: 'chocottes', 273: 'curieux', 274: 'curieuse', 275: 'danser', 276: 'regime', 277: 'conduire', 278: 'conduis', 279: 'fiance', 280: 'fiancee', 281: 'excite', 282: 'excitee', 283: 'fais', 284: 'diete', 285: 'meticuleux', 286: 'meticuleuse', 287: 'affole', 288: 'affolee', 289: 'furieux', 290: 'bonne', 291: 'sante', 292: 'fredonne', 293: 'jalouse', 294: 'frousse', 295: 'marie', 296: 'mariee', 297: 'ne', 298: 'une', 299: 'idiote', 300: 'service', 301: 'patiente', 302: 'patient', 303: 'populaire', 304: 'remonte', 305: 'voyant', 306: 'voyante', 307: 'lis', 308: 'detendu', 309: 'detendue', 310: 'retraite', 311: 'retraitee', 312: 'pensionne', 313: 'pensionnee', 314: 'egoiste', 315: 'serieux', 316: 'choque', 317: 'choquee', 318: 'sincere', 319: 'bourre', 320: 'bourree', 321: 'tellement', 322: 'estomac', 323: 'talons', 324: 'dalle', 325: 'crocs', 326: 'reste', 327: 'gave', 328: 'gavee', 329: 'sidere', 330: 'sideree', 331: 'discuter', 332: 'taquine', 333: 'soif', 334: 'trop', 335: 'mecontent', 336: 'mecontente', 337: 'schcoumoune', 338: 'fortune', 339: 'fortunee', 340: 'gagne', 341: 'emporte', 342: 'travailler', 343: 'souci', 344: 'charme', 345: 'morte', 346: 'enfoiree', 347: 'renard', 348: 'ils', 349: 'sont', 350: 'mauvais', 351: 'elles', 352: 'mauvaises', 353: 'egalite', 354: 'seuls', 355: 'seules', 356: 'colere', 357: 'armes', 358: 'armees', 359: 'ennuyons', 360: 's', 361: 'emmerde', 362: 'fauches', 363: 'fauchees', 364: 'mourir', 365: 'heureux', 366: 'pretes', 367: 'sauves', 368: 'sauvees', 369: 'intelligents', 370: 'intelligentes', 371: 'desoles', 372: 'desolees', 373: 'coinces', 374: 'coincees', 375: 'fatigues', 376: 'fatiguees', 377: 'jumeaux', 378: 'jumelles', 379: 'sympa', 380: 'decontracte', 381: 'juste', 382: 'justes', 383: 'vas', 384: 'libres', 385: 'bons', 386: 'bonnes', 387: 'paresseuses', 388: 'perdu', 389: 'perdue', 390: 'sympas', 391: 'dingue', 392: 'dingues', 393: 'givre', 394: 'givree', 395: 'givres', 396: 'givrees', 397: 'grossier', 398: 'grossiers', 399: 'grossiere', 400: 'grossieres', 401: 'sauf', 402: 'saufs', 403: 'sauve', 404: 'minces', 405: 'poete', 406: 'excentrique', 407: 'manger', 408: 'heroique', 409: 'anglais', 410: 'bigot', 411: 'sectaire', 412: 'fanatique', 413: 'illumine', 414: 'souffre', 415: 'actuellement', 416: 'exterieur', 417: 'si', 418: 'mignon', 419: 'couard', 420: 'lache', 421: 'medecin', 422: 'toubib', 423: 'fermier', 424: 'agriculteur', 425: 'travaille', 426: 'ma', 427: 'ferme', 428: 'puriste', 429: 'drogue', 430: 'accro', 431: 'assuetude', 432: 'ouie', 433: 'adulte', 434: 'agent', 435: 'saigner', 436: 'melange', 437: 'pinceaux', 438: 'creatif', 439: 'creative', 440: 'cultive', 441: 'cultivee', 442: 'divorce', 443: 'divorcee', 444: 'noyer', 445: 'fidele', 446: 'affame', 447: 'intrepide', 448: 'bats', 449: 'gele', 450: 'cloue', 451: 'clouee', 452: 'credule', 453: 'le', 454: 'mal', 455: 'pays', 456: 'gueule', 457: 'bois', 458: 'paris', 459: 'innocent', 460: 'innocente', 461: 'ingenu', 462: 'ingenue', 463: 'implique', 464: 'impliquee', 465: 'm', 466: 'sors', 467: 'nouveau', 468: 'rebelle', 469: 'saint', 470: 'sainte', 471: 'sourd', 472: 'sourde', 473: 'abruti', 474: 'abrutie', 475: 'blesse', 476: 'blessee', 477: 'mechante', 478: 'certaine', 479: 'offense', 480: 'offensee', 481: 'indigne', 482: 'indignee', 483: 'puissant', 484: 'puissante', 485: 'preparee', 486: 'prepare', 487: 'ponctuel', 488: 'ponctuelle', 489: 'rationnel', 490: 'rationnelle', 491: 'amende', 492: 'amendee', 493: 'fiable', 494: 'tiens', 495: 'place', 496: 'impitoyable', 497: 'dormir', 498: 'las', 499: 'parler', 500: 'fringale', 501: 'tetu', 502: 'tetue', 503: 'obstine', 504: 'obstinee', 505: 'patron', 506: 'patronne', 507: 'reflechis', 508: 'minutieux', 509: 'minutieuse', 510: 'consciencieux', 511: 'consciencieuse', 512: 'ravi', 513: 'ravie', 514: 'chatouilleux', 515: 'chatouilleuse', 516: 'affaire', 517: 'affairee', 518: 'dis', 519: 'verite', 520: 'impartial', 521: 'impartiale', 522: 'dessus', 523: 'epuise', 524: 'chancarde', 525: 'tranchante', 526: 'affutee', 527: 'tort', 528: 'ce', 529: 'garcons', 530: 'froids', 531: 'froides', 532: 'flics', 533: 'mignons', 534: 'mignonnes', 535: 'decedes', 536: 'decedees', 537: 'ont', 538: 'partis', 539: 'parties', 540: 'miens', 541: 'miennes', 542: 'arabes', 543: 'equipe', 544: 'adultes', 545: 'tous', 546: 'guerre', 547: 'notre', 548: 'point', 549: 'vue', 550: 'biaise', 551: 'prejuges', 552: 'achetons', 553: 'fermes', 554: 'venons', 555: 'sortons', 556: 'ensemble', 557: 'condamnes', 558: 'cachons', 559: 'plaisantons', 560: 'perdons', 561: 'bouger', 562: 'normaux', 563: 'normales', 564: 'creves', 565: 'crevees', 566: 'ruines', 567: 'ruinees', 568: 'remues', 569: 'remuees', 570: 'sournoises', 571: 'forts', 572: 'fortes', 573: 'essayons', 574: 'joues', 575: 'chef', 576: 'cruelle', 577: 'cruel', 578: 'cruelles', 579: 'cruels', 580: 'viens', 581: 'tot', 582: 'matinal', 583: 'matinale', 584: 'vire', 585: 'licencie', 586: 'passes', 587: 'marrants', 588: 'marrantes', 589: 'manieres', 590: 'faites', 591: 'malpoli', 592: 'mens', 593: 'mentez', 594: 'lunatique', 595: 'naif', 596: 'naive', 597: 'naifs', 598: 'naives', 599: 'idiot', 600: 'idiots', 601: 'idiotes', 602: 'plante', 603: 'plantee', 604: 'plantes', 605: 'plantees', 606: 'durs', 607: 'dures', 608: 'contrariee', 609: 'contrarie', 610: 'bizarre', 611: 'bizarres', 612: 'erreur', 613: 'jeunes', 614: 'britannique', 615: 'voleur', 616: 'genre', 617: 'sorti', 618: 'lire', 619: 'court', 620: 'patin', 621: 'patine', 622: 'rouspeteur', 623: 'jesuite', 624: 'aine', 625: 'ancien', 626: 'magnat', 627: 'adorable', 628: 'derriere', 629: 'apres', 630: 'mes', 631: 'fesses', 632: 'poursuit', 633: 'embetant', 634: 'tokyo', 635: 'peu', 636: 'manque', 637: 'confiance', 638: 'sans', 639: 'pitie', 640: 'etudie', 641: 'etudier', 642: 'lent', 643: 'ton', 644: 'fils', 645: 'votre', 646: 'americain', 647: 'americaine', 648: 'japonais', 649: 'musulman', 650: 'musulmane', 651: 'coureur', 652: 'diabetique', 653: 'etudiant', 654: 'professeur', 655: 'enseignante', 656: 'adapte', 657: 'peur', 658: 'toute', 659: 'ambitieuse', 660: 'ambitieux', 661: 'artiste', 662: 'orphelin', 663: 'attentive', 664: 'attentif', 665: 'belle', 666: 'preoccupe', 667: 'preoccupee', 668: 'voila', 669: 'satisfait', 670: 'satisfaite', 671: 'convaincu', 672: 'deprime', 673: 'desespere', 674: 'desesperee', 675: 'differente', 676: 'degoute', 677: 'degoutee', 678: 'facile', 679: 'vivre', 680: 'epuisee', 681: 'vanne', 682: 'vannee', 683: 'fourbu', 684: 'crevee', 685: 'distrait', 686: 'distraite', 687: 'etourdi', 688: 'etourdie', 689: 'tom', 690: 'ur', 691: 'impatient', 692: 'impatiente', 693: 'important', 694: 'impressionnee', 695: 'impulsif', 696: 'impulsive', 697: 'boston', 698: 'danger', 699: 'intrigue', 700: 'intriguee', 701: 'cela', 702: 'ecoute', 703: 'motivee', 704: 'motive', 705: 'expert', 706: 'partie', 707: 'ses', 708: 'admirateurs', 709: 'leurs', 710: 'rends', 711: 'heureuse', 712: 'contente', 713: 'obese', 714: 'petite', 715: 'fatiguee', 716: 'observateur', 717: 'observatrice', 718: 'respectueux', 719: 'respectueuse', 720: 'chemin', 721: 'route', 722: 'desarme', 723: 'desarmee', 724: 'realiste', 725: 'eprouve', 726: 'ressentiment', 727: 'endurant', 728: 'endurante', 729: 'tenace', 730: 'non', 731: 'sensible', 732: 'surpris', 733: 'surprise', 734: 'survis', 735: 'terrifie', 736: 'terrifiee', 737: 'assure', 738: 'assuree', 739: 'vote', 740: 'tombe', 741: 'francaise', 742: 'jumelle', 743: 'active', 744: 'pleure', 745: 'beaute', 746: 'mannequin', 747: 'super', 748: 'asiatiques', 749: 'vie', 750: 'eveilles', 751: 'eveillees', 752: 'courageux', 753: 'courageuses', 754: 'yeux', 755: 'propres', 756: 'fous', 757: 'folles', 758: 'saouls', 759: 'saoules', 760: 'heureuses', 761: 'mentent', 762: 'petits', 763: 'petites', 764: 'espions', 765: 'espionnes', 766: 'formons', 767: 'groupe', 768: 'anxieux', 769: 'perplexes', 770: 'prudents', 771: 'prudentes', 772: 'certains', 773: 'certaines', 774: 'cousines', 775: 'fiances', 776: 'faisons', 777: 'amis', 778: 'amies', 779: 'aimons', 780: 'amoureux', 781: 'amoureuses', 782: 'veinards', 783: 'veinardes', 784: 'souffrons', 785: 'synchronises', 786: 'synchronisees', 787: 'ville', 788: 'jalouses', 789: 'maries', 790: 'detendus', 791: 'detendues', 792: 'serieuses', 793: 'choques', 794: 'choquees', 795: 'sinceres', 796: 'coulons', 797: 'couler', 798: 'bourres', 799: 'bourrees', 800: 'speciaux', 801: 'arret', 802: 'affames', 803: 'affamees', 804: 'restons', 805: 'gaves', 806: 'gavees', 807: 'sideres', 808: 'siderees', 809: 'touches', 810: 'touchees', 811: 'pieges', 812: 'piegees', 813: 'satisfaits', 814: 'satisfaites', 815: 'malchanceux', 816: 'malchanceuses', 817: 'inutiles', 818: 'attendre', 819: 'gagneurs', 820: 'gagner', 821: 'malin', 822: 'avez', 823: 'amour', 824: 'menteuse', 825: 'snob', 826: 'partiale', 827: 'partial', 828: 'ennuyez', 829: 'ennuies', 830: 'brillant', 831: 'brillante', 832: 'brillants', 833: 'brillantes', 834: 'maline', 835: 'malins', 836: 'malines', 837: 'ruse', 838: 'rusee', 839: 'ruses', 840: 'rusees', 841: 'astucieux', 842: 'astucieuse', 843: 'sinistre', 844: 'sinistres', 845: 'connus', 846: 'connues', 847: 'avide', 848: 'avides', 849: 'bougon', 850: 'bougonne', 851: 'grognon', 852: 'plaisantes', 853: 'plaisantez', 854: 'fric', 855: 'pleine', 856: 'drole', 857: 'jolie', 858: 'maigrichonnes', 859: 'maigrichons', 860: 'endormie', 861: 'endormis', 862: 'endormies', 863: 'injuste', 864: 'canadien', 865: 'genie', 866: 'ecrivain', 867: 'acteur', 868: 'faillite', 869: 'oncle', 870: 'ouvert', 871: 'sociable', 872: 'extraverti', 873: 'quelque', 874: 'joueur', 875: 'desormais', 876: 'planque', 877: 'auteur', 878: 'detenu', 879: 'hors', 880: 'loi', 881: 'harcele', 882: 'se', 883: 'trouve', 884: 'prison', 885: 'ami', 886: 'rend', 887: 'hongrois', 888: 'garcon', 889: 'touriste', 890: 'londres', 891: 'petrin', 892: 'endroit', 893: 'conge', 894: 'aujourd', 895: 'hui', 896: 'petit', 897: 'musicien', 898: 'musicienne', 899: 'quelqu', 900: 'vrai', 901: 'vendeur', 902: 'que', 903: 'crains', 904: 'contre', 905: 'maladroit', 906: 'vieil', 907: 'stupefait', 908: 'stupefaite', 909: 'utilise', 910: 'contagieux', 911: 'contagieuse', 912: 'mort', 913: 'deshydrate', 914: 'deshydratee', 915: 'peut', 916: 'compter', 917: 'aneanti', 918: 'aneantie', 919: 'bas', 920: 'entrainer', 921: 'vois', 922: 'loin', 923: 'fascine', 924: 'fascinee', 925: 'te', 926: 'kyoto', 927: 'retourne', 928: 'deviens', 929: 'aussi', 930: 'amuse', 931: 'analphabete', 932: 'voiture', 933: 'interesse', 934: 'interessee', 935: 'seulement', 936: 'simplement', 937: 'the', 938: 'mediter', 939: 'methodique', 940: 'baisse', 941: 'facilement', 942: 'bras', 943: 'abandonne', 944: 'amer', 945: 'amere', 946: 'grincheux', 947: 'grincheuse', 948: 'coupable', 949: 'blague', 950: 'raciste', 951: 'suffisamment', 952: 'vacances', 953: 'conges', 954: 'entre', 955: 'optimiste', 956: 'essence', 957: 'vraiment', 958: 'raisonnable', 959: 'reamenager', 960: 'quelle', 961: 'poisse', 962: 'toujours', 963: 'encore', 964: 'succes', 965: 'tueur', 966: 'deshabille', 967: 'devets', 968: 'chomage', 969: 'talent', 970: 'depourvu', 971: 'depourvue', 972: 'habitue', 973: 'accoutume', 974: 'habituee', 975: 'vegetarienne', 976: 'eveille', 977: 'eveillee', 978: 'infirmiere', 979: 'maladroite', 980: 'exprimer', 981: 'fille', 982: 'bombe', 983: 'canon', 984: 'ange', 985: 'enceinte', 986: 'attend', 987: 'evenement', 988: 'famille', 989: 'bruyante', 990: 'parle', 991: 'ennuient', 992: 'bebes', 993: 'ennuyeux', 994: 'ennuyeuses', 995: 'arrivent', 996: 'prets', 997: 'toutes', 998: 'couple', 999: 'completement', 1000: 'freres', 1001: 'divorces', 1002: 'echapper', 1003: 'battre', 1004: 'reconnaissants', 1005: 'reconnaissantes', 1006: 'impuissants', 1007: 'impuissantes', 1008: 'ouverts', 1009: 'ouvertes', 1010: 'surs', 1011: 'sures', 1012: 'obeissants', 1013: 'obeissantes', 1014: 'partenaires', 1015: 'puissants', 1016: 'puissantes', 1017: 'ponctuels', 1018: 'ponctuelles', 1019: 'abandonnons', 1020: 'fiables', 1021: 'partons', 1022: 'pension', 1023: 'impitoyables', 1024: 'debout', 1025: 'mourons', 1026: 'tetus', 1027: 'tetues', 1028: 'etudiants', 1029: 'meilleurs', 1030: 'meilleures', 1031: 'derniers', 1032: 'dernieres', 1033: 'pareils', 1034: 'pareilles', 1035: 'cretins', 1036: 'attardes', 1037: 'mentaux', 1038: 'stupide', 1039: 'puritain', 1040: 'puritaine', 1041: 'incroyable', 1042: 'incroyables', 1043: 'marrer', 1044: 'genial', 1045: 'geniale', 1046: 'insensible', 1047: 'insaisissable', 1048: 'tatillons', 1049: 'tatillonnes', 1050: 'imprudent', 1051: 'imprudente', 1052: 'imprudents', 1053: 'imprudentes', 1054: 'invites', 1055: 'invitees', 1056: 'invite', 1057: 'invitee', 1058: 'marcher', 1059: 'aucune', 1060: 'aide', 1061: 'grosse', 1062: 'grosses', 1063: 'conviens', 1064: 'convenez', 1065: 'precis', 1066: 'precise', 1067: 'remontee', 1068: 'egoistes', 1069: 'mechants', 1070: 'mechantes', 1071: 'professionnel', 1072: 'prie', 1073: 'avec', 1074: 'plaisir', 1075: 'rien', 1076: 'gagnes', 1077: 'gagnez', 1078: 'emportes', 1079: 'emportez', 1080: 'reveur', 1081: 'peintre', 1082: 'medium', 1083: 'enseignant', 1084: 'instituteur', 1085: 'paye', 1086: 'ment', 1087: 'comedien', 1088: 'membre', 1089: 'fraternite', 1090: 'etudiante', 1091: 'bizuth', 1092: 'bleu', 1093: 'jardinier', 1094: 'venu', 1095: 'lambin', 1096: 'lourdaud', 1097: 'gaucher', 1098: 'devient', 1099: 'epoux', 1100: 'associe', 1101: 'compagnon', 1102: 'partenaire', 1103: 'photogenique', 1104: 'egypte', 1105: 'barre', 1106: 'barree', 1107: 'azeri', 1108: 'tele', 1109: 'emeche', 1110: 'emechee', 1111: 'etranger', 1112: 'femme', 1113: 'foyer', 1114: 'masochiste', 1115: 'oiseau', 1116: 'nuit', 1117: 'peux', 1118: 'courir', 1119: 'sais', 1120: 'skier', 1121: 'presque', 1122: 'quasiment', 1123: 'aventureuse', 1124: 'ingenieur', 1125: 'travail', 1126: 'supplie', 1127: 'capte', 1128: 'comprends', 1129: 'fete', 1130: 'arrose', 1131: 'lave', 1132: 'daltonien', 1133: 'aise', 1134: 'cooperer', 1135: 'craque', 1136: 'gene', 1137: 'abattu', 1138: 'abattue', 1139: 'bresil', 1140: 'originaire', 1141: 'france', 1142: 'turquie', 1143: 'zambie', 1144: 'commence', 1145: 'devenir', 1146: 'vieillis', 1147: 'applique', 1148: 'appliquee', 1149: 'brise', 1150: 'pour', 1151: 'vaincre', 1152: 'presse', 1153: 'pressee', 1154: 'derange', 1155: 'introverti', 1156: 'introvertie', 1157: 'myope', 1158: 'anglaise', 1159: 'enfant', 1160: 'escroc', 1161: 'ivrogne', 1162: 'robot', 1163: 'voleuse', 1164: 'alarme', 1165: 'dispute', 1166: 'nerveux', 1167: 'nerveuse', 1168: 'parfait', 1169: 'parfaite', 1170: 'malheureux', 1171: 'malheureuse', 1172: 'blaguer', 1173: 'munitions', 1174: 'persevere', 1175: 'plutot', 1176: 'assez', 1177: 'aller', 1178: 'partir', 1179: 'remplacable', 1180: 'ressources', 1181: 'marre', 1182: 'confus', 1183: 'spontanee', 1184: 'spontane', 1185: 'tel', 1186: 'compassion', 1187: 'capitaine', 1188: 'chirurgien', 1189: 'ras', 1190: 'bol', 1191: 'sincerement', 1192: 'ambition', 1193: 'convaincue', 1194: 'loup', 1195: 'modeste', 1196: 'regarder', 1197: 'television', 1198: 'amie', 1199: 'avocat', 1200: 'ta', 1201: 'canadienne', 1202: 'japonaise', 1203: 'coureuse', 1204: 'chanteuse', 1205: 'dactylographe', 1206: 'dactylo', 1207: 'gracieuse', 1208: 'assurance', 1209: 'deprimee', 1210: 'passe', 1211: 'baraka', 1212: 'acteurs', 1213: 'melons', 1214: 'animaux', 1215: 'disputer', 1216: 'cousins', 1217: 'medecins', 1218: 'nerveuses', 1219: 'partent', 1220: 'vont', 1221: 'dehors', 1222: 'similaires', 1223: 'semblables', 1224: 'sourient', 1225: 'speciales', 1226: 'restent', 1227: 'parlent', 1228: 'grasses', 1229: 'enseignants', 1230: 'enseignantes', 1231: 'regardons', 1232: 'canadiens', 1233: 'canadiennes', 1234: 'flexibles', 1235: 'ambitieuses', 1236: 'disponibles', 1237: 'deux', 1238: 'comediens', 1239: 'engages', 1240: 'engagees', 1241: 'devoues', 1242: 'devouees', 1243: 'deprimes', 1244: 'differents', 1245: 'differentes', 1246: 'reparer', 1247: 'flattes', 1248: 'jardiniers', 1249: 'gentilshommes', 1250: 'charge', 1251: 'dirigeons', 1252: 'ecoutons', 1253: 'nouveaux', 1254: 'venus', 1255: 'nouvelles', 1256: 'venues', 1257: 'imbeciles', 1258: 'chichis', 1259: 'rendons', 1260: 'contents', 1261: 'contentes', 1262: 'depasse', 1263: 'prisonniers', 1264: 'prisonnieres', 1265: 'realistes', 1266: 'demissionnons', 1267: 'endurants', 1268: 'endurantes', 1269: 'sensibles', 1270: 'separees', 1271: 'separes', 1272: 'surprises', 1273: 'survivons', 1274: 'survivants', 1275: 'survivantes', 1276: 'nos', 1277: 'scores', 1278: 'serres', 1279: 'proches', 1280: 'assures', 1281: 'assurees', 1282: 'apparentes', 1283: 'apparentees', 1284: 'heroine', 1285: 'vilaine', 1286: 'comme', 1287: 'mignonne', 1288: 'celui', 1289: 'elu', 1290: 'celle', 1291: 'elue', 1292: 'adorables', 1293: 'finis', 1294: 'finies', 1295: 'chiant', 1296: 'chiante', 1297: 'arrogant', 1298: 'arrogante', 1299: 'arrogants', 1300: 'arrogantes', 1301: 'rougis', 1302: 'negligent', 1303: 'negligente', 1304: 'charmant', 1305: 'charmante', 1306: 'charmantes', 1307: 'charmants', 1308: 'triches', 1309: 'trichez', 1310: 'embrouilles', 1311: 'creatifs', 1312: 'creatives', 1313: 'dement', 1314: 'deloyal', 1315: 'deloyale', 1316: 'deloyales', 1317: 'deloyaux', 1318: 'fideles', 1319: 'intrepides', 1320: 'pardonne', 1321: 'pardonnee', 1322: 'pardonnes', 1323: 'pardonnees', 1324: 'terre', 1325: 'hideuses', 1326: 'hideux', 1327: 'trompez', 1328: 'trompes', 1329: 'ennemi', 1330: 'morts', 1331: 'mortes', 1332: 'malades', 1333: 'pathetique', 1334: 'pathetiques', 1335: 'agite', 1336: 'agitee', 1337: 'autoritaire', 1338: 'difficiles', 1339: 'gentils', 1340: 'gentilles', 1341: 'temporises', 1342: 'temporisez', 1343: 'entete', 1344: 'entetee', 1345: 'talentueux', 1346: 'talentueuse', 1347: 'talentueuses', 1348: 'meilleur', 1349: 'meilleure', 1350: 'bruyant', 1351: 'bruyants', 1352: 'bruyantes', 1353: 'lente', 1354: 'lents', 1355: 'lentes', 1356: 'acrobate', 1357: 'lune', 1358: 'son', 1359: 'pyjama', 1360: 'soucis', 1361: 'problemes', 1362: 'ennuis', 1363: 'qu', 1364: 'frere', 1365: 'jamais', 1366: 'apprecie', 1367: 'tenancier', 1368: 'bar', 1369: 'niais', 1370: 'adore', 1371: 'chats', 1372: 'gentleman', 1373: 'historien', 1374: 'fumeur', 1375: 'deuxieme', 1376: 'annee', 1377: 'cote', 1378: 'grippe', 1379: 'meme', 1380: 'classe', 1381: 'coup', 1382: 'foudre', 1383: 'esprit', 1384: 'ces', 1385: 'pauvres', 1386: 'types', 1387: 'inconscient', 1388: 'observe', 1389: 'pere', 1390: 'volontaire', 1391: 'cuisine', 1392: 'moment', 1393: 'russie', 1394: 'frire', 1395: 'poisson', 1396: 'temps', 1397: 'payee', 1398: 'semaine', 1399: 'relativement', 1400: 'vingt', 1401: 'cinq', 1402: 'cousin', 1403: 'employe', 1404: 'banque', 1405: 'solitaire', 1406: 'gars', 1407: 'fondu', 1408: 'photo', 1409: 'nager', 1410: 'desoriente', 1411: 'desorientee', 1412: 'deja', 1413: 'mauvaise', 1414: 'humeur', 1415: 'ambidextre', 1416: 'plage', 1417: 'emplois', 1418: 'postes', 1419: 'changer', 1420: 'poste', 1421: 'tes', 1422: 'cotes', 1423: 'vos', 1424: 'paume', 1425: 'decu', 1426: 'dejeune', 1427: 'colle', 1428: 'flippe', 1429: 'amerique', 1430: 'croatie', 1431: 'angleterre', 1432: 'roumanie', 1433: 'coucher', 1434: 'instant', 1435: 'scolarise', 1436: 'scolarisee', 1437: 'garde', 1438: 'grenier', 1439: 'tue', 1440: 'ainsi', 1441: 'dire', 1442: 'different', 1443: 'mendiant', 1444: 'docteur', 1445: 'serieuse', 1446: 'frime', 1447: 'rever', 1448: 'extravertie', 1449: 'paranoiaque', 1450: 'idees', 1451: 'reagis', 1452: 'fier', 1453: 'glandes', 1454: 'essaye', 1455: 'benevolat', 1456: 'pianiste', 1457: 'sage', 1458: 'fachee', 1459: 'russes', 1460: 'disputent', 1461: 'artistes', 1462: 'chanteurs', 1463: 'faux', 1464: 'fausses', 1465: 'disparu', 1466: 'droles', 1467: 'temporiser', 1468: 'etudiantes', 1469: 'eleves', 1470: 'traitres', 1471: 'tantinet', 1472: 'celibataires', 1473: 'uniques', 1474: 'stupefaits', 1475: 'exploite', 1476: 'copains', 1477: 'reduisons', 1478: 'voilure', 1479: 'pigeons', 1480: 'retournons', 1481: 'arriere', 1482: 'descendons', 1483: 'vers', 1484: 'ouest', 1485: 'moitie', 1486: 'amusons', 1487: 'fac', 1488: 'controlons', 1489: 'situation', 1490: 'sauveteurs', 1491: 'acheter', 1492: 'fricotons', 1493: 'coupables', 1494: 'besoin', 1495: 'voix', 1496: 'connaissons', 1497: 'reussite', 1498: 'cernes', 1499: 'decoller', 1500: 'proprietaires', 1501: 'deshabillons', 1502: 'deshabiller', 1503: 'emploi', 1504: 'depourvus', 1505: 'depourvues', 1506: 'enfants', 1507: 'fabuleux', 1508: 'fabuleuse', 1509: 'splendide', 1510: 'impossible', 1511: 'incorrigible', 1512: 'responsable', 1513: 'responsables', 1514: 'arrives', 1515: 'tard', 1516: 'arrivez', 1517: 'traitre', 1518: 'traitresse', 1519: 'allez', 1520: 'comprendre', 1521: 'savez', 1522: 'beaux', 1523: 'belles', 1524: 'suffisant', 1525: 'suffisante', 1526: 'suffisants', 1527: 'suffisantes', 1528: 'courtois', 1529: 'courtoise', 1530: 'courtoises', 1531: 'epuises', 1532: 'epuisees', 1533: 'oublieux', 1534: 'oublieuse', 1535: 'chance', 1536: 'chanceuses', 1537: 'chanteur', 1538: 'mourant', 1539: 'viree', 1540: 'vires', 1541: 'virees', 1542: 'odieux', 1543: 'odieuse', 1544: 'odieuses', 1545: 'observation', 1546: 'pouvoir', 1547: 'tenaces', 1548: 'frissonnes', 1549: 'bavard', 1550: 'bavarde', 1551: 'bavards', 1552: 'bavardes', 1553: 'tendu', 1554: 'tendue', 1555: 'tendus', 1556: 'tendues', 1557: 'immoral', 1558: 'immorale', 1559: 'chouette', 1560: 'chouettes', 1561: 'ouverte', 1562: 'avise', 1563: 'avisee', 1564: 'sages', 1565: 'avises', 1566: 'avisees', 1567: 'merveilleux', 1568: 'merveilleuse', 1569: 'merveilleuses', 1570: 'mangeur', 1571: 'biologiste', 1572: 'brave', 1573: 'casse', 1574: 'cou', 1575: 'detective', 1576: 'dramaturge', 1577: 'monsieur', 1578: 'physicien', 1579: 'taiseux', 1580: 'scientifique', 1581: 'doit', 1582: 'avoir', 1583: 'quarantaine', 1584: 'bureau', 1585: 'tirer', 1586: 'cas', 1587: 'espoir', 1588: 'affaires', 1589: 'incompetent', 1590: 'influent', 1591: 'vivant', 1592: 'fache', 1593: 'instruit', 1594: 'irrealiste', 1595: 'regarde', 1596: 'tv', 1597: 'journaliste', 1598: 'mordu', 1599: 'cinema', 1600: 'parti', 1601: 'alle', 1602: 'cycle', 1603: 'endette', 1604: 'jusqu', 1605: 'georgie', 1606: 'mouise', 1607: 'vient', 1608: 'air', 1609: 'et', 1610: 'met', 1611: 'poches', 1612: 'fourre', 1613: 'fouilles', 1614: 'ramasse', 1615: 'argent', 1616: 'pelle', 1617: 'prend', 1618: 'oseille', 1619: 'dort', 1620: 'profondement', 1621: 'anges', 1622: 'confiant', 1623: 'etre', 1624: 'aime', 1625: 'rendre', 1626: 'pain', 1627: 'maths', 1628: 'debiteur', 1629: 'debitrice', 1630: 'personne', 1631: 'nouvel', 1632: 'nouvelle', 1633: 'eleve', 1634: 'vraie', 1635: 'loque', 1636: 'ennuie', 1637: 'agee', 1638: 'ecole', 1639: 'merci', 1640: 'conscient', 1641: 'consciente', 1642: 'terriblement', 1643: 'attention', 1644: 'montre', 1645: 'patience', 1646: 'concentrer', 1647: 'cours', 1648: 'concentration', 1649: 'devoir', 1650: 'penser', 1651: 'extremement', 1652: 'tete', 1653: 'tourne', 1654: 'abasourdi', 1655: 'bulgarie', 1656: 'colombie', 1657: 'rejouis', 1658: 'sauter', 1659: 'irremplacable', 1660: 'supposer', 1661: 'perds', 1662: 'poids', 1663: 'maigris', 1664: 'joueuse', 1665: 'monstre', 1666: 'pratique', 1667: 'divination', 1668: 'devin', 1669: 'telepathe', 1670: 'soldat', 1671: 'institutrice', 1672: 'indisponible', 1673: 'gobe', 1674: 'dangereux', 1675: 'impressionne', 1676: 'pieces', 1677: 'panique', 1678: 'persuade', 1679: 'persuadee', 1680: 'entraineur', 1681: 'bebe', 1682: 'servante', 1683: 'deborde', 1684: 'partout', 1685: 'sorte', 1686: 'sceptique', 1687: 'attends', 1688: 'prendre', 1689: 'bain', 1690: 'voisin', 1691: 'debutante', 1692: 'novice', 1693: 'agressive', 1694: 'asociale', 1695: 'niaise', 1696: 'coriace', 1697: 'mode', 1698: 'argument', 1699: 'hyperactive', 1700: 'massives', 1701: 'massifs', 1702: 'regardent', 1703: 'menteurs', 1704: 'menteuses', 1705: 'cannibales', 1706: 'dangereuses', 1707: 'onereux', 1708: 'onereuses', 1709: 'chics', 1710: 'intacts', 1711: 'intactes', 1712: 'australiens', 1713: 'australiennes', 1714: 'camarades', 1715: 'rire', 1716: 'mariees', 1717: 'laches', 1718: 'retraites', 1719: 'retraitees', 1720: 'fetons', 1721: 'cooperons', 1722: 'defenses', 1723: 'experience', 1724: 'disposons', 1725: 'nord', 1726: 'sud', 1727: 'occuper', 1728: 'charger', 1729: 'derangeons', 1730: 'journalistes', 1731: 'habilles', 1732: 'habillees', 1733: 'tueurs', 1734: 'tueuses', 1735: 'parfaits', 1736: 'parfaites', 1737: 'sourire', 1738: 'bienvenus', 1739: 'bienvenues', 1740: 'clous', 1741: 'biere', 1742: 'lait', 1743: 'vin', 1744: 'perseverons', 1745: 'retirons', 1746: 'pleins', 1747: 'prenons', 1748: 'controle', 1749: 'ascendant', 1750: 'rejouons', 1751: 'probleme', 1752: 'dignes', 1753: 'actrices', 1754: 'importants', 1755: 'importantes', 1756: 'importante', 1757: 'prisonnier', 1758: 'agressif', 1759: 'exprimes', 1760: 'exprimez', 1761: 'courageuse', 1762: 'degoutant', 1763: 'degoutante', 1764: 'degoutants', 1765: 'degoutantes', 1766: 'tues', 1767: 'tuez', 1768: 'surmene', 1769: 'surmenee', 1770: 'surmenees', 1771: 'surmenes', 1772: 'productif', 1773: 'productive', 1774: 'productifs', 1775: 'productives', 1776: 'remarquable', 1777: 'cerne', 1778: 'cernees', 1779: 'cernee', 1780: 'maitre', 1781: 'maitresse', 1782: 'doyen', 1783: 'doyenne', 1784: 'ainee', 1785: 'poli', 1786: 'polie', 1787: 'polis', 1788: 'polies', 1789: 'maigre', 1790: 'maigres', 1791: 'braves', 1792: 'vif', 1793: 'vive', 1794: 'vifs', 1795: 'vives', 1796: 'intelligente', 1797: 'craintif', 1798: 'craintive', 1799: 'craintifs', 1800: 'craintives', 1801: 'peureux', 1802: 'peureuse', 1803: 'peureuses', 1804: 'contraries', 1805: 'contrariees', 1806: 'conducteur', 1807: 'poissonnier', 1808: 'perdant', 1809: 'environ', 1810: 'pres', 1811: 'article', 1812: 'boire', 1813: 'dejeuner', 1814: 'camarade', 1815: 'collegue', 1816: 'radio', 1817: 'joue', 1818: 'golf', 1819: 'venir', 1820: 'borne', 1821: 'soigneux', 1822: 'erudit', 1823: 'jaloux', 1824: 'creationiste', 1825: 'marcheur', 1826: 'sale', 1827: 'critique', 1828: 'gastronomique', 1829: 'negre', 1830: 'gardien', 1831: 'but', 1832: 'methamphetamines', 1833: 'etrange', 1834: 'aristocrate', 1835: 'approche', 1836: 'rapproche', 1837: 'concret', 1838: 'cartes', 1839: 'douche', 1840: 'bougre', 1841: 'notres', 1842: 'unique', 1843: 'frole', 1844: 'cinquante', 1845: 'independant', 1846: 'bouc', 1847: 'emissaire', 1848: 'flexible', 1849: 'enseigner', 1850: 'musique', 1851: 'portugal', 1852: 'shizuoka', 1853: 'griller', 1854: 'difficulte', 1855: 'jardin', 1856: 'monde', 1857: 'voisine', 1858: 'apprends', 1859: 'vite', 1860: 'rouille', 1861: 'photographe', 1862: 'mais', 1863: 'chauves', 1864: 'souris', 1865: 'chiens', 1866: 'harceler', 1867: 'promu', 1868: 'promue', 1869: 'puni', 1870: 'punie', 1871: 'preuve', 1872: 'saigne', 1873: 'gravement', 1874: 'achete', 1875: 'chiot', 1876: 'claustrophobe', 1877: 'suite', 1878: 'juillet', 1879: 'compte', 1880: 'eau', 1881: 'dimanche', 1882: 'singapour', 1883: 'prends', 1884: 'remets', 1885: 'detendre', 1886: 'ski', 1887: 'ecouter', 1888: '?', 1889: 'baignoire', 1890: 'peine', 1891: 'commencer', 1892: 'tcheque', 1893: 'laisse', 1894: 'libere', 1895: 'special', 1896: 'particulier', 1897: 'criminel', 1898: 'criminelle', 1899: 'magicien', 1900: 'lubies', 1901: 'nie', 1902: 'invincible', 1903: 'surpoids', 1904: 'saoule', 1905: 'ennemie', 1906: 'incontrolable', 1907: 'demarrer', 1908: 'embarrasse', 1909: 'embarrassee', 1910: 'excusez', 1911: 'sous', 1912: 'choc', 1913: 'soudainement', 1914: 'soutiens', 1915: 'double', 1916: 'enthousiasme', 1917: 'usage', 1918: 'cette', 1919: 'tasse', 1920: 'utiliser', 1921: 'beaucoup', 1922: 'ecrire', 1923: 'bouquin', 1924: 'pietre', 1925: 'cuisiniere', 1926: 'aider', 1927: 'embrasser', 1928: 'pieds', 1929: 'dedans', 1930: 'inconsciente', 1931: 'elite', 1932: 'alcoolique', 1933: 'fruits', 1934: 'extenues', 1935: 'extenuees', 1936: 'bienveillants', 1937: 'bienveillantes', 1938: 'chretiens', 1939: 'illets', 1940: 'jetables', 1941: 'dessous', 1942: 'mots', 1943: 'furieuses', 1944: 'viennent', 1945: 'font', 1946: 'gens', 1947: 'infectes', 1948: 'infectees', 1949: 'memes', 1950: 'effort', 1951: 'bientot', 1952: 'ecrivains', 1953: 'conservateurs', 1954: 'contribuons', 1955: 'decues', 1956: 'entretien', 1957: 'penetrer', 1958: 'essayer', 1959: 'mi', 1960: 'miel', 1961: 'gardons', 1962: 'bibliotheque', 1963: 'battons', 1964: 'impliques', 1965: 'impliquees', 1966: 'soldats', 1967: 'stock', 1968: 'reagissons', 1969: 'horaire', 1970: 'serre', 1971: 'enfuyons', 1972: 'ralentir', 1973: 'attaques', 1974: 'attaquees', 1975: 'excites', 1976: 'excitees', 1977: 'portons', 1978: 'volontaires', 1979: 'insupportable', 1980: 'regardes', 1981: 'regardez', 1982: 'nounours', 1983: 'zozo', 1984: 'specimen', 1985: 'gamin', 1986: 'racistes', 1987: 'enerves', 1988: 'evites', 1989: 'evitez', 1990: 'prevenant', 1991: 'prevenante', 1992: 'cooperez', 1993: 'extravertis', 1994: 'extraverties', 1995: 'fascinante', 1996: 'fascinantes', 1997: 'fascinant', 1998: 'fascinants', 1999: 'branche', 2000: 'branchee', 2001: 'branches', 2002: 'branchees', 2003: 'princesse', 2004: 'contusionne', 2005: 'contusionnee', 2006: 'contusionnes', 2007: 'contusionnees', 2008: 'habille', 2009: 'habillee', 2010: 'aides', 2011: 'aidez', 2012: 'liste', 2013: 'ecoule', 2014: 'remplacer', 2015: 'indispensable', 2016: 'pitoyable', 2017: 'vivants', 2018: 'vivante', 2019: 'vivantes', 2020: 'inexperimente', 2021: 'sacre', 2022: 'quel', 2023: 'sacree', 2024: 'prof', 2025: 'touchez', 2026: 'rouge', 2027: 'devenez', 2028: 'astucieuses', 2029: 'ingenieux', 2030: 'ingenieuse', 2031: 'habile', 2032: 'habiles', 2033: 'ingenieuses', 2034: 'direct', 2035: 'directe', 2036: 'directes', 2037: 'solitaires', 2038: 'travailleur', 2039: 'taille', 2040: 'tendance', 2041: 'oublier', 2042: 'rugby', 2043: 'religieux', 2044: 'kilos', 2045: 'probablement', 2046: 'promenade', 2047: 'dit', 2048: 'mensonge', 2049: 'nettoie', 2050: 'chapeau', 2051: 'cardiologue', 2052: 'invetere', 2053: 'embrasse', 2054: 'tardivement', 2055: 'maturite', 2056: 'electron', 2057: 'scenariste', 2058: 'actif', 2059: 'inconditionnel', 2060: 'opera', 2061: 'comporte', 2062: 'etrangement', 2063: 'correctement', 2064: 'faut', 2065: 'auparavant', 2066: 'merde', 2067: 'cinquantaine', 2068: 'probable', 2069: 'vienne', 2070: 'electricien', 2071: 'nouilles', 2072: 'rejoindre', 2073: 'morphee', 2074: 'mere', 2075: 'eplucher', 2076: 'pommes', 2077: 'mediocre', 2078: 'tennis', 2079: 'livre', 2080: 'fois', 2081: 'entendre', 2082: 'debutant', 2083: 'dors', 2084: 'perfectionniste', 2085: 'social', 2086: 'travailleuse', 2087: 'sociale', 2088: 'etrangere', 2089: 'sortir', 2090: 'programme', 2091: 'lessive', 2092: 'paille', 2093: 'pomme', 2094: 'marier', 2095: 'voir', 2096: 'enchante', 2097: 'rencontrer', 2098: 'ayons', 2099: 'vu', 2100: 'voyage', 2101: 'sciences', 2102: 'chant', 2103: 'vetements', 2104: 'incroyablement', 2105: 'dette', 2106: 'envers', 2107: 'apprendre', 2108: 'basque', 2109: 'soir', 2110: 'vis', 2111: 'reve', 2112: 'progres', 2113: 'presente', 2114: 'excuses', 2115: 'blame', 2116: 'reviens', 2117: 'plains', 2118: 'accorde', 2119: 'decourage', 2120: 'decouragee', 2121: 'moindre', 2122: 'douleur', 2123: 'intimide', 2124: 'intimidee', 2125: 'quitte', 2126: 'serail', 2127: 'leur', 2128: 'bande', 2129: 'presentable', 2130: 'fiere', 2131: 'client', 2132: 'parfaitement', 2133: 'bout', 2134: 'souffle', 2135: 'legerement', 2136: 'oublie', 2137: 'inquiet', 2138: 'indecis', 2139: 'coince', 2140: 'boulot', 2141: 'leger', 2142: 'essaie', 2143: 'frustre', 2144: 'frustree', 2145: 'tour', 2146: 'ecris', 2147: 'roman', 2148: 'capable', 2149: 'moulin', 2150: 'parole', 2151: 'elevee', 2152: 'peau', 2153: 'noire', 2154: 'gateaux', 2155: 'nature', 2156: 'bienveillante', 2157: 'eux', 2158: 'blamer', 2159: 'mineure', 2160: 'nee', 2161: 'blonde', 2162: 'concierge', 2163: 'commere', 2164: 'ravissante', 2165: 'veritable', 2166: 'ete', 2167: 'empoisonnee', 2168: 'volonte', 2169: 'chretiennes', 2170: 'voleurs', 2171: 'voleuses', 2172: 'attendent', 2173: 'pretent', 2174: 'moches', 2175: 'nes', 2176: 'impressionnes', 2177: 'impressionnees', 2178: 'temoins', 2179: 'milieu', 2180: 'observes', 2181: 'fermons', 2182: 'consciencieuses', 2183: 'enfin', 2184: 'approchons', 2185: 'arrivons', 2186: 'commencons', 2187: 'fatiguer', 2188: 'chasse', 2189: 'comptons', 2190: 'abandonner', 2191: 'etrangers', 2192: 'demain', 2193: 'cafe', 2194: 'jouer', 2195: 'fiers', 2196: 'fieres', 2197: 'tentons', 2198: 'diable', 2199: 'inquiets', 2200: 'acariatre', 2201: 'incorrigibles', 2202: 'irresistible', 2203: 'saignes', 2204: 'saignez', 2205: 'tiree', 2206: 'tirees', 2207: 'tires', 2208: 'sec', 2209: 'bibine', 2210: 'maree', 2211: 'basse', 2212: 'sucre', 2213: 'dramatises', 2214: 'dramatisez', 2215: 'maniere', 2216: 'excessive', 2217: 'reagissez', 2218: 'empoisonnes', 2219: 'empoisonnez', 2220: 'impatients', 2221: 'impatientes', 2222: 'dragueurs', 2223: 'dragueuses', 2224: 'dragueuse', 2225: 'confiante', 2226: 'confiants', 2227: 'confiantes', 2228: 'curieuses', 2229: 'effrontee', 2230: 'effronte', 2231: 'effrontees', 2232: 'effrontes', 2233: 'serviable', 2234: 'serviables', 2235: 'elegante', 2236: 'elegant', 2237: 'elegantes', 2238: 'elegants', 2239: 'gaspillez', 2240: 'gaspilles', 2241: 'travailles', 2242: 'travaillez', 2243: 'orateur', 2244: 'nageur', 2245: 'bel', 2246: 'acerbe', 2247: 'foi', 2248: 'emmerdeur', 2249: 'longueur', 2250: 'inconnu', 2251: 'respire', 2252: 'soixante', 2253: 'cool', 2254: 'mesure', 2255: 'energie', 2256: 'foot', 2257: 'satisfaire', 2258: 'propre', 2259: 'pareil', 2260: 'sa', 2261: 'cookies', 2262: 'precieux', 2263: 'sauvage', 2264: 'trompe', 2265: 'gants', 2266: 'influence', 2267: 'informaticien', 2268: 'boutonneux', 2269: 'maniaque', 2270: 'celebre', 2271: 'boule', 2272: 'nerfs', 2273: 'nerveusement', 2274: 'use', 2275: 'parleur', 2276: 'baratineur', 2277: 'follement', 2278: 'epris', 2279: 'cancer', 2280: 'poumons', 2281: 'grave', 2282: 'loupe', 2283: 'coche', 2284: 'demi', 2285: 'bateau', 2286: 'offert', 2287: 'assistance', 2288: 'domicile', 2289: 'pitre', 2290: 'chaise', 2291: 'protecteur', 2292: 'ours', 2293: 'contraint', 2294: 'vets', 2295: 'prudemment', 2296: 'dessin', 2297: 'conte', 2298: 'histoire', 2299: 'peser', 2300: 'citoyen', 2301: 'citoyenne', 2302: 'windows', 2303: 'complet', 2304: 'blond', 2305: 'naturel', 2306: 'voler', 2307: 'projet', 2308: 'allergique', 2309: 'disposition', 2310: 'attiree', 2311: 'par', 2312: 'repris', 2313: 'business', 2314: 'appelle', 2315: 'verifie', 2316: 'possibilites', 2317: 'fermer', 2318: 'depends', 2319: 'vaisselle', 2320: 'appel', 2321: 'fil', 2322: 'confuse', 2323: 'stresse', 2324: 'stressee', 2325: 'repare', 2326: 'chose', 2327: 'engage', 2328: 'engagee', 2329: 'ait', 2330: 'aies', 2331: 'rencontre', 2332: 'soyez', 2333: 'sois', 2334: 'serai', 2335: 'universite', 2336: 'revenue', 2337: 'rentre', 2338: 'pratiquement', 2339: 'soirs', 2340: 'sauver', 2341: 'amoureuse', 2342: 'galere', 2343: 'autre', 2344: 'cherche', 2345: 'bonhomme', 2346: 'neige', 2347: 'truc', 2348: 'vegetarien', 2349: 'moins', 2350: 'demens', 2351: 'invente', 2352: 'epouser', 2353: 'enfuis', 2354: 'asseoir', 2355: 'rester', 2356: 'empeche', 2357: 'porter', 2358: 'serviteur', 2359: 'souvent', 2360: 'poursuites', 2361: 'engager', 2362: 'combattre', 2363: 'degourdi', 2364: 'degourdie', 2365: 'blesses', 2366: 'blessees', 2367: 'epouvantable', 2368: 'math', 2369: 'embrouille', 2370: 'embrouillee', 2371: 'utile', 2372: 'film', 2373: 'inquiete', 2374: 'lettre', 2375: 'fan', 2376: 'danseuse', 2377: 'patiner', 2378: 'sport', 2379: 'rang', 2380: 'hostile', 2381: 'vit', 2382: 'souper', 2383: 'diner', 2384: 'reves', 2385: 'copine', 2386: 'heure', 2387: 'saute', 2388: 'corde', 2389: 'ventre', 2390: 'ooita', 2391: 'livres', 2392: 'emotive', 2393: 'approchent', 2394: 'urs', 2395: 'courent', 2396: 'peuvent', 2397: 'chanter', 2398: 'capables', 2399: 'touristes', 2400: 'tenter', 2401: 'trouver', 2402: 'constituent', 2403: 'menace', 2404: 'regles', 2405: 'intimes', 2406: 'radins', 2407: 'envoient', 2408: 'onze', 2409: 'mangerons', 2410: 'heures', 2411: 'tonneau', 2412: 'aneantis', 2413: 'aneanties', 2414: 'vulnerables', 2415: 'sang', 2416: 'claustrophobes', 2417: 'rapprochons', 2418: 'devenons', 2419: 'rechauffons', 2420: 'entrons', 2421: 'courses', 2422: 'emplettes', 2423: 'combattrons', 2424: 'montons', 2425: 'eclate', 2426: 'subissons', 2427: 'rafale', 2428: 'vent', 2429: 'tabac', 2430: 'visite', 2431: 'recession', 2432: 'barbares', 2433: 'evacuer', 2434: 'interesses', 2435: 'interessees', 2436: 'terroristes', 2437: 'habitues', 2438: 'habituees', 2439: 'ennemis', 2440: 'ennemies', 2441: 'balles', 2442: 'protegeons', 2443: 'mineurs', 2444: 'mineures', 2445: 'dernier', 2446: 'japonaises', 2447: 'etat', 2448: 'arrestation', 2449: 'bienvenue', 2450: 'mangez', 2451: 'allemand', 2452: 'gare', 2453: 'file', 2454: 'gares', 2455: 'garees', 2456: 'garee', 2457: 'comptes', 2458: 'nombre', 2459: 'suspects', 2460: 'comptez', 2461: 'dirige', 2462: 'dirigez', 2463: 'ecoutez', 2464: 'ecoutes', 2465: 'premiere', 2466: 'ordonnes', 2467: 'ordonnees', 2468: 'opportuniste', 2469: 'opportunistes', 2470: 'laisses', 2471: 'dominer', 2472: 'emotions', 2473: 'laissez', 2474: 'foutez', 2475: 'grandir', 2476: 'imbecile', 2477: 'lunatiques', 2478: 'fantasque', 2479: 'fantasques', 2480: 'inoubliable', 2481: 'inoubliables', 2482: 'genereux', 2483: 'genereuse', 2484: 'genereuses', 2485: 'farceur', 2486: 'heroino', 2487: 'dependant', 2488: 'fossile', 2489: 'vision', 2490: 'tireur', 2491: 'gate', 2492: 'pourri', 2493: 'soupcon', 2494: 'craint', 2495: 'officier', 2496: 'plaire', 2497: 'chante', 2498: 'salle', 2499: 'toilettes', 2500: 'amateur', 2501: 'pensees', 2502: 'proche', 2503: 'intime', 2504: 'ordinaire', 2505: 'egard', 2506: 'etait', 2507: 'ligne', 2508: 'frimeur', 2509: 'reussir', 2510: 'incapable', 2511: 'laver', 2512: 'lunettes', 2513: 'notoire', 2514: 'serpents', 2515: 'allergie', 2516: 'oceanographe', 2517: 'absent', 2518: 'maquis', 2519: 'moque', 2520: 'apprend', 2521: 'chinois', 2522: 'forces', 2523: 'force', 2524: 'suspect', 2525: 'distant', 2526: 'parents', 2527: 'plie', 2528: 'robe', 2529: 'reconnaissant', 2530: 'recolter', 2531: 'ble', 2532: 'comparer', 2533: 'danseur', 2534: 'vertige', 2535: 'araignees', 2536: 'expedients', 2537: 'restaurant', 2538: 'immediatement', 2539: 'devoirs', 2540: 'examen', 2541: 'redoute', 2542: 'apprehende', 2543: 'sandwich', 2544: 'echoue', 2545: 'japon', 2546: 'ayez', 2547: 'passer', 2548: 'blesser', 2549: 'manquer', 2550: 'tant', 2551: 'presenter', 2552: 'franc', 2553: 'franche', 2554: 'entrainement', 2555: 'incroyant', 2556: 'droguee', 2557: 'toxico', 2558: 'millionnaire', 2559: 'absolument', 2560: 'entierement', 2561: 'arreter', 2562: 'bagarrer', 2563: 'etroit', 2564: 'etroite', 2565: 'athletique', 2566: 'chaussettes', 2567: 'pause', 2568: 'jeu', 2569: 'televise', 2570: 'console', 2571: 'mecs', 2572: 'rarement', 2573: 'autant', 2574: 'hauteur', 2575: 'veux', 2576: 'meler', 2577: 'submerge', 2578: 'echecs', 2579: 'songe', 2580: 'faute', 2581: 'tienne', 2582: 'bruit', 2583: 'attirez', 2584: 'nageuse', 2585: 'fumer', 2586: 'apparentee', 2587: 'coud', 2588: 'eu', 2589: 'conne', 2590: 'elegamment', 2591: 'sortis', 2592: 'magasins', 2593: 'sorties', 2594: 'terrifies', 2595: 'terrifiees', 2596: 'chercher', 2597: 'criminels', 2598: 'criminelles', 2599: 'chers', 2600: 'cheres', 2601: 'suivre', 2602: 'jouent', 2603: 'mijotent', 2604: 'conneries', 2605: 'preparent', 2606: 'correctes', 2607: 'serons', 2608: 'egares', 2609: 'egarees', 2610: 'occupons', 2611: 'marions', 2612: 'aboutissons', 2613: 'nulle', 2614: 'part', 2615: 'exercer', 2616: 'gonzesse', 2617: 'chic', 2618: 'filles', 2619: 'chantes', 2620: 'chantez', 2621: 'paranoiaques', 2622: 'travers', 2623: 'approches', 2624: 'approchez', 2625: 'remettre', 2626: 'amusant', 2627: 'amusante', 2628: 'amusantes', 2629: 'amusants', 2630: 'analysez', 2631: 'analyses', 2632: 'geniales', 2633: 'geniaux', 2634: 'pense', 2635: 'previsible', 2636: 'previsibles', 2637: 'entres', 2638: 'trentaine', 2639: 'entrez', 2640: 'efficace', 2641: 'efficaces', 2642: 'emotives', 2643: 'emotifs', 2644: 'emotif', 2645: 'observateurs', 2646: 'observatrices', 2647: 'sceptiques', 2648: 'pire', 2649: 'naissance', 2650: 'competent', 2651: 'charpentier', 2652: 'gentilhomme', 2653: 'voit', 2654: 'borgne', 2655: 'jazz', 2656: 'tache', 2657: 'peinture', 2658: 'natation', 2659: 'meurtre', 2660: 'parmi', 2661: 'velo', 2662: 'lourd', 2663: 'reflechir', 2664: 'subalterne', 2665: 'agit', 2666: 'accroche', 2667: 'medicaments', 2668: 'mer', 2669: 'course', 2670: 'origine', 2671: 'asiatique', 2672: 'taupe', 2673: 'jetons', 2674: 'espionner', 2675: 'appuie', 2676: 'canne', 2677: 'soit', 2678: 'recherche', 2679: 'sait', 2680: 'digne', 2681: 'promener', 2682: 'ecrit', 2683: 'journal', 2684: 'brosse', 2685: 'dents', 2686: 'prochaine', 2687: 'demenage', 2688: 'mois', 2689: 'prochain', 2690: 'seize', 2691: 'quelques', 2692: 'minutes', 2693: 'chauffeur', 2694: 'taxi', 2695: 'familier', 2696: 'noir', 2697: 'obscurite', 2698: 'gluten', 2699: 'autorise', 2700: 'corps', 2701: 'aeroport', 2702: 'faits', 2703: 'risques', 2704: 'retenu', 2705: 'otage', 2706: 'retenue', 2707: 'vrac', 2708: 'venue', 2709: 'veniez', 2710: 'viennes', 2711: 'australie', 2712: 'honore', 2713: 'terrible', 2714: 'horrible', 2715: 'gamins', 2716: 'assoiffe', 2717: 'club', 2718: 'hate', 2719: 'cle', 2720: 'allonge', 2721: 'herbe', 2722: 'allongee', 2723: 'professionnelle', 2724: 'maligne', 2725: 'leve', 2726: 'matin', 2727: 'repondre', 2728: 'conteste', 2729: 'drague', 2730: 'question', 2731: 'bete', 2732: 'organise', 2733: 'organisee', 2734: 'payes', 2735: 'quand', 2736: 'reellement', 2737: 'rapport', 2738: 'assiduite', 2739: 'consciencieusement', 2740: 'rappeler', 2741: 'ordinateur', 2742: 'marche', 2743: 'soleil', 2744: 'sujet', 2745: 'cuisiner', 2746: 'apte', 2747: 'fraude', 2748: 'vol', 2749: 'habituellement', 2750: 'habitude', 2751: 'tenir', 2752: 'assise', 2753: 'seduisante', 2754: 'sorciere', 2755: 'rale', 2756: 'arrete', 2757: 'raler', 2758: 'mouvement', 2759: 'hotel', 2760: 'monopoly', 2761: 'cousue', 2762: 'or', 2763: 'joyeux', 2764: 'joyeuses', 2765: 'baquet', 2766: 'trousses', 2767: 'rendez', 2768: 'midi', 2769: 'decus', 2770: 'accord', 2771: 'carburant', 2772: 'travaillons', 2773: 'ufs', 2774: 'pouvons', 2775: 'divorcer', 2776: 'enquetons', 2777: 'apprenons', 2778: 'partirons', 2779: 'accoster', 2780: 'etudions', 2781: 'fouteur', 2782: 'fauteur', 2783: 'trouble', 2784: 'entendez', 2785: 'choses', 2786: 'entends', 2787: 'coherent', 2788: 'usee', 2789: 'medisant', 2790: 'mary', 2791: 'genez', 2792: 'mettez', 2793: 'genes', 2794: 'mets', 2795: 'rougir', 2796: 'cooperes', 2797: 'rapides', 2798: 'veut', 2799: 'courant', 2800: 'embetante', 2801: 'embetants', 2802: 'embetantes', 2803: 'magnifique', 2804: 'splendides', 2805: 'thesauriseur', 2806: 'manigances', 2807: 'attirant', 2808: 'attirants', 2809: 'attirantes', 2810: 'perspicace', 2811: 'perspicaces', 2812: 'gaspiller', 2813: 'compositeur', 2814: 'sympathique', 2815: 'medecine', 2816: 'champion', 2817: 'dessiner', 2818: 'image', 2819: 'desire', 2820: 'ardemment', 2821: 'couramment', 2822: 'aventure', 2823: 'deteste', 2824: 'canape', 2825: 'etendu', 2826: 'parait', 2827: 'semble', 2828: 'bord', 2829: 'chimie', 2830: 'grossit', 2831: 'respect', 2832: 'decede', 2833: 'hume', 2834: 'soupe', 2835: 'cheval', 2836: 'voyager', 2837: 'seduisant', 2838: 'etasunien', 2839: 'chinoise', 2840: 'tricheur', 2841: 'demande', 2842: 'hero', 2843: 'reussira', 2844: 'fusil', 2845: 'carabine', 2846: 'sort', 2847: 'moral', 2848: 'virer', 2849: 'adorer', 2850: 'calcul', 2851: 'dote', 2852: 'intelligence', 2853: 'desesperement', 2854: 'rumine', 2855: 'cadet', 2856: 'piste', 2857: 'danse', 2858: 'peindre', 2859: 'comprehensif', 2860: 'manteau', 2861: 'magazine', 2862: 'grimper', 2863: 'plait', 2864: 'connais', 2865: 'pleuve', 2866: 'decois', 2867: 'decevez', 2868: 'corvees', 2869: 'degouline', 2870: 'sueur', 2871: 'emotionnellement', 2872: 'vide', 2873: 'videe', 2874: 'recommencer', 2875: 'police', 2876: 'proteger', 2877: 'quoi', 2878: 'crois', 2879: 'pris', 2880: 'vertiges', 2881: 'adorent', 2882: 'partisan', 2883: 'prone', 2884: 'appartiens', 2885: 'pecheur', 2886: 'noms', 2887: 'excelle', 2888: 'suggestions', 2889: 'propositions', 2890: 'connaissance', 2891: 'combat', 2892: 'decue', 2893: 'nom', 2894: 'serieusement', 2895: 'semblant', 2896: 'somnolent', 2897: 'bus', 2898: 'dispose', 2899: 'rejouit', 2900: 'donner', 2901: 'abeille', 2902: 'vetue', 2903: 'blanc', 2904: 'epouse', 2905: 'verte', 2906: 'massacrante', 2907: 'tricote', 2908: 'echarpe', 2909: 'broche', 2910: 'championne', 2911: 'football', 2912: 'rechauffer', 2913: 'cles', 2914: 'chouchoute', 2915: 'inapte', 2916: 'ramassent', 2917: 'noisettes', 2918: 'salade', 2919: 'direction', 2920: 'rendent', 2921: 'cherchent', 2922: 'revenir', 2923: 'trouvent', 2924: 'autosuffisants', 2925: 'autosuffisantes', 2926: 'quatre', 2927: 'dejeunons', 2928: 'espagnol', 2929: 'lundi', 2930: 'convaincus', 2931: 'convaincues', 2932: 'desesperes', 2933: 'desesperees', 2934: 'parvenir', 2935: 'parlons', 2936: 'aveuglee', 2937: 'aveuglees', 2938: 'aveugles', 2939: 'rentrer', 2940: 'lieu', 2941: 'devez', 2942: 'dois', 2943: 'obsession', 2944: 'hypocrites', 2945: 'bloques', 2946: 'bloquez', 2947: 'conduisez', 2948: 'caches', 2949: 'cachez', 2950: 'imagines', 2951: 'imaginez', 2952: 'faciles', 2953: 'reussit', 2954: 'rates', 2955: 'ratez', 2956: 'bienvenu', 2957: 'effrayer', 2958: 'effraies', 2959: 'trois', 2960: 'ignorant', 2961: 'ignorante', 2962: 'ignorants', 2963: 'ignorantes', 2964: 'propriete', 2965: 'privee', 2966: 'pleines', 2967: 'caractere', 2968: 'typique', 2969: 'plaint', 2970: 'frais', 2971: 'emoulu', 2972: 'gymnastique', 2973: 'ouvrir', 2974: 'fenetre', 2975: 'tableau', 2976: 'sorcier', 2977: 'personnage', 2978: 'constamment', 2979: 'insatisfait', 2980: 'sublimement', 2981: 'eglise', 2982: 'sent', 2983: 'tassee', 2984: 'sera', 2985: 'choisi', 2986: 'frappe', 2987: 'chat', 2988: 'chatte', 2989: 'quitter', 2990: 'cet', 2991: 'interet', 2992: 'entraine', 2993: 'romantique', 2994: 'jeux', 2995: 'video', 2996: 'honnetete', 2997: 'desireux', 2998: 'echouer', 2999: 'enchantee', 3000: 'nourris', 3001: 'revoir', 3002: 'papa', 3003: 'raccrocher', 3004: 'pieuter', 3005: 'regretter', 3006: 'taire', 3007: 'songer', 3008: 'baigner', 3009: 'char', 3010: 'station', 3011: 'soin', 3012: 'portefeuille', 3013: 'realise', 3014: 'documentaire', 3015: 'locuteur', 3016: 'natif', 3017: 'violent', 3018: 'violente', 3019: 'demander', 3020: 'fantomes', 3021: 'enfreins', 3022: 'nettoyer', 3023: 'coin', 3024: 'hasard', 3025: 'parie', 3026: 'impliquer', 3027: 'entrerai', 3028: 'competition', 3029: 'vendrai', 3030: 'inspiree', 3031: 'excessif', 3032: 'vends', 3033: 'signe', 3034: 'aimer', 3035: 'claires', 3036: 'repentir', 3037: 'disposee', 3038: 'pardon', 3039: 'poser', 3040: 'apprecier', 3041: 'etonne', 3042: 'etonnee', 3043: 'telephone', 3044: 'bu', 3045: 'economiser', 3046: 'vaux', 3047: 'affreusement', 3048: 'cheveux', 3049: 'conseils', 3050: 'fauchee', 3051: 'decorative', 3052: 'determinee', 3053: 'tomber', 3054: 'raide', 3055: 'machine', 3056: 'enseigne', 3057: 'ombre', 3058: 'paupiere', 3059: 'hauts', 3060: 'mettent', 3061: 'paquet', 3062: 'compatibles', 3063: 'suivent', 3064: 'chanson', 3065: 'terrifiez', 3066: 'magasin', 3067: 'boutique', 3068: 'demenageons', 3069: 'jeans', 3070: 'rupture', 3071: 'commandement', 3072: 'inquietons', 3073: 'bercons', 3074: 'illusions', 3075: 'leurrons', 3076: 'presses', 3077: 'gaz', 3078: 'fierte', 3079: 'joie', 3080: 'indelicats', 3081: 'indelicates', 3082: 'indelicat', 3083: 'indelicate', 3084: 'individu', 3085: 'execrable', 3086: 'formidable', 3087: 'tarabuster', 3088: 'desobeis', 3089: 'ordres', 3090: 'desobeissez', 3091: 'pouvez', 3092: 'passez', 3093: 'saisis', 3094: 'saisissez', 3095: 'atmosphere', 3096: 'gachez', 3097: 'gaches', 3098: 'deformes', 3099: 'paroles', 3100: 'deformez', 3101: 'societe', 3102: 'quarante', 3103: 'cocaine', 3104: 'nuages', 3105: 'revasse', 3106: 'ecologiste', 3107: 'enseignement', 3108: 'tend', 3109: 'mettre', 3110: 'voisins', 3111: 'chambre', 3112: 'doutes', 3113: 'cause', 3114: 'surmenage', 3115: 'amical', 3116: 'lentement', 3117: 'qualite', 3118: 'accepte', 3119: 'causer', 3120: 'placard', 3121: 'penderie', 3122: 'enfreint', 3123: 'candidat', 3124: 'congres', 3125: 'lecture', 3126: 'agis', 3127: 'quatorze', 3128: 'habiller', 3129: 'pends', 3130: 'chemises', 3131: 'sienne', 3132: 'mienne', 3133: 'sien', 3134: 'habite', 3135: 'present', 3136: 'chateau', 3137: 'deranger', 3138: 'emploie', 3139: 'jours', 3140: 'ci', 3141: 'arroser', 3142: 'fleurs', 3143: 'inconditionnelle', 3144: 'lyceen', 3145: 'puisse', 3146: 'tremblements', 3147: 'pression', 3148: 'penses', 3149: 'pensez', 3150: 'fin', 3151: 'haricots', 3152: 'joins', 3153: 'fichiers', 3154: 'detester', 3155: 'ramene', 3156: 'pizza', 3157: 'demissionner', 3158: 'raccourcis', 3159: 'choix', 3160: 'decision', 3161: 'realite', 3162: 'rassemble', 3163: 'informations', 3164: 'impression', 3165: 'pompe', 3166: 'pu', 3167: 'contenter', 3168: 'preniez', 3169: 'conscience', 3170: 'prennes', 3171: 'portiez', 3172: 'portes', 3173: 'verre', 3174: 'feu', 3175: 'confectionner', 3176: 'bucher', 3177: 'moyens', 3178: 'hopital', 3179: 'pousser', 3180: 'barbe', 3181: 'retourner', 3182: 'obeir', 3183: 'pull', 3184: 'over', 3185: 'chandail', 3186: 'piles', 3187: 'appareil', 3188: 'impatience', 3189: 'specialise', 3190: 'sociologie', 3191: 'appeler', 3192: 'ceci', 3193: 'evanouir', 3194: 'toucher', 3195: 'autres', 3196: 'camp', 3197: 'prevois', 3198: 'suppose', 3199: 'supposee', 3200: 'repeter', 3201: 'chaleur', 3202: 'general', 3203: 'etais', 3204: 'reveillee', 3205: 'soulage', 3206: 'releve', 3207: 'hurle', 3208: 'crie', 3209: 'propos', 3210: 'hier', 3211: 'perte', 3212: 'art', 3213: 'dramatique', 3214: 'kabuki', 3215: 'approuverait', 3216: 'nul', 3217: 'langues', 3218: 'tente', 3219: 'conductrice', 3220: 'lamentable', 3221: 'loyer', 3222: 'enrhumee', 3223: 'personnes', 3224: 'agees', 3225: 'piano', 3226: 'banale', 3227: 'bleue', 3228: 'lisent', 3229: 'inquietent', 3230: 'paix', 3231: 'pendre', 3232: 'consequence', 3233: 'vivons', 3234: 'dos', 3235: 'mur', 3236: 'estimes', 3237: 'espion', 3238: 'espionne', 3239: 'allemands', 3240: 'plaignez', 3241: 'dites', 3242: 'adolescent', 3243: 'adolescente', 3244: 'malignes', 3245: 'rationnels', 3246: 'rationnelles', 3247: 'totalement', 3248: 'pente', 3249: 'racontes', 3250: 'mensonges', 3251: 'raffine', 3252: 'raffinee', 3253: 'raffines', 3254: 'raffinees', 3255: 'comprehensive', 3256: 'comprehensifs', 3257: 'comprehensives', 3258: 'mari', 3259: 'noble', 3260: 'harvard', 3261: 'absorbe', 3262: 'six', 3263: 'haut', 3264: 'trahison', 3265: 'matiere', 3266: 'baseball', 3267: 'chine', 3268: 'concert', 3269: 'devant', 3270: 'handicape', 3271: 'mental', 3272: 'avant', 3273: 'sejourne', 3274: 'assis', 3275: 'tailleur', 3276: 'tient', 3277: 'colline', 3278: 'agronomie', 3279: 'table', 3280: 'suspecte', 3281: 'nage', 3282: 'piscine', 3283: 'merite', 3284: 'louanges', 3285: 'batiment', 3286: 'lois', 3287: 'multiples', 3288: 'talents', 3289: 'malbouffe', 3290: 'bandes', 3291: 'dessinees', 3292: 'viendra', 3293: 'decidement', 3294: 'creuse', 3295: 'beuverie', 3296: 'faculte', 3297: 'doue', 3298: 'parc', 3299: 'longue', 3300: 'chaque', 3301: 'descends', 3302: 'escalier', 3303: 'simple', 3304: 'ceinture', 3305: 'karate', 3306: 'clochard', 3307: 'enrhume', 3308: 'sauvages', 3309: 'sein', 3310: 'donne', 3311: 'salaire', 3312: 'lance', 3313: 'signal', 3314: 'detresse', 3315: 'aucun', 3316: 'doute', 3317: 'certainement', 3318: 'possible', 3319: 'envie', 3320: 'boisson', 3321: 'fraiche', 3322: 'idee', 3323: 'demenagement', 3324: 'puissiez', 3325: 'puisses', 3326: 'sieste', 3327: 'piquer', 3328: 'somme', 3329: 'repenser', 3330: 'doucher', 3331: 'constater', 3332: 'haute', 3333: 'survivre', 3334: 'maman', 3335: 'disparaitre', 3336: 'signer', 3337: 'simulation', 3338: 'fetes', 3339: 'garder', 3340: 'refuse', 3341: 'vendre', 3342: 'croire', 3343: 'risque', 3344: 'decore', 3345: 'uf', 3346: 'paques', 3347: 'rechigne', 3348: 'epargne', 3349: 'malentendu', 3350: 'interrompre', 3351: 'embouteillage', 3352: 'moyen', 3353: 'partira', 3354: 'construit', 3355: 'mcdonald', 3356: 'apre', 3357: 'desireuse', 3358: 'preparer', 3359: 'sortie', 3360: 'editeur', 3361: 'aimee', 3362: 'tombee', 3363: 'banc', 3364: 'agacer', 3365: 'ample', 3366: 'nettoient', 3367: 'laboratoire', 3368: 'etasuniens', 3369: 'etasuniennes', 3370: 'appartenons', 3371: 'billets', 3372: 'refaire', 3373: 'desastre', 3374: 'destines', 3375: 'censes', 3376: 'jeter', 3377: 'phase', 3378: 'plaindre', 3379: 'leurrez', 3380: 'leurres', 3381: 'avion', 3382: 'coco', 3383: 'drille', 3384: 'comportes', 3385: 'comportez', 3386: 'interessante', 3387: 'souffrez', 3388: 'souffres', 3389: 'autorisee', 3390: 'dormez', 3391: 'stupides', 3392: 'epreuve', 3393: 'objet', 3394: 'enquete', 3395: 'soucieux', 3396: 'soucieuse', 3397: 'soucieuses', 3398: 'inquietes', 3399: 'mathematicien', 3400: 'romancier', 3401: 'prometteur', 3402: 'soigneusement', 3403: 'vetu', 3404: 'autorite', 3405: 'mains', 3406: 'couilles', 3407: 'photos', 3408: 'debut', 3409: 'crime', 3410: 'compagnie', 3411: 'respecte', 3412: 'torrefie', 3413: 'feves', 3414: 'scene', 3415: 'fringant', 3416: 'rhume', 3417: 'marketing', 3418: 'pigiste', 3419: 'portable', 3420: 'joindre', 3421: 'cercle', 3422: 'rude', 3423: 'encoignures', 3424: 'fume', 3425: 'tripotee', 3426: 'tripote', 3427: 'partirai', 3428: 'termes', 3429: 'tien', 3430: 'mien', 3431: 'conseiller', 3432: 'gestion', 3433: 'faveur', 3434: 'suggestion', 3435: 'cesse', 3436: 'surprendre', 3437: 'actrice', 3438: 'andouille', 3439: 'aurai', 3440: 'mariage', 3441: 'abattre', 3442: 'jour', 3443: 'quotidiennement', 3444: 'gerant', 3445: 'autoriser', 3446: 'citer', 3447: 'livrer', 3448: 'negocier', 3449: 'suggere', 3450: 'ouvre', 3451: 'cadeaux', 3452: 'economise', 3453: 'recriminations', 3454: 'doives', 3455: 'elimine', 3456: 'antipathique', 3457: 'persuader', 3458: 'promene', 3459: 'effondre', 3460: 'regrette', 3461: 'soignee', 3462: 'excellente', 3463: 'quadra', 3464: 'planifie', 3465: 'bonheur', 3466: 'epluche', 3467: 'attitree', 3468: 'fondue', 3469: 'tricot', 3470: 'passionnee', 3471: 'lourde', 3472: 'accomplie', 3473: 'professeurs', 3474: 'agissent', 3475: 'amusent', 3476: 'employes', 3477: 'partiel', 3478: 'employees', 3479: 'dollars', 3480: 'chacun', 3481: 'chacune', 3482: 'lavent', 3483: 'susceptibles', 3484: 'commettre', 3485: 'erreurs', 3486: 'propension', 3487: 'changeons', 3488: 'attendons', 3489: 'hiver', 3490: 'doux', 3491: 'manipules', 3492: 'manipulees', 3493: 'joueurs', 3494: 'joueuses', 3495: 'continuer', 3496: 'officiellement', 3497: 'drap', 3498: 'cachet', 3499: 'aspirine', 3500: 'decollage', 3501: 'confirme', 3502: 'redevable', 3503: 'reclame', 3504: 'commets', 3505: 'commettez', 3506: 'interessant', 3507: 'interessants', 3508: 'interessantes', 3509: 'clairement', 3510: 'negociateur', 3511: 'commences', 3512: 'commencez', 3513: 'recherchee', 3514: 'metier', 3515: 'profession', 3516: 'experimente', 3517: 'echec', 3518: 'match', 3519: 'president', 3520: 'attache', 3521: 'gloire', 3522: 'elections', 3523: 'municipales', 3524: 'chances', 3525: 'remporter', 3526: 'remporte', 3527: 'progresser', 3528: 'aupres', 3529: 'test', 3530: 'reunion', 3531: 'fonds', 3532: 'frileux', 3533: 'pionnier', 3534: 'appelons', 3535: 'niveau', 3536: 'international', 3537: 'defauts', 3538: 'mondanites', 3539: 'audace', 3540: 'conduite', 3541: 'australienne', 3542: 'lie', 3543: 'indiffere', 3544: 'indifferent', 3545: 'concerne', 3546: 'camion', 3547: 'lecteur', 3548: 'offenses', 3549: 'offensees', 3550: 'perde', 3551: 'rumeur', 3552: 'averee', 3553: 'puissions', 3554: 'requiers', 3555: 'disposez', 3556: 'plan', 3557: 'disposes', 3558: 'audition', 3559: 'role', 3560: 'possibilite', 3561: 'sentir', 3562: 'curiosite', 3563: 'aiguiser', 3564: 'deconne', 3565: 'chaussures', 3566: 'pale', 3567: 'malgre', 3568: 'lignes', 3569: 'directrices', 3570: 'bouquins', 3571: 'voulez', 3572: 'comprenne', 3573: 'compreniez', 3574: 'comprennes', 3575: 'finalement', 3576: 'rencontree', 3577: 'rencontrees', 3578: 'rencontres', 3579: 'souleve', 3580: 'mentionne', 3581: 'voies', 3582: 'voyiez', 3583: 'chemise', 3584: 'dechiffrer', 3585: 'resoudre', 3586: 'volerai', 3587: 'laisser', 3588: 'epargner', 3589: 'possede', 3590: 'traverse', 3591: 'cellulaire', 3592: 'mobile', 3593: 'renseigne', 3594: 'acquerir', 3595: 'donnerai', 3596: 'patinerai', 3597: 'particulierement', 3598: 'rue', 3599: 'siege', 3600: 'supporte', 3601: 'rompu', 3602: 'promesse', 3603: 'derangee', 3604: 'deranges', 3605: 'derangees', 3606: 'intimides', 3607: 'intimidez', 3608: 'avait', 3609: 'raisons', 3610: 'reussiras', 3611: 'secrets', 3612: 'queue', 3613: 'plaintes', 3614: 'allemagne', 3615: 'lever', 3616: 'cuillere', 3617: 'avenir', 3618: 'jules', 3619: 'dame', 3620: 'autodidacte', 3621: 'absorbee', 3622: 'etude', 3623: 'amicale', 3624: 'tonnerre', 3625: 'imiter', 3626: 'personnel', 3627: 'douee', 3628: 'isolee', 3629: 'vrais', 3630: 'militent', 3631: 'violences', 3632: 'trainent', 3633: 'torturer', 3634: 'essuyer', 3635: 'tempete', 3636: 'degats', 3637: 'agressifs', 3638: 'ratons', 3639: 'manquons', 3640: 'critiques', 3641: 'critiquez', 3642: 'hallucines', 3643: 'hallucinez', 3644: 'deprimees', 3645: 'tare', 3646: 'ridiculises', 3647: 'paraitre', 3648: 'diplomate', 3649: 'exactement', 3650: 'irreprochable', 3651: 'pantalon', 3652: 'aidiez', 3653: 'dentiste', 3654: 'domaine', 3655: 'guitare', 3656: 'ideal', 3657: 'attitude', 3658: 'quiconque', 3659: 'sentiments', 3660: 'humains', 3661: 'ordinateurs', 3662: 'arracheur', 3663: 'outrageusement', 3664: 'annees', 3665: 'collection', 3666: 'portrait', 3667: 'crache', 3668: 'craindre', 3669: 'realiser', 3670: 'discours', 3671: 'telles', 3672: 'situations', 3673: 'impresario', 3674: 'rare', 3675: 'change', 3676: 'avis', 3677: 'attire', 3678: 'femmes', 3679: 'negresses', 3680: 'noires', 3681: 'manipulateur', 3682: 'traverser', 3683: 'riviere', 3684: 'tenue', 3685: 'negligee', 3686: 'resultat', 3687: 'excellent', 3688: 'essouffle', 3689: 'sida', 3690: 'assistant', 3691: 'fautes', 3692: 'verrai', 3693: 'respectable', 3694: 'difficultes', 3695: 'construire', 3696: 'occasion', 3697: 'rende', 3698: 'aimiez', 3699: 'aimes', 3700: 'hanovre', 3701: 'irai', 3702: 'parce', 3703: 'requerir', 3704: 'compare', 3705: 'vetement', 3706: 'compris', 3707: 'effraye', 3708: 'effrayee', 3709: 'effrayes', 3710: 'effrayees', 3711: 'decevoir', 3712: 'plans', 3713: 'arranger', 3714: 'janvier', 3715: 'second', 3716: 'survecu', 3717: 'reflexions', 3718: 'octobre', 3719: 'aboient', 3720: 'rose', 3721: 'devouee', 3722: 'vaut', 3723: 'paralysee', 3724: 'jambes', 3725: 'appreciee', 3726: 'ni', 3727: 'peint', 3728: 'etaient', 3729: 'habituels', 3730: 'attraper', 3731: 'forment', 3732: 'panier', 3733: 'marchent', 3734: 'nus', 3735: 'cherchons', 3736: 'facon', 3737: 'rigoler', 3738: 'amuser', 3739: 'basket', 3740: 'passons', 3741: 'rajeunit', 3742: 'rajeunissons', 3743: 'regrettons', 3744: 'corriger', 3745: 'bug', 3746: 'papillon', 3747: 'parfois', 3748: 'pueril', 3749: 'puerile', 3750: 'puerils', 3751: 'pueriles', 3752: 'plats', 3753: 'nourriture', 3754: 'vises', 3755: 'visez', 3756: 'preches', 3757: 'prechez', 3758: 'cense', 3759: 'reposer', 3760: 'entrainee', 3761: 'formee', 3762: 'aie', 3763: 'gai', 3764: 'attentionnee', 3765: 'acte', 3766: 'directeur', 3767: 'questions', 3768: 'pretextes', 3769: 'capacites', 3770: 'profite', 3771: 'ecolier', 3772: 'confronte', 3773: 'nombreuses', 3774: 'quittera', 3775: 'chicago', 3776: 'celebrite', 3777: 'crises', 3778: 'aient', 3779: 'tromper', 3780: 'journee', 3781: 'renommee', 3782: 'obsede', 3783: 'proprete', 3784: 'europe', 3785: 'proposition', 3786: 'langue', 3787: 'representant', 3788: 'commerce', 3789: 'flattee', 3790: 'flatte', 3791: 'insiste', 3792: 'perdions', 3793: 'apercevoir', 3794: 'motif', 3795: 'distinguer', 3796: 'schema', 3797: 'traite', 3798: 'chocolat', 3799: 'droit', 3800: 'opinion', 3801: 'nombreux', 3802: 'automne', 3803: 'ambulance', 3804: 'tuer', 3805: 'manquera', 3806: 'secret', 3807: 'conter', 3808: 'politique', 3809: 'soucie', 3810: 'veste', 3811: 'new', 3812: 'york', 3813: 'times', 3814: 'linux', 3815: 'ressens', 3816: 'hostilite', 3817: 'embarrasses', 3818: 'embarrassees', 3819: 'blessent', 3820: 'monnaie', 3821: 'commande', 3822: 'ira', 3823: 'passera', 3824: 'surgir', 3825: 'surement', 3826: 'benjamin', 3827: 'flemme', 3828: 'triathlon', 3829: 'entreprise', 3830: 'repasse', 3831: 'mouchoirs', 3832: 'visiter', 3833: 'commun', 3834: 'conception', 3835: 'cynique', 3836: 'bague', 3837: 'prix', 3838: 'convient', 3839: 'depend', 3840: 'examens', 3841: 'pacifiques', 3842: 'innocents', 3843: 'profs', 3844: 'loyaux', 3845: 'menent', 3846: 'tiennent', 3847: 'gardent', 3848: 'souffrent', 3849: 'paludisme', 3850: 'face', 3851: 'crise', 3852: 'case', 3853: 'depart', 3854: 'passerons', 3855: 'manquerons', 3856: 'thanksgiving', 3857: 'planifions', 3858: 'abuses', 3859: 'abusez', 3860: 'piece', 3861: 'adorerez', 3862: 'bousiller', 3863: 'rajeunis', 3864: 'suffisament', 3865: 'echauffer', 3866: 'restes', 3867: 'restez', 3868: 'emballe', 3869: 'emballee', 3870: 'estime', 3871: 'comite', 3872: 'imaginatif', 3873: 'imagination', 3874: 'maladie', 3875: 'connait', 3876: 'maire', 3877: 'compliments', 3878: 'ameliore', 3879: 'expliquer', 3880: 'exigences', 3881: 'parent', 3882: 'alliance', 3883: 'impopulaire', 3884: 'quelconque', 3885: 'montagne', 3886: 'fronde', 3887: 'depuis', 3888: 'expulse', 3889: 'condition', 3890: 'physique', 3891: 'vecu', 3892: 'entiere', 3893: 'public', 3894: 'coutume', 3895: 'innocence', 3896: 'linge', 3897: 'pic', 3898: 'nic', 3899: 'veuillez', 3900: 'excuser', 3901: 'davantage', 3902: 'eventuellement', 3903: 'comprise', 3904: 'brulures', 3905: 'suivant', 3906: 'lecon', 3907: 'commissariat', 3908: 'essentiel', 3909: 'canada', 3910: 'correspondant', 3911: 'louer', 3912: 'reponse', 3913: 'evidemment', 3914: 'dirai', 3915: 'defi', 3916: 'retrousser', 3917: 'manches', 3918: 'eponge', 3919: 'espace', 3920: 'vieillesse', 3921: 'liquidites', 3922: 'alors', 3923: 'tardive', 3924: 'serait', 3925: 'engueule', 3926: 'achat', 3927: 'revienne', 3928: 'experte', 3929: 'mathematiques', 3930: 'manche', 3931: 'balai', 3932: 'chantage', 3933: 'exerce', 3934: 'vaguement', 3935: 'lointaine', 3936: 'juin', 3937: 'materialiste', 3938: 'superficielle', 3939: 'admet', 3940: 'broadway', 3941: 'avenue', 3942: 'discutent', 3943: 'etats', 3944: 'unis', 3945: 'jalousent', 3946: 'quittent', 3947: 'veulent', 3948: 'quittons', 3949: 'concurrents', 3950: 'concurrentes', 3951: 'soucions', 3952: 'appretons', 3953: 'justement', 3954: 'savoir', 3955: 'sied', 3956: 'superbement', 3957: 'citadine', 3958: 'evidence', 3959: 'connaisse', 3960: 'ceremonies', 3961: 'puissance', 3962: 'deguise', 3963: 'mouton', 3964: 'tradition', 3965: 'perd', 3966: 'parapluie', 3967: 'connaitre', 3968: 'separe', 3969: 'departement', 3970: 'radin', 3971: 'inde', 3972: 'pleurnichard', 3973: 'ramollo', 3974: 'attente', 3975: 'vehicule', 3976: 'comportement', 3977: 'bijouterie', 3978: 'monotone', 3979: 'habilete', 3980: 'responsabilites', 3981: 'humide', 3982: 'couper', 3983: 'arbre', 3984: 'reecrire', 3985: 'envoyer', 3986: 'joli', 3987: 'visage', 3988: 'impressionner', 3989: 'performance', 3990: 'representation', 3991: 'prestation', 3992: 'hamburgers', 3993: 'rate', 3994: 'anniversaire', 3995: 'ennuyer', 3996: 'reconnais', 3997: 'reproduira', 3998: 'decalage', 3999: 'numero', 4000: 'longtemps', 4001: 'accepter', 4002: 'offre', 4003: 'familiere', 4004: 'chansons', 4005: 'romanciere', 4006: 'nourrit', 4007: 'chien', 4008: 'ressemble', 4009: 'violoniste', 4010: 'renom', 4011: 'comment', 4012: 'promis', 4013: 'allait', 4014: 'collegues', 4015: 'ceux', 4016: 'celles', 4017: 'disent', 4018: 'smic', 4019: 'distribuent', 4020: 'echantillons', 4021: 'gratuits', 4022: 'choisissons', 4023: 'aurons', 4024: 'gachons', 4025: 'stationner', 4026: 'autorises', 4027: 'censees', 4028: 'censee', 4029: 'soutenez', 4030: 'pretez', 4031: 'interrompez', 4032: 'devrais', 4033: 'bouche', 4034: 'archeologie', 4035: 'preparatifs', 4036: 'entier', 4037: 'prompt', 4038: 'inquietudes', 4039: 'violon', 4040: 'rugueux', 4041: 'reveche', 4042: 'liquide', 4043: 'lancer', 4044: 'couteaux', 4045: 'remarquer', 4046: 'decide', 4047: 'troupe', 4048: 'attaque', 4049: 'cardiaque', 4050: 'experiences', 4051: 'malheureuses', 4052: 'traine', 4053: 'coton', 4054: 'determine', 4055: 'reussi', 4056: 'noel', 4057: 'oreillons', 4058: 'depenser', 4059: 'izu', 4060: 'pendant', 4061: 'week', 4062: 'end', 4063: 'manifestation', 4064: 'pourrait', 4065: 'genee', 4066: 'apparemment', 4067: 'alentours', 4068: 'blanche', 4069: 'lettres', 4070: 'autour', 4071: 'semestre', 4072: 'journaux', 4073: 'epandent', 4074: 'arbres', 4075: 'fruitiers', 4076: 'vivent', 4077: 'fantaisie', 4078: 'planete', 4079: 'hawai', 4080: 'interruption', 4081: 'supposes', 4082: 'craignons', 4083: 'demandons', 4084: 'budget', 4085: 'limite', 4086: 'embrouillez', 4087: 'responsabilite', 4088: 'liberee', 4089: 'liberees', 4090: 'liberes', 4091: 'humanite', 4092: 'religieuses', 4093: 'religieuse', 4094: 'reporter', 4095: 'time', 4096: 'severe', 4097: 'considere', 4098: 'accident', 4099: 'quelquefois', 4100: 'horriblement', 4101: 'deambule', 4102: 'transe', 4103: 'hyogo', 4104: 'veiller', 4105: 'commette', 4106: 'egariez', 4107: 'perdiez', 4108: 'perdes', 4109: 'resolu', 4110: 'actuel', 4111: 'jouerai', 4112: 'semaines', 4113: 'labeur', 4114: 'baille', 4115: 'rudiments', 4116: 'ceramique', 4117: 'orientale', 4118: 'poetes', 4119: 'classer', 4120: 'sommeille', 4121: 'bequilles', 4122: 'inquieter', 4123: 'ignoriez', 4124: 'ignorais', 4125: 'recuperer', 4126: 'retomber', 4127: 'relation', 4128: 'independante', 4129: 'roses', 4130: 'conscients', 4131: 'voient', 4132: 'confrontes', 4133: 'financieres', 4134: 'bronzent', 4135: 'jouons', 4136: 'derangement', 4137: 'voyageons', 4138: 'ou', 4139: 'pensais', 4140: 'voie', 4141: 'retablissement', 4142: 'millionieme', 4143: 'resultats', 4144: 'anticipez', 4145: 'pareille', 4146: 'amnesie', 4147: 'maitrise', 4148: 'technique', 4149: 'bagarre', 4150: 'fomenter', 4151: 'troubles', 4152: 'propheties', 4153: 'mayas', 4154: 'parte', 4155: 'oxford', 4156: 'invitation', 4157: 'etrangeres', 4158: 'impatiemment', 4159: 'protection', 4160: 'pleinement', 4161: 'hemorragie', 4162: 'interne', 4163: 'coree', 4164: 'signaler', 4165: 'mille', 4166: 'prendrais', 4167: 'finit', 4168: 'identite', 4169: 'decisions', 4170: 'accoutumee', 4171: 'personnelles', 4172: 'gravir', 4173: 'intention', 4174: 'trouves', 4175: 'reproches', 4176: 'compares', 4177: 'choux', 4178: 'carottes', 4179: 'plonge', 4180: 'latin', 4181: 'humanites', 4182: 'culture', 4183: 'rendra', 4184: 'tremble', 4185: 'serez', 4186: 'ajouterai', 4187: 'finale', 4188: 'ecarte', 4189: 'relations', 4190: 'prevu', 4191: 'vendu', 4192: 'devalises', 4193: 'farouchement', 4194: 'oppose', 4195: 'compromis', 4196: 'economie', 4197: 'dotee', 4198: 'inconduite', 4199: 'collier', 4200: 'mercredi', 4201: 'materiel', 4202: 'soutien', 4203: 'devis', 4204: 'multitude', 4205: 'foule', 4206: 'tas', 4207: 'quantite', 4208: 'influences', 4209: 'environnement', 4210: 'soumis', 4211: 'fouiller', 4212: 'totalite', 4213: 'reduire', 4214: 'depenses', 4215: 'reprocher', 4216: 'amusez', 4217: 'amuses', 4218: 'leeds', 4219: 'evaluation', 4220: 'antiquites', 4221: 'projette', 4222: 'cale', 4223: 'litterature', 4224: 'biologie', 4225: 'pointure', 4226: 'sommite', 4227: 'impressionnable', 4228: 'inconfortables', 4229: 'histoires', 4230: 'car', 4231: 'agi', 4232: 'stupidement', 4233: 'disputes', 4234: 'commencent', 4235: 'derniere', 4236: 'bjork', 4237: 'grandissent', 4238: 'etudes', 4239: 'sociales', 4240: 'interessent', 4241: 'quete', 4242: 'astronomie', 4243: 'souhaitons', 4244: 'pechons', 4245: 'oceans', 4246: 'conseil', 4247: 'paroissial', 4248: 'redire', 4249: 'normalement', 4250: 'prevoit', 4251: 'developper', 4252: 'vente', 4253: 'financierement', 4254: 'suedois', 4255: 'gentillesse', 4256: 'orchestre', 4257: 'oreille', 4258: 'gauche', 4259: 'travaillent', 4260: 'animalerie', 4261: 'etudient', 4262: 'webdesign', 4263: 'suspicieux', 4264: 'suspicieuse', 4265: 'suspicieuses', 4266: 'espere', 4267: 'rodomontades', 4268: 'tubes', 4269: 'populaires', 4270: 'mesurons', 4271: 'profondeur', 4272: 'acheve', 4273: 'main', 4274: 'paysage', 4275: 'tirez', 4276: 'avantage', 4277: 'faiblesse', 4278: 'ambassade', 4279: 'irritant', 4280: 'prochaines', 4281: 'recupere', 4282: 'moto', 4283: 'trafiquee', 4284: 'calvitie', 4285: 'naissante', 4286: 'parasol', 4287: 'classique', 4288: 'expriment', 4289: 'enlacant', 4290: 'encourage', 4291: 'moisson', 4292: 'annonce', 4293: 'rejouissons', 4294: 'presence', 4295: 'hospitalite', 4296: 'quoique', 4297: 'fasses', 4298: 'desaccord', 4299: 'nobles', 4300: 'sculptent', 4301: 'statue', 4302: 'marbre', 4303: 'dont', 4304: 'devons', 4305: 'emmenent', 4306: 'urgences', 4307: 'rales', 4308: 'souvenir', 4309: 'mele', 4310: 'conversation', 4311: 'insatisfaction', 4312: 'romps', 4313: 'nana', 4314: 'organisation', 4315: 'institution', 4316: 'disposees', 4317: 'reconnue', 4318: 'irresponsable', 4319: 'cloturer', 4320: 'recevoir', 4321: 'tarde', 4322: 'discuterons', 4323: 'jouant', 4324: 'videos', 4325: 'narita', 4326: 'hawaii', 4327: 'bataille', 4328: 'croyances', 4329: 'interprete', 4330: 'internationale', 4331: 'comporter', 4332: 'inventer', 4333: 'publication', 4334: 'ouvrage', 4335: 'receptive', 4336: 'hypnotique', 4337: 'jackson', 4338: 'entreprend', 4339: 'compiler', 4340: 'collectent', 4341: 'dons', 4342: 'candidats', 4343: 'presidentielles', 4344: 'americaines'}\n"
     ]
    }
   ],
   "source": [
    "print(input_lang.index2word)"
   ]
  },
  {
   "cell_type": "code",
   "execution_count": 20,
   "id": "1e0e7b24",
   "metadata": {},
   "outputs": [
    {
     "name": "stdout",
     "output_type": "stream",
     "text": [
      "{0: 'SOS', 1: 'EOS', 2: 'i', 3: 'm', 4: '.', 5: 'ok', 6: 'fat', 7: 'fit', 8: 'hit', 9: '!', 10: 'ill', 11: 'sad', 12: 'shy', 13: 'wet', 14: 'he', 15: 's', 16: 'am', 17: 'back', 18: 'bald', 19: 'busy', 20: 'calm', 21: 'cold', 22: 'done', 23: 'fine', 24: 'free', 25: 'full', 26: 'glad', 27: 'home', 28: 'late', 29: 'lazy', 30: 'okay', 31: 'safe', 32: 'sick', 33: 'sure', 34: 'tall', 35: 'thin', 36: 'tidy', 37: 'ugly', 38: 'weak', 39: 'well', 40: 'is', 41: 'old', 42: 'a', 43: 'dj', 44: 'good', 45: 'rich', 46: 'here', 47: 'cop', 48: 'man', 49: 'alone', 50: 'armed', 51: 'awake', 52: 'blind', 53: 'broke', 54: 'crazy', 55: 'cured', 56: 'drunk', 57: 'dying', 58: 'early', 59: 'first', 60: 'fussy', 61: 'going', 62: 'loyal', 63: 'lucky', 64: 'lying', 65: 'quiet', 66: 'ready', 67: 'right', 68: 'sober', 69: 'sorry', 70: 'stuck', 71: 'timid', 72: 'tired', 73: 'tough', 74: 'yours', 75: 'she', 76: 'hot', 77: 'we', 78: 're', 79: 'kind', 80: 'poor', 81: 'swiss', 82: 'smart', 83: 'human', 84: 'french', 85: 'korean', 86: 'hero', 87: 'liar', 88: 'baking', 89: 'better', 90: 'buying', 91: 'chubby', 92: 'eating', 93: 'famous', 94: 'faster', 95: 'flabby', 96: 'greedy', 97: 'hiding', 98: 'honest', 99: 'humble', 100: 'hungry', 101: 'immune', 102: 'in', 103: 'bed', 104: 'joking', 105: 'loaded', 106: 'lonely', 107: 'losing', 108: 'moving', 109: 'normal', 110: 'paying', 111: 'pooped', 112: 'rested', 113: 'ruined', 114: 'shaken', 115: 'single', 116: 'skinny', 117: 'sleepy', 118: 'sneaky', 119: 'strict', 120: 'strong', 121: 'thirty', 122: 'wasted', 123: 'nice', 124: 'are', 125: 'men', 126: 'even', 127: 'lost', 128: 'sunk', 129: 'you', 130: 'bad', 131: 'big', 132: 'fun', 133: 'eight', 134: 'hated', 135: 'nasty', 136: 'young', 137: 'hunk', 138: 'jerk', 139: 'nerd', 140: 'slob', 141: 'asleep', 142: 'coming', 143: 'crying', 144: 'faking', 145: 'my', 146: 'age', 147: 'not', 148: 'cook', 149: 'monk', 150: 'taller', 151: 'too', 152: 'finnish', 153: 'italian', 154: 'baker', 155: 'all', 156: 'set', 157: 'ashamed', 158: 'at', 159: 'baffled', 160: 'blessed', 161: 'careful', 162: 'certain', 163: 'chicken', 164: 'correct', 165: 'curious', 166: 'dancing', 167: 'dieting', 168: 'driving', 169: 'engaged', 170: 'excited', 171: 'fasting', 172: 'finicky', 173: 'frantic', 174: 'furious', 175: 'healthy', 176: 'humming', 177: 'luck', 178: 'jealous', 179: 'jittery', 180: 'kidding', 181: 'leaving', 182: 'married', 183: 'no', 184: 'fool', 185: 'mad', 186: 'on', 187: 'duty', 188: 'patient', 189: 'popular', 190: 'psyched', 191: 'psychic', 192: 'puzzled', 193: 'reading', 194: 'relaxed', 195: 'retired', 196: 'selfish', 197: 'serious', 198: 'shocked', 199: 'sincere', 200: 'sloshed', 201: 'so', 202: 'starved', 203: 'staying', 204: 'stuffed', 205: 'stunned', 206: 'talking', 207: 'teasing', 208: 'thirsty', 209: 'through', 210: 'touched', 211: 'unhappy', 212: 'unlucky', 213: 'wealthy', 214: 'winning', 215: 'working', 216: 'worried', 217: 'curt', 218: 'dead', 219: 'dog', 220: 'fox', 221: 'they', 222: 'angry', 223: 'bored', 224: 'happy', 225: 'saved', 226: 'twins', 227: 'cool', 228: 'fair', 229: 'nuts', 230: 'rude', 231: 'poet', 232: 'cranky', 233: 'heroic', 234: 'english', 235: 'bigot', 236: 'pain', 237: 'out', 238: 'now', 239: 'cute', 240: 'coward', 241: 'doctor', 242: 'farmer', 243: 'purist', 244: 'addicted', 245: 'ears', 246: 'an', 247: 'adult', 248: 'agent', 249: 'bleeding', 250: 'confused', 251: 'creative', 252: 'cultured', 253: 'divorced', 254: 'drowning', 255: 'eighteen', 256: 'faithful', 257: 'famished', 258: 'fearless', 259: 'fighting', 260: 'finished', 261: 'freezing', 262: 'grounded', 263: 'gullible', 264: 'homesick', 265: 'hungover', 266: 'paris', 267: 'innocent', 268: 'involved', 269: 'managing', 270: 'new', 271: 'rebel', 272: 'saint', 273: 'deaf', 274: 'dumb', 275: 'evil', 276: 'hurt', 277: 'mean', 278: 'off', 279: 'offended', 280: 'outraged', 281: 'powerful', 282: 'prepared', 283: 'punctual', 284: 'rational', 285: 'reformed', 286: 'reliable', 287: 'restless', 288: 'ruthless', 289: 'shooting', 290: 'sleeping', 291: 'speaking', 292: 'starving', 293: 'stubborn', 294: 'the', 295: 'boss', 296: 'thinking', 297: 'thorough', 298: 'thrilled', 299: 'ticklish', 300: 'truthful', 301: 'unbiased', 302: 'upstairs', 303: 'very', 304: 'worn', 305: 'sharp', 306: 'wrong', 307: 'boys', 308: 'cops', 309: 'gone', 310: 'mine', 311: 'arabs', 312: 'team', 313: 'adults', 314: 'war', 315: 'biased', 316: 'closed', 317: 'dating', 318: 'doomed', 319: 'inside', 320: 'trying', 321: 'bossy', 322: 'cruel', 323: 'fired', 324: 'funny', 325: 'gross', 326: 'moody', 327: 'naive', 328: 'silly', 329: 'upset', 330: 'weird', 331: 'british', 332: 'thief', 333: 'foolish', 334: 'type', 335: 'running', 336: 'skating', 337: 'grouch', 338: 'jesuit', 339: 'senior', 340: 'tycoon', 341: 'adorable', 342: 'after', 343: 'me', 344: 'annoying', 345: 'demented', 346: 'tokyo', 347: 'insecure', 348: 'studying', 349: 'slow', 350: 'your', 351: 'son', 352: 'american', 353: 'japanese', 354: 'muslim', 355: 'runner', 356: 'diabetic', 357: 'student', 358: 'teacher', 359: 'adaptable', 360: 'afraid', 361: 'ambitious', 362: 'artist', 363: 'orphan', 364: 'attentive', 365: 'available', 366: 'beautiful', 367: 'concerned', 368: 'confident', 369: 'contented', 370: 'convinced', 371: 'depressed', 372: 'desperate', 373: 'different', 374: 'disgusted', 375: 'easygoing', 376: 'exhausted', 377: 'forgetful', 378: 'tom', 379: 'hung', 380: 'over', 381: 'impatient', 382: 'important', 383: 'impressed', 384: 'impulsive', 385: 'boston', 386: 'danger', 387: 'intrigued', 388: 'just', 389: 'listening', 390: 'motivated', 391: 'expert', 392: 'fan', 393: 'obese', 394: 'short', 395: 'observant', 396: 'diet', 397: 'way', 398: 'plastered', 399: 'powerless', 400: 'realistic', 401: 'resentful', 402: 'resilient', 403: 'satisfied', 404: 'saying', 405: 'sensitive', 406: 'surprised', 407: 'surviving', 408: 'terrified', 409: 'uninsured', 410: 'unmarried', 411: 'voting', 412: 'falling', 413: 'twin', 414: 'active', 415: 'gentle', 416: 'cutie', 417: 'model', 418: 'awesome', 419: 'asian', 420: 'alive', 421: 'brave', 422: 'clean', 423: 'small', 424: 'spies', 425: 'there', 426: 'group', 427: 'anxious', 428: 'cousins', 429: 'friends', 430: 'love', 431: 'sync', 432: 'town', 433: 'sinking', 434: 'smashed', 435: 'special', 436: 'stalled', 437: 'trapped', 438: 'useless', 439: 'waiting', 440: 'winners', 441: 'doll', 442: 'snob', 443: 'boring', 444: 'bright', 445: 'clever', 446: 'crafty', 447: 'creepy', 448: 'grumpy', 449: 'insane', 450: 'pretty', 451: 'stupid', 452: 'unfair', 453: 'canadian', 454: 'genius', 455: 'writer', 456: 'actor', 457: 'bankrupt', 458: 'uncle', 459: 'outgoing', 460: 'bit', 461: 'gambler', 462: 'slacker', 463: 'author', 464: 'ex', 465: 'con', 466: 'outlaw', 467: 'henpecked', 468: 'prison', 469: 'friend', 470: 'open', 471: 'hungarian', 472: 'boy', 473: 'tourist', 474: 'him', 475: 'london', 476: 'spot', 477: 'today', 478: 'guy', 479: 'musician', 480: 'real', 481: 'salesman', 482: 'against', 483: 'it', 484: 'thumbs', 485: 'astonished', 486: 'behind', 487: 'being', 488: 'used', 489: 'contagious', 490: 'dehydrated', 491: 'dependable', 492: 'devastated', 493: 'doing', 494: 'downstairs', 495: 'exercising', 496: 'farsighted', 497: 'fascinated', 498: 'firing', 499: 'from', 500: 'kyoto', 501: 'having', 502: 'illiterate', 503: 'car', 504: 'interested', 505: 'making', 506: 'tea', 507: 'meditating', 508: 'methodical', 509: 'quitter', 510: 'amused', 511: 'bitter', 512: 'guilty', 513: 'racist', 514: 'scared', 515: 'enough', 516: 'holiday', 517: 'one', 518: 'of', 519: 'optimistic', 520: 'gas', 521: 'prejudiced', 522: 'really', 523: 'reasonable', 524: 'remodeling', 525: 'still', 526: 'successful', 527: 'killer', 528: 'oldest', 529: 'undressing', 530: 'unemployed', 531: 'untalented', 532: 'to', 533: 'vegetarian', 534: 'wide', 535: 'nurse', 536: 'awkward', 537: 'isn', 538: 't', 539: 'beauty', 540: 'hottie', 541: 'looker', 542: 'angel', 543: 'pregnant', 544: 'loud', 545: 'babies', 546: 'idiots', 547: 'couple', 548: 'family', 549: 'brothers', 550: 'escaping', 551: 'grateful', 552: 'helpless', 553: 'obedient', 554: 'partners', 555: 'quitting', 556: 'retiring', 557: 'standing', 558: 'students', 559: 'best', 560: 'last', 561: 'same', 562: 'up', 563: 'morons', 564: 'aren', 565: 'prude', 566: 'amazing', 567: 'amusing', 568: 'callous', 569: 'elusive', 570: 'invited', 571: 'help', 572: 'precise', 573: 'pro', 574: 'welcome', 575: 'dreamer', 576: 'painter', 577: 'paid', 578: 'comedian', 579: 'frat', 580: 'freshman', 581: 'gardener', 582: 'newcomer', 583: 'slowpoke', 584: 'southpaw', 585: 'helping', 586: 'husband', 587: 'partner', 588: 'yet', 589: 'his', 590: 'photogenic', 591: 'bachelor', 592: 'egypt', 593: 'trouble', 594: 'azerbaijani', 595: 'tv', 596: 'addict', 597: 'tipsy', 598: 'foreigner', 599: 'housewife', 600: 'masochist', 601: 'night', 602: 'owl', 603: 'able', 604: 'run', 605: 'ski', 606: 'about', 607: 'adventurous', 608: 'engineer', 609: 'work', 610: 'begging', 611: 'catching', 612: 'celebrating', 613: 'cleaned', 614: 'color', 615: 'comfortable', 616: 'cooperating', 617: 'cracking', 618: 'embarrassed', 619: 'feeling', 620: 'low', 621: 'brazil', 622: 'france', 623: 'turkey', 624: 'zambia', 625: 'getting', 626: 'hardworking', 627: 'heartbroken', 628: 'win', 629: 'hurry', 630: 'interfering', 631: 'introverted', 632: 'left', 633: 'handed', 634: 'nearsighted', 635: 'child', 636: 'crook', 637: 'robot', 638: 'alarmed', 639: 'arguing', 640: 'nervous', 641: 'perfect', 642: 'unarmed', 643: 'vacation', 644: 'only', 645: 'ammo', 646: 'persevering', 647: 'quite', 648: 'rather', 649: 'go', 650: 'replaceable', 651: 'resourceful', 652: 'spontaneous', 653: 'such', 654: 'sympathetic', 655: 'captain', 656: 'surgeon', 657: 'truly', 658: 'trustworthy', 659: 'unambitious', 660: 'unconvinced', 661: 'modest', 662: 'watching', 663: 'lawyer', 664: 'sister', 665: 'singer', 666: 'typist', 667: 'graceful', 668: 'assertive', 669: 'roll', 670: 'actors', 671: 'melons', 672: 'animals', 673: 'doctors', 674: 'outside', 675: 'similar', 676: 'smiling', 677: 'with', 678: 'sons', 679: 'teachers', 680: 'canadians', 681: 'both', 682: 'comedians', 683: 'committed', 684: 'dedicated', 685: 'fixing', 686: 'flattered', 687: 'gardeners', 688: 'gentlemen', 689: 'giving', 690: 'charge', 691: 'newcomers', 692: 'newlyweds', 693: 'fools', 694: 'past', 695: 'that', 696: 'prisoners', 697: 'resigning', 698: 'separated', 699: 'survivors', 700: 'close', 701: 'unrelated', 702: 'naughty', 703: 'tallest', 704: 'idiot', 705: 'arrogant', 706: 'blushing', 707: 'careless', 708: 'charming', 709: 'cheating', 710: 'disloyal', 711: 'forgiven', 712: 'horrible', 713: 'mistaken', 714: 'enemy', 715: 'pathetic', 716: 'picky', 717: 'sweet', 718: 'stalling', 719: 'talented', 720: 'acrobat', 721: 'distracted', 722: 'her', 723: 'pajamas', 724: 'kid', 725: 'brother', 726: 'never', 727: 'liked', 728: 'bartender', 729: 'cat', 730: 'lover', 731: 'gentleman', 732: 'grown', 733: 'historian', 734: 'nonsmoker', 735: 'sophomore', 736: 'side', 737: 'got', 738: 'flu', 739: 'for', 740: 'class', 741: 'intelligent', 742: 'struck', 743: 'like', 744: 'us', 745: 'minded', 746: 'unconscious', 747: 'father', 748: 'professor', 749: 'volunteer', 750: 'cooking', 751: 'dumbfounded', 752: 'russia', 753: 'frying', 754: 'fish', 755: 'time', 756: 'weekly', 757: 'years', 758: 'cousin', 759: 'bank', 760: 'clerk', 761: 'shutterbug', 762: 'swim', 763: 'already', 764: 'always', 765: 'ambidextrous', 766: 'beach', 767: 'between', 768: 'jobs', 769: 'by', 770: 'disappointed', 771: 'dissatisfied', 772: 'lunch', 773: 'fairly', 774: 'freaking', 775: 'america', 776: 'croatia', 777: 'england', 778: 'romania', 779: 'homeschooled', 780: 'housesitting', 781: 'attic', 782: 'house', 783: 'inviting', 784: 'looking', 785: 'killing', 786: 'beggar', 787: 'bluffing', 788: 'bragging', 789: 'counting', 790: 'dreaming', 791: 'paranoid', 792: 'why', 793: 'ideas', 794: 'shape', 795: 'overreacting', 796: 'proud', 797: 'this', 798: 'stronger', 799: 'super', 800: 'volunteering', 801: 'pianist', 802: 'obstinate', 803: 'wise', 804: 'russian', 805: 'artists', 806: 'singers', 807: 'fake', 808: 'traitors', 809: 'unique', 810: 'classmates', 811: 'downsizing', 812: 'down', 813: 'east', 814: 'west', 815: 'half', 816: 'college', 817: 'control', 818: 'lifeguards', 819: 'needed', 820: 'our', 821: 'own', 822: 'speechless', 823: 'surrounded', 824: 'taking', 825: 'owners', 826: 'children', 827: 'deranged', 828: 'fabulous', 829: 'gorgeous', 830: 'hopeless', 831: 'blame', 832: 'traitor', 833: 'conceited', 834: 'courteous', 835: 'fortunate', 836: 'obnoxious', 837: 'shivering', 838: 'talkative', 839: 'tense', 840: 'unethical', 841: 'wonderful', 842: 'eater', 843: 'biologist', 844: 'born', 845: 'daredevil', 846: 'detective', 847: 'dramatist', 848: 'physicist', 849: 'scientist', 850: 'forty', 851: 'desk', 852: 'beyond', 853: 'hope', 854: 'business', 855: 'incompetent', 856: 'influential', 857: 'teaching', 858: 'unrealistic', 859: 'walking', 860: 'journalist', 861: 'movie', 862: 'buff', 863: 'timer', 864: 'undergrad', 865: 'deep', 866: 'debt', 867: 'georgia', 868: 'water', 869: 'arrived', 870: 'and', 871: 'raking', 872: 'quick', 873: 'sound', 874: 'swimming', 875: 'tickled', 876: 'pink', 877: 'trusting', 878: 'person', 879: 'almost', 880: 'bread', 881: 'math', 882: 'die', 883: 'pleased', 884: 'little', 885: 'girl', 886: 'salesperson', 887: 'total', 888: 'wreck', 889: 'myself', 890: 'as', 891: 'school', 892: 'mercy', 893: 'aware', 894: 'awfully', 895: 'watched', 896: 'concentrating', 897: 'extremely', 898: 'dizzy', 899: 'flabbergasted', 900: 'bulgaria', 901: 'colombia', 902: 'city', 903: 'did', 904: 'jump', 905: 'irreplaceable', 906: 'guessing', 907: 'weight', 908: 'monster', 909: 'soldier', 910: 'dangerous', 911: 'rush', 912: 'miserable', 913: 'panicking', 914: 'persuaded', 915: 'fast', 916: 'coach', 917: 'baby', 918: 'maid', 919: 'overworked', 920: 'sore', 921: 'sort', 922: 'dubious', 923: 'bath', 924: 'totally', 925: 'uncomfortable', 926: 'neighbor', 927: 'beginner', 928: 'aggressive', 929: 'attractive', 930: 'unsociable', 931: 'fashionable', 932: 'point', 933: 'hyperactive', 934: 'daughter', 935: 'alike', 936: 'liars', 937: 'cannibals', 938: 'expensive', 939: 'guys', 940: 'undamaged', 941: 'australian', 942: 'related', 943: 'risk', 944: 'cowards', 945: 'changing', 946: 'defenseless', 947: 'great', 948: 'experienced', 949: 'north', 950: 'south', 951: 'handling', 952: 'journalists', 953: 'dressed', 954: 'killers', 955: 'schedule', 956: 'beer', 957: 'milk', 958: 'wine', 959: 'pulling', 960: 'problem', 961: 'actresses', 962: 'hilarious', 963: 'prisoner', 964: 'articulate', 965: 'again', 966: 'courageous', 967: 'disgusting', 968: 'hurting', 969: 'incredible', 970: 'productive', 971: 'remarkable', 972: 'scaring', 973: 'telling', 974: 'leader', 975: 'master', 976: 'polite', 977: 'driver', 978: 'fishmonger', 979: 'loser', 980: 'slim', 981: 'but', 982: 'drinking', 983: 'classmate', 984: 'colleague', 985: 'radio', 986: 'playing', 987: 'golf', 988: 'witted', 989: 'heartless', 990: 'come', 991: 'thick', 992: 'headed', 993: 'learned', 994: 'creationist', 995: 'walker', 996: 'filthy', 997: 'food', 998: 'critic', 999: 'ghostwriter', 1000: 'goal', 1001: 'keeper', 1002: 'meth', 1003: 'strange', 1004: 'englishman', 1005: 'aristocrat', 1006: 'closer', 1007: 'earth', 1008: 'cards', 1009: 'shower', 1010: 'overconfident', 1011: 'pushing', 1012: 'fifty', 1013: 'self', 1014: 'employed', 1015: 'scapegoat', 1016: 'flexible', 1017: 'fond', 1018: 'music', 1019: 'portugal', 1020: 'shizuoka', 1021: 'grilling', 1022: 'garden', 1023: 'nobody', 1024: 'learner', 1025: 'rusty', 1026: 'photographer', 1027: 'leave', 1028: 'can', 1029: 'bats', 1030: 'dogs', 1031: 'harassed', 1032: 'promoted', 1033: 'punished', 1034: 'sensible', 1035: 'badly', 1036: 'death', 1037: 'puppy', 1038: 'claustrophobic', 1039: 'once', 1040: 'july', 1041: 'sunday', 1042: 'singapore', 1043: 'gaining', 1044: 'downtown', 1045: 'fight', 1046: 'relax', 1047: 'sleep', 1048: 'skiing', 1049: 'listen', 1050: '?', 1051: 'health', 1052: 'bathtub', 1053: 'beginning', 1054: 'laying', 1055: 'learning', 1056: 'czech', 1057: 'letting', 1058: 'criminal', 1059: 'magician', 1060: 'delusional', 1061: 'denying', 1062: 'away', 1063: 'invincible', 1064: 'overweight', 1065: 'start', 1066: 'seeing', 1067: 'someone', 1068: 'somewhat', 1069: 'shock', 1070: 'suddenly', 1071: 'supporting', 1072: 'terribly', 1073: 'twice', 1074: 'unenthusiastic', 1075: 'using', 1076: 'cup', 1077: 'writing', 1078: 'book', 1079: 'kissing', 1080: 'pigeon', 1081: 'toed', 1082: 'teaser', 1083: 'supermodel', 1084: 'alcoholic', 1085: 'fruit', 1086: 'christians', 1087: 'carnations', 1088: 'disposable', 1089: 'words', 1090: 'part', 1091: 'australians', 1092: 'people', 1093: 'infected', 1094: 'writers', 1095: 'conservative', 1096: 'contributing', 1097: 'try', 1098: 'halfway', 1099: 'honeymooning', 1100: 'library', 1101: 'nearly', 1102: 'soldiers', 1103: 'money', 1104: 'stock', 1105: 'tight', 1106: 'slowing', 1107: 'turning', 1108: 'under', 1109: 'attack', 1110: 'unprejudiced', 1111: 'impossible', 1112: 'softy', 1113: 'gal', 1114: 'woman', 1115: 'racists', 1116: 'avoiding', 1117: 'considerate', 1118: 'extroverted', 1119: 'fascinating', 1120: 'princess', 1121: 'bruised', 1122: 'list', 1123: 'green', 1124: 'touching', 1125: 'red', 1126: 'astute', 1127: 'direct', 1128: 'hard', 1129: 'worker', 1130: 'fellow', 1131: 'size', 1132: 'apt', 1133: 'forget', 1134: 'office', 1135: 'indeed', 1136: 'far', 1137: 'rugby', 1138: 'religious', 1139: 'kilos', 1140: 'probably', 1141: 'walk', 1142: 'lean', 1143: 'lie', 1144: 'sociable', 1145: 'washing', 1146: 'wearing', 1147: 'hat', 1148: 'cardiologist', 1149: 'chain', 1150: 'smoker', 1151: 'kisser', 1152: 'bloomer', 1153: 'loose', 1154: 'cannon', 1155: 'scriptwriter', 1156: 'opera', 1157: 'behaving', 1158: 'oddly', 1159: 'before', 1160: 'headache', 1161: 'fifties', 1162: 'kitchen', 1163: 'known', 1164: 'likely', 1165: 'sentry', 1166: 'than', 1167: 'skeptical', 1168: 'swimmer', 1169: 'electrician', 1170: 'noodles', 1171: 'care', 1172: 'study', 1173: 'mother', 1174: 'older', 1175: 'peeling', 1176: 'apples', 1177: 'tennis', 1178: 'hear', 1179: 'chosen', 1180: 'light', 1181: 'sleeper', 1182: 'perfectionist', 1183: 'social', 1184: 'stranger', 1185: 'absolutely', 1186: 'service', 1187: 'thirst', 1188: 'apple', 1189: 'fed', 1190: 'thank', 1191: 'be', 1192: 'see', 1193: 'saw', 1194: 'trip', 1195: 'science', 1196: 'singing', 1197: 'underwear', 1198: 'incredibly', 1199: 'indebted', 1200: 'loner', 1201: 'basque', 1202: 'tonight', 1203: 'living', 1204: 'dream', 1205: 'progress', 1206: 'more', 1207: 'longer', 1208: 'apologizing', 1209: 'blaming', 1210: 'either', 1211: 'complaining', 1212: 'disagreeing', 1213: 'discouraged', 1214: 'any', 1215: 'mood', 1216: 'intimidated', 1217: 'them', 1218: 'presentable', 1219: 'manager', 1220: 'customer', 1221: 'practice', 1222: 'perfectly', 1223: 'dad', 1224: 'without', 1225: 'breath', 1226: 'slightly', 1227: 'forgot', 1228: 'undecided', 1229: 'job', 1230: 'traveling', 1231: 'frustrated', 1232: 'turn', 1233: 'novel', 1234: 'speak', 1235: 'chatterbox', 1236: 'mannered', 1237: 'dark', 1238: 'skinned', 1239: 'cake', 1240: 'natured', 1241: 'blonde', 1242: 'gossip', 1243: 'true', 1244: 'been', 1245: 'poisoned', 1246: 'penniless', 1247: 'minor', 1248: 'willed', 1249: 'guests', 1250: 'thieves', 1251: 'ignoring', 1252: 'witnesses', 1253: 'among', 1254: 'together', 1255: 'closing', 1256: 'conscientious', 1257: 'finally', 1258: 'hunting', 1259: 'dinner', 1260: 'starting', 1261: 'date', 1262: 'strangers', 1263: 'tomorrow', 1264: 'coffee', 1265: 'tempting', 1266: 'fate', 1267: 've', 1268: 'cantankerous', 1269: 'incorrigible', 1270: 'irresistible', 1271: 'hook', 1272: 'booze', 1273: 'order', 1274: 'sugar', 1275: 'poisoning', 1276: 'flirt', 1277: 'greatest', 1278: 'sweetest', 1279: 'forward', 1280: 'helpful', 1281: 'stylish', 1282: 'wasting', 1283: 'speaker', 1284: 'handsome', 1285: 'harsh', 1286: 'faith', 1287: 'cookie', 1288: 'unsung', 1289: 'breathing', 1290: 'sixty', 1291: 'five', 1292: 'feet', 1293: 'energy', 1294: 'soccer', 1295: 'please', 1296: 'usual', 1297: 'cookies', 1298: 'precious', 1299: 'savage', 1300: 'sadly', 1301: 'gloves', 1302: 'willing', 1303: 'influence', 1304: 'computer', 1305: 'freak', 1306: 'case', 1307: 'smooth', 1308: 'talker', 1309: 'player', 1310: 'dance', 1311: 'lung', 1312: 'cancer', 1313: 'grave', 1314: 'everyone', 1315: 'missed', 1316: 'boat', 1317: 'offered', 1318: 'position', 1319: 'smarter', 1320: 'clown', 1321: 'chair', 1322: 'protective', 1323: 'bears', 1324: 'forced', 1325: 'do', 1326: 'drawing', 1327: 'story', 1328: 'weighing', 1329: 'citizen', 1330: 'windows', 1331: 'complete', 1332: 'natural', 1333: 'flying', 1334: 'bill', 1335: 'allergic', 1336: 'cats', 1337: 'corn', 1338: 'disposal', 1339: 'attracted', 1340: 'calling', 1341: 'security', 1342: 'checking', 1343: 'options', 1344: 'door', 1345: 'depending', 1346: 'dishes', 1347: 'expecting', 1348: 'call', 1349: 'stressed', 1350: 'something', 1351: 'hired', 1352: 'meet', 1353: 'met', 1354: 'hardly', 1355: 'ever', 1356: 'every', 1357: 'save', 1358: 'highly', 1359: 'hitting', 1360: 'road', 1361: 'another', 1362: 'snowman', 1363: 'anymore', 1364: 'marrying', 1365: 'sitting', 1366: 'stopping', 1367: 'sides', 1368: 'servant', 1369: 'often', 1370: 'pressing', 1371: 'charges', 1372: 'if', 1373: 'beside', 1374: 'shorter', 1375: 'shot', 1376: 'll', 1377: 'terrible', 1378: 'unnecessary', 1379: 'letter', 1380: 'biggest', 1381: 'dancer', 1382: 'skate', 1383: 'sports', 1384: 'line', 1385: 'hostile', 1386: 'abroad', 1387: 'girlfriend', 1388: 'skipping', 1389: 'rope', 1390: 'belly', 1391: 'two', 1392: 'ooita', 1393: 'books', 1394: 'emotional', 1395: 'approaching', 1396: 'sisters', 1397: 'sing', 1398: 'tourists', 1399: 'find', 1400: 'threat', 1401: 'rules', 1402: 'sending', 1403: 'eleven', 1404: 'eat', 1405: 'six', 1406: 'vulnerable', 1407: 'attacked', 1408: 'blood', 1409: 'warmer', 1410: 'shopping', 1411: 'begin', 1412: 'blast', 1413: 'company', 1414: 'recession', 1415: 'barbarians', 1416: 'sued', 1417: 'evacuating', 1418: 'terrorists', 1419: 'bullets', 1420: 'protecting', 1421: 'underage', 1422: 'workaholic', 1423: 'arrest', 1424: 'what', 1425: 'german', 1426: 'double', 1427: 'parked', 1428: 'lose', 1429: 'suspect', 1430: 'opportunistic', 1431: 'overemotional', 1432: 'putting', 1433: 'growing', 1434: 'temperamental', 1435: 'unforgettable', 1436: 'generous', 1437: 'prankster', 1438: 'heroin', 1439: 'fossil', 1440: 'reason', 1441: 'vision', 1442: 'wealth', 1443: 'wisdom', 1444: 'shooter', 1445: 'spoiled', 1446: 'above', 1447: 'suspicion', 1448: 'laughing', 1449: 'army', 1450: 'officer', 1451: 'blinded', 1452: 'eager', 1453: 'bathroom', 1454: 'amateur', 1455: 'thought', 1456: 'ordinary', 1457: 'was', 1458: 'said', 1459: 'show', 1460: 'success', 1461: 'succeed', 1462: 'unable', 1463: 'glasses', 1464: 'lad', 1465: 'notorious', 1466: 'snakes', 1467: 'absolute', 1468: 'oceanographer', 1469: 'enjoying', 1470: 'himself', 1471: 'into', 1472: 'power', 1473: 'chinese', 1474: 'legs', 1475: 'their', 1476: 'parents', 1477: 'folding', 1478: 'dress', 1479: 'harvesting', 1480: 'wheat', 1481: 'classroom', 1482: 'near', 1483: 'station', 1484: 'match', 1485: 'football', 1486: 'heights', 1487: 'nothing', 1488: 'spiders', 1489: 'tricks', 1490: 'restaurant', 1491: 'blackmailed', 1492: 'homework', 1493: 'dreading', 1494: 'exam', 1495: 'sandwich', 1496: 'failing', 1497: 'japan', 1498: 'undressed', 1499: 'miss', 1500: 'watch', 1501: 'apologize', 1502: 'course', 1503: 'disbeliever', 1504: 'drug', 1505: 'millionaire', 1506: 'entirely', 1507: 'following', 1508: 'look', 1509: 'stop', 1510: 'talk', 1511: 'wait', 1512: 'anyway', 1513: 'narrow', 1514: 'unsympathetic', 1515: 'athletic', 1516: 'socks', 1517: 'break', 1518: 'place', 1519: 'game', 1520: 'rarely', 1521: 'swamped', 1522: 'chess', 1523: 'cry', 1524: 'noise', 1525: 'drawn', 1526: 'smoking', 1527: 'sewing', 1528: 'nature', 1529: 'had', 1530: 'life', 1531: 'clueless', 1532: 'smartly', 1533: 'criminals', 1534: 'completely', 1535: 'dealing', 1536: 'nowhere', 1537: 'practicing', 1538: 'responsible', 1539: 'daughters', 1540: 'seriously', 1541: 'laugh', 1542: 'kids', 1543: 'excuses', 1544: 'analyzing', 1545: 'leg', 1546: 'think', 1547: 'predictable', 1548: 'efficient', 1549: 'worse', 1550: 'birth', 1551: 'capable', 1552: 'carpenter', 1553: 'lovable', 1554: 'ability', 1555: 'eye', 1556: 'jazz', 1557: 'equal', 1558: 'painting', 1559: 'ambition', 1560: 'murder', 1561: 'need', 1562: 'outdoors', 1563: 'odd', 1564: 'riding', 1565: 'bicycle', 1566: 'brick', 1567: 'junior', 1568: 'employee', 1569: 'word', 1570: 'acting', 1571: 'drugs', 1572: 'sea', 1573: 'ahead', 1574: 'race', 1575: 'bat', 1576: 'sit', 1577: 'spy', 1578: 'leaning', 1579: 'cane', 1580: 'worthy', 1581: 'sweetheart', 1582: 'diary', 1583: 'brushing', 1584: 'teeth', 1585: 'next', 1586: 'week', 1587: 'month', 1588: 'sixteen', 1589: 'few', 1590: 'minutes', 1591: 'taxi', 1592: 'accustomed', 1593: 'gluten', 1594: 'allowing', 1595: 'body', 1596: 'party', 1597: 'airport', 1598: 'facts', 1599: 'risks', 1600: 'held', 1601: 'hostage', 1602: 'moment', 1603: 'wrecked', 1604: 'came', 1605: 'australia', 1606: 'honored', 1607: 'club', 1608: 'longing', 1609: 'key', 1610: 'grass', 1611: 'professional', 1612: 'riser', 1613: 'answering', 1614: 'disputing', 1615: 'anywhere', 1616: 'organized', 1617: 'boyfriend', 1618: 'when', 1619: 'reporting', 1620: 'hearing', 1621: 'youngest', 1622: 'argue', 1623: 'drive', 1624: 'remember', 1625: 'sunglasses', 1626: 'gifted', 1627: 'fraud', 1628: 'theft', 1629: 'habitually', 1630: 'glamorous', 1631: 'witch', 1632: 'grumbling', 1633: 'hotel', 1634: 'monopoly', 1635: 'rolling', 1636: 'younger', 1637: 'cheerful', 1638: 'tub', 1639: 'get', 1640: 'noon', 1641: 'agreement', 1642: 'also', 1643: 'eggs', 1644: 'imagining', 1645: 'things', 1646: 'investigating', 1647: 'hanging', 1648: 'ashore', 1649: 'troublemaker', 1650: 'consistent', 1651: 'malicious', 1652: 'cuter', 1653: 'mary', 1654: 'embarrassing', 1655: 'blush', 1656: 'wanted', 1657: 'pack', 1658: 'rat', 1659: 'perceptive', 1660: 'composer', 1661: 'friendly', 1662: 'medical', 1663: 'champion', 1664: 'boiling', 1665: 'rage', 1666: 'picture', 1667: 'task', 1668: 'fluent', 1669: 'adventure', 1670: 'sofa', 1671: 'seems', 1672: 'board', 1673: 'ship', 1674: 'chemistry', 1675: 'respected', 1676: 'have', 1677: 'died', 1678: 'smelling', 1679: 'soup', 1680: 'horse', 1681: 'cheat', 1682: 'lovely', 1683: 'world', 1684: 'cleaning', 1685: 'rifle', 1686: 'everybody', 1687: 'arithmetic', 1688: 'hopelessly', 1689: 'mumbling', 1690: 'floor', 1691: 'sketching', 1692: 'drink', 1693: 'understanding', 1694: 'coat', 1695: 'loved', 1696: 'magazine', 1697: 'fastest', 1698: 'climb', 1699: 'acquainted', 1700: 'will', 1701: 'rain', 1702: 'seafood', 1703: 'bear', 1704: 'loss', 1705: 'charmed', 1706: 'chores', 1707: 'dripping', 1708: 'sweat', 1709: 'emotionally', 1710: 'drained', 1711: 'wife', 1712: 'much', 1713: 'how', 1714: 'coast', 1715: 'fully', 1716: 'enjoyed', 1717: 'police', 1718: 'protect', 1719: 'head', 1720: 'average', 1721: 'around', 1722: 'advocating', 1723: 'easily', 1724: 'fishing', 1725: 'names', 1726: 'anything', 1727: 'disturbed', 1728: 'suggestions', 1729: 'name', 1730: 'who', 1731: 'everything', 1732: 'pretending', 1733: 'train', 1734: 'bus', 1735: 'giver', 1736: 'bee', 1737: 'blackmailing', 1738: 'white', 1739: 'most', 1740: 'prettier', 1741: 'present', 1742: 'awful', 1743: 'knitting', 1744: 'scarf', 1745: 'brooch', 1746: 'lady', 1747: 'heating', 1748: 'keys', 1749: 'pet', 1750: 'unfit', 1751: 'gathering', 1752: 'salad', 1753: 'girls', 1754: 'sufficient', 1755: 'four', 1756: 'breakfast', 1757: 'spanish', 1758: 'mondays', 1759: 'gonna', 1760: 'make', 1761: 'terms', 1762: 'ammunition', 1763: 'dear', 1764: 'hypocritical', 1765: 'blocking', 1766: 'view', 1767: 'easy', 1768: 'missing', 1769: 'three', 1770: 'hours', 1771: 'ignorant', 1772: 'trespassing', 1773: 'character', 1774: 'typical', 1775: 'absent', 1776: 'means', 1777: 'fresh', 1778: 'gymnastics', 1779: 'beat', 1780: 'opening', 1781: 'window', 1782: 'seeking', 1783: 'employment', 1784: 'drunkard', 1785: 'hearted', 1786: 'sorcerer', 1787: 'excellent', 1788: 'church', 1789: 'ten', 1790: 'state', 1791: 'aboard', 1792: 'wiser', 1793: 'fail', 1794: 'content', 1795: 'afternoon', 1796: 'warming', 1797: 'romantic', 1798: 'video', 1799: 'games', 1800: 'follow', 1801: 'honesty', 1802: 'long', 1803: 'member', 1804: 'university', 1805: 'definitely', 1806: 'delighted', 1807: 'feeding', 1808: 'goldfish', 1809: 'hang', 1810: 'hay', 1811: 'regret', 1812: 'shut', 1813: 'take', 1814: 'started', 1815: 'wallet', 1816: 'documentary', 1817: 'know', 1818: 'morning', 1819: 'native', 1820: 'violent', 1821: 'ask', 1822: 'anyone', 1823: 'ghosts', 1824: 'allowed', 1825: 'asking', 1826: 'breaking', 1827: 'law', 1828: 'gambling', 1829: 'compete', 1830: 'sell', 1831: 'inspired', 1832: 'plans', 1833: 'overly', 1834: 'selling', 1835: 'signing', 1836: 'clearly', 1837: 'amends', 1838: 'extrovert', 1839: 'introvert', 1840: 'phone', 1841: 'plan', 1842: 'worth', 1843: 'appalling', 1844: 'hair', 1845: 'advice', 1846: 'wallflower', 1847: 'herself', 1848: 'determined', 1849: 'drop', 1850: 'machine', 1851: 'shadow', 1852: 'high', 1853: 'heels', 1854: 'investing', 1855: 'lot', 1856: 'compatible', 1857: 'song', 1858: 'shop', 1859: 'sold', 1860: 'jeans', 1861: 'command', 1862: 'agreed', 1863: 'deluding', 1864: 'ourselves', 1865: 'pride', 1866: 'joy', 1867: 'insensitive', 1868: 'nagging', 1869: 'disobeying', 1870: 'orders', 1871: 'surprises', 1872: 'impressing', 1873: 'spoiling', 1874: 'tattletale', 1875: 'twisting', 1876: 'society', 1877: 'novelist', 1878: 'cocaine', 1879: 'day', 1880: 'environmentalist', 1881: 'or', 1882: 'inclined', 1883: 'neighbors', 1884: 'room', 1885: 'soon', 1886: 'doubts', 1887: 'overwork', 1888: 'buy', 1889: 'slowly', 1890: 'chasing', 1891: 'does', 1892: 'closet', 1893: 'congress', 1894: 'mind', 1895: 'forever', 1896: 'fourteen', 1897: 'shirts', 1898: 'hers', 1899: 'castle', 1900: 'these', 1901: 'days', 1902: 'watering', 1903: 'flowers', 1904: 'don', 1905: 'cannot', 1906: 'earthquakes', 1907: 'pressure', 1908: 'end', 1909: 'attaching', 1910: 'files', 1911: 'hate', 1912: 'bringing', 1913: 'pizza', 1914: 'pick', 1915: 'considering', 1916: 'cutting', 1917: 'thing', 1918: 'actually', 1919: 'finishing', 1920: 'information', 1921: 'could', 1922: 'realize', 1923: 'while', 1924: 'build', 1925: 'fire', 1926: 'hospital', 1927: 'beard', 1928: 'keeping', 1929: 'mouth', 1930: 'sweater', 1931: 'batteries', 1932: 'camera', 1933: 'majoring', 1934: 'sociology', 1935: 'exactly', 1936: 'pass', 1937: 'touch', 1938: 'other', 1939: 'anybody', 1940: 'planning', 1941: 'pressed', 1942: 'supposed', 1943: 'understand', 1944: 'heat', 1945: 'usually', 1946: 'newspaper', 1947: 'relieved', 1948: 'relieving', 1949: 'yelled', 1950: 'yesterday', 1951: 'kabuki', 1952: 'drama', 1953: 'suffering', 1954: 'would', 1955: 'approve', 1956: 'languages', 1957: 'marry', 1958: 'rent', 1959: 'stealing', 1960: 'piano', 1961: 'peace', 1962: 'consequence', 1963: 'wolves', 1964: 'movies', 1965: 'some', 1966: 'because', 1967: 'wall', 1968: 'teenager', 1969: 'yourself', 1970: 'track', 1971: 'lies', 1972: 'live', 1973: 'sophisticated', 1974: 'compulsive', 1975: 'noble', 1976: 'harvard', 1977: 'absorbed', 1978: 'treachery', 1979: 'baseball', 1980: 'china', 1981: 'concert', 1982: 'hunted', 1983: 'front', 1984: 'mentally', 1985: 'handicapped', 1986: 'altogether', 1987: 'neighbours', 1988: 'cross', 1989: 'legged', 1990: 'hill', 1991: 'agriculture', 1992: 'suspected', 1993: 'robbery', 1994: 'pool', 1995: 'praise', 1996: 'construction', 1997: 'abiding', 1998: 'many', 1999: 'talents', 2000: 'feller', 2001: 'junk', 2002: 'comics', 2003: 'digging', 2004: 'buddy', 2005: 'skilled', 2006: 'videogames', 2007: 'somewhere', 2008: 'park', 2009: 'helped', 2010: 'optimist', 2011: 'evening', 2012: 'news', 2013: 'stairs', 2014: 'sundays', 2015: 'difficulties', 2016: 'neck', 2017: 'black', 2018: 'belt', 2019: 'karate', 2020: 'bum', 2021: 'caught', 2022: 'wild', 2023: 'breast', 2024: 'salary', 2025: 'declaring', 2026: 'emergency', 2027: 'departing', 2028: 'move', 2029: 'nap', 2030: 'reconsider', 2031: 'tell', 2032: 'stating', 2033: 'survive', 2034: 'mom', 2035: 'unreasonable', 2036: 'disappear', 2037: 'sign', 2038: 'parties', 2039: 'believe', 2040: 'chances', 2041: 'truth', 2042: 'easter', 2043: 'egg', 2044: 'reluctant', 2045: 'visit', 2046: 'saving', 2047: 'temper', 2048: 'mistake', 2049: 'interrupt', 2050: 'traffic', 2051: 'jam', 2052: 'built', 2053: 'killed', 2054: 'mcdonald', 2055: 'currently', 2056: 'forbidden', 2057: 'worst', 2058: 'editor', 2059: 'chief', 2060: 'eyes', 2061: 'fallen', 2062: 'bench', 2063: 'annoy', 2064: 'looked', 2065: 'lab', 2066: 'minds', 2067: 'americans', 2068: 'market', 2069: 'tickets', 2070: 'play', 2071: 'heading', 2072: 'disaster', 2073: 'meant', 2074: 'each', 2075: 'throwing', 2076: 'page', 2077: 'practically', 2078: 'deceiving', 2079: 'plane', 2080: 'unbelievably', 2081: 'others', 2082: 'germans', 2083: 'jolly', 2084: 'interesting', 2085: 'fooling', 2086: 'trust', 2087: 'testing', 2088: 'patience', 2089: 'investigation', 2090: 'mathematical', 2091: 'promising', 2092: 'neatly', 2093: 'authority', 2094: 'clumsy', 2095: 'hands', 2096: 'photos', 2097: 'thirties', 2098: 'crime', 2099: 'proficient', 2100: 'roasting', 2101: 'beans', 2102: 'stage', 2103: 'marketing', 2104: 'tremendously', 2105: 'freelance', 2106: 'independent', 2107: 'thinker', 2108: 'brighter', 2109: 'cellphone', 2110: 'join', 2111: 'rough', 2112: 'edges', 2113: 'screaming', 2114: 'o', 2115: 'clock', 2116: 'sir', 2117: 'management', 2118: 'consultant', 2119: 'suggestion', 2120: 'actress', 2121: 'deeply', 2122: 'pictures', 2123: 'propose', 2124: 'shoot', 2125: 'focusing', 2126: 'allow', 2127: 'negotiating', 2128: 'suggesting', 2129: 'presents', 2130: 'complaints', 2131: 'dislike', 2132: 'persuade', 2133: 'suspicious', 2134: 'wondering', 2135: 'neat', 2136: 'certainly', 2137: 'contemplating', 2138: 'bride', 2139: 'happiness', 2140: 'gracious', 2141: 'spirits', 2142: 'muttering', 2143: 'potatoes', 2144: 'qualified', 2145: 'executive', 2146: 'annoyed', 2147: 'blue', 2148: 'inquisitive', 2149: 'happier', 2150: 'heavier', 2151: 'dreams', 2152: 'themselves', 2153: 'employees', 2154: 'dollars', 2155: 'mistakes', 2156: 'clothes', 2157: 'mild', 2158: 'winter', 2159: 'manipulated', 2160: 'players', 2161: 'keep', 2162: 'officially', 2163: 'sheet', 2164: 'cleared', 2165: 'takeoff', 2166: 'liable', 2167: 'mighty', 2168: 'attention', 2169: 'savvy', 2170: 'negotiator', 2171: 'gang', 2172: 'scare', 2173: 'profession', 2174: 'failure', 2175: 'bound', 2176: 'president', 2177: 'constantly', 2178: 'attached', 2179: 'become', 2180: 'inch', 2181: 'mayor', 2182: 'preparing', 2183: 'test', 2184: 'meeting', 2185: 'funds', 2186: 'criticism', 2187: 'trusted', 2188: 'pioneer', 2189: 'scholar', 2190: 'faults', 2191: 'socializing', 2192: 'amazed', 2193: 'audacity', 2194: 'conduct', 2195: 'doubtful', 2196: 'familiar', 2197: 'write', 2198: 'learn', 2199: 'year', 2200: 'truck', 2201: 'reader', 2202: 'rumor', 2203: 'assuming', 2204: 'auditioning', 2205: 'possibility', 2206: 'feel', 2207: 'smell', 2208: 'shoes', 2209: 'spite', 2210: 'weather', 2211: 'guidelines', 2212: 'fact', 2213: 'want', 2214: 'understands', 2215: 'brought', 2216: 'change', 2217: 'shirt', 2218: 'figure', 2219: 'fix', 2220: 'fly', 2221: 'moon', 2222: 'give', 2223: 'let', 2224: 'respond', 2225: 'use', 2226: 'problems', 2227: 'situation', 2228: 'frightened', 2229: 'particularly', 2230: 'corner', 2231: 'seat', 2232: 'promise', 2233: 'reasons', 2234: 'height', 2235: 'secrets', 2236: 'germany', 2237: 'bowl', 2238: 'spoon', 2239: 'future', 2240: 'second', 2241: 'educated', 2242: 'envious', 2243: 'thunder', 2244: 'imitating', 2245: 'staff', 2246: 'remarkably', 2247: 'toward', 2248: 'sorority', 2249: 'animal', 2250: 'abuse', 2251: 'dragging', 2252: 'torture', 2253: 'storm', 2254: 'favor', 2255: 'damage', 2256: 'suitable', 2257: 'criticizing', 2258: 'carrying', 2259: 'maniac', 2260: 'diplomatic', 2261: 'straight', 2262: 'blameless', 2263: 'pants', 2264: 'required', 2265: 'dentist', 2266: 'deal', 2267: 'field', 2268: 'guitar', 2269: 'becoming', 2270: 'ideal', 2271: 'utter', 2272: 'behavior', 2273: 'else', 2274: 'devoid', 2275: 'earning', 2276: 'computers', 2277: 'collection', 2278: 'image', 2279: 'fear', 2280: 'speeches', 2281: 'situations', 2282: 'rare', 2283: 'individual', 2284: 'businessman', 2285: 'women', 2286: 'cunning', 2287: 'manipulative', 2288: 'river', 2289: 'telephone', 2290: 'sloppy', 2291: 'result', 2292: 'safety', 2293: 'aids', 2294: 'research', 2295: 'summer', 2296: 'voice', 2297: 'assistant', 2298: 'seventeen', 2299: 'respectable', 2300: 'medicine', 2301: 'subject', 2302: 'monday', 2303: 'opportunity', 2304: 'makes', 2305: 'hanover', 2306: 'wash', 2307: 'grandmother', 2308: 'lately', 2309: 'comparing', 2310: 'misunderstood', 2311: 'flight', 2312: 'turned', 2313: 'seen', 2314: 'january', 2315: 'middle', 2316: 'survived', 2317: 'fussing', 2318: 'october', 2319: 'barking', 2320: 'rose', 2321: 'devoted', 2322: 'paralyzed', 2323: 'progressing', 2324: 'weekdays', 2325: 'neither', 2326: 'nor', 2327: 'catch', 2328: 'cream', 2329: 'crop', 2330: 'travel', 2331: 'paint', 2332: 'basketball', 2333: 'bug', 2334: 'butterfly', 2335: 'childish', 2336: 'sometimes', 2337: 'aiming', 2338: 'path', 2339: 'preaching', 2340: 'choir', 2341: 'resting', 2342: 'trained', 2343: 'thoughtful', 2344: 'behalf', 2345: 'forgetting', 2346: 'read', 2347: 'questions', 2348: 'facing', 2349: 'chicago', 2350: 'celebrity', 2351: 'fits', 2352: 'anger', 2353: 'toothache', 2354: 'director', 2355: 'grandfather', 2356: 'meticulous', 2357: 'obsessed', 2358: 'cleanliness', 2359: 'europe', 2360: 'proposal', 2361: 'positive', 2362: 'adamant', 2363: 'should', 2364: 'pattern', 2365: 'treated', 2366: 'chocolate', 2367: 'cell', 2368: 'warm', 2369: 'entitled', 2370: 'opinion', 2371: 'chance', 2372: 'fall', 2373: 'ambulance', 2374: 'kill', 2375: 'secret', 2376: 'plain', 2377: 'buck', 2378: 'politics', 2379: 'jacket', 2380: 'york', 2381: 'times', 2382: 'linux', 2383: 'laptop', 2384: 'sensing', 2385: 'hostility', 2386: 'bothering', 2387: 'bothered', 2388: 'skills', 2389: 'training', 2390: 'triathlon', 2391: 'trading', 2392: 'firm', 2393: 'ironing', 2394: 'handkerchiefs', 2395: 'appearing', 2396: 'appreciated', 2397: 'lacking', 2398: 'common', 2399: 'sense', 2400: 'cynical', 2401: 'valuable', 2402: 'ring', 2403: 'adequate', 2404: 'dependent', 2405: 'worrying', 2406: 'exams', 2407: 'loving', 2408: 'hog', 2409: 'wraps', 2410: 'malaria', 2411: 'crisis', 2412: 'square', 2413: 'freeze', 2414: 'thanksgiving', 2415: 'abusing', 2416: 'ruin', 2417: 'went', 2418: 'committee', 2419: 'imaginative', 2420: 'illness', 2421: 'manners', 2422: 'explain', 2423: 'included', 2424: 'demands', 2425: 'marriage', 2426: 'unpopular', 2427: 'mountain', 2428: 'slingshot', 2429: 'evicted', 2430: 'physical', 2431: 'condition', 2432: 'lived', 2433: 'entire', 2434: 'public', 2435: 'custom', 2436: 'must', 2437: 'innocence', 2438: 'picnic', 2439: 'least', 2440: 'troubled', 2441: 'experience', 2442: 'may', 2443: 'might', 2444: 'experiencing', 2445: 'heartburn', 2446: 'those', 2447: 'teach', 2448: 'lesson', 2449: 'basics', 2450: 'canada', 2451: 'penpal', 2452: 'criticized', 2453: 'waste', 2454: 'answer', 2455: 'obviously', 2456: 'say', 2457: 'competent', 2458: 'challenge', 2459: 'sleeves', 2460: 'throw', 2461: 'towel', 2462: 'space', 2463: 'cash', 2464: 'response', 2465: 'bawling', 2466: 'jogging', 2467: 'purchase', 2468: 'assistance', 2469: 'mathematics', 2470: 'broom', 2471: 'stick', 2472: 'distantly', 2473: 'june', 2474: 'materialistic', 2475: 'shallow', 2476: 'admitting', 2477: 'broadway', 2478: 'avenue', 2479: 'discussing', 2480: 'united', 2481: 'states', 2482: 'competitors', 2483: 'doubting', 2484: 'loves', 2485: 'ceremonies', 2486: 'potential', 2487: 'wolf', 2488: 'sheep', 2489: 'clothing', 2490: 'umbrella', 2491: 'apart', 2492: 'relatives', 2493: 'department', 2494: 'stingy', 2495: 'lives', 2496: 'india', 2497: 'carbon', 2498: 'copy', 2499: 'crybaby', 2500: 'soft', 2501: 'grand', 2502: 'auto', 2503: 'proposition', 2504: 'jewelry', 2505: 'store', 2506: 'monotonous', 2507: 'cleverness', 2508: 'responsibilities', 2509: 'chop', 2510: 'tree', 2511: 'rewrite', 2512: 'report', 2513: 'send', 2514: 'regular', 2515: 'face', 2516: 'impress', 2517: 'performance', 2518: 'hamburgers', 2519: 'birthday', 2520: 'bother', 2521: 'recognize', 2522: 'won', 2523: 'happen', 2524: 'jet', 2525: 'lag', 2526: 'number', 2527: 'television', 2528: 'accept', 2529: 'offer', 2530: 'songs', 2531: 'feeds', 2532: 'businesswoman', 2533: 'violinist', 2534: 'renown', 2535: 'possible', 2536: 'promised', 2537: 'colleagues', 2538: 'ones', 2539: 'barely', 2540: 'minimum', 2541: 'wage', 2542: 'samples', 2543: 'choosing', 2544: 'supportive', 2545: 'interrupting', 2546: 'archeologist', 2547: 'enrolled', 2548: 'country', 2549: 'concerns', 2550: 'unsatisfied', 2551: 'violin', 2552: 'towards', 2553: 'spoken', 2554: 'knives', 2555: 'notice', 2556: 'decided', 2557: 'heart', 2558: 'experiences', 2559: 'lagging', 2560: 'cotton', 2561: 'succeeded', 2562: 'christmas', 2563: 'mumps', 2564: 'spend', 2565: 'izu', 2566: 'weekend', 2567: 'demonstration', 2568: 'compared', 2569: 'further', 2570: 'apparently', 2571: 'twenty', 2572: 'snow', 2573: 'letters', 2574: 'semester', 2575: 'newspapers', 2576: 'spraying', 2577: 'trees', 2578: 'fantasy', 2579: 'planet', 2580: 'hawaii', 2581: 'interruption', 2582: 'creek', 2583: 'paddle', 2584: 'limited', 2585: 'budget', 2586: 'responsibility', 2587: 'humanity', 2588: 'reporter', 2589: 'airplane', 2590: 'simple', 2591: 'less', 2592: 'madly', 2593: 'art', 2594: 'accident', 2595: 'wandering', 2596: 'trance', 2597: 'chairman', 2598: 'hyogo', 2599: 'whether', 2600: 'repairing', 2601: 'weeks', 2602: 'yawning', 2603: 'oriental', 2604: 'pottery', 2605: 'poets', 2606: 'classifying', 2607: 'dozing', 2608: 'crutches', 2609: 'kept', 2610: 'didn', 2611: 'connected', 2612: 'paintings', 2613: 'planting', 2614: 'roses', 2615: 'financial', 2616: 'sunbathing', 2617: 'inconvenience', 2618: 'ours', 2619: 'difficult', 2620: 'smoke', 2621: 'recovery', 2622: 'millionth', 2623: 'anticipating', 2624: 'circulation', 2625: 'memory', 2626: 'technique', 2627: 'pat', 2628: 'stir', 2629: 'mayan', 2630: 'prophecies', 2631: 'gets', 2632: 'oxford', 2633: 'accustoming', 2634: 'style', 2635: 'foreign', 2636: 'invitation', 2637: 'history', 2638: 'affair', 2639: 'protection', 2640: 'internal', 2641: 'korea', 2642: 'mobile', 2643: 'worked', 2644: 'identification', 2645: 'decisions', 2646: 'personal', 2647: 'belongings', 2648: 'faced', 2649: 'lousy', 2650: 'direction', 2651: 'finding', 2652: 'fault', 2653: 'oranges', 2654: 'latin', 2655: 'humanities', 2656: 'culture', 2657: 'preparations', 2658: 'advocate', 2659: 'barefoot', 2660: 'adding', 2661: 'touches', 2662: 'months', 2663: 'discounting', 2664: 'relationship', 2665: 'bathing', 2666: 'suit', 2667: 'scheduled', 2668: 'strongly', 2669: 'opposed', 2670: 'compromise', 2671: 'economics', 2672: 'endowed', 2673: 'talent', 2674: 'misconduct', 2675: 'necklace', 2676: 'since', 2677: 'wednesday', 2678: 'collecting', 2679: 'material', 2680: 'breadwinner', 2681: 'estimate', 2682: 'choice', 2683: 'host', 2684: 'influenced', 2685: 'environment', 2686: 'laws', 2687: 'search', 2688: 'whole', 2689: 'choices', 2690: 'cut', 2691: 'expenses', 2692: 'planted', 2693: 'leeds', 2694: 'confronted', 2695: 'valuing', 2696: 'antiques', 2697: 'holding', 2698: 'arm', 2699: 'launch', 2700: 'literature', 2701: 'biology', 2702: 'leading', 2703: 'impressionable', 2704: 'till', 2705: 'stories', 2706: 'acted', 2707: 'foolishly', 2708: 'bjork', 2709: 'latest', 2710: 'ordering', 2711: 'immediately', 2712: 'studies', 2713: 'compliments', 2714: 'astronomy', 2715: 'hoping', 2716: 'overfishing', 2717: 'oceans', 2718: 'parish', 2719: 'generally', 2720: 'develop', 2721: 'sales', 2722: 'spitting', 2723: 'financially', 2724: 'swedish', 2725: 'kindness', 2726: 'orchestra', 2727: 'ear', 2728: 'disease', 2729: 'attending', 2730: 'web', 2731: 'design', 2732: 'holidays', 2733: 'yourselves', 2734: 'mountains', 2735: 'measuring', 2736: 'depth', 2737: 'interest', 2738: 'hand', 2739: 'advantage', 2740: 'weakness', 2741: 'diplomat', 2742: 'embassy', 2743: 'irritating', 2744: 'election', 2745: 'recovering', 2746: 'appointments', 2747: 'motorcycle', 2748: 'receding', 2749: 'hairline', 2750: 'parasol', 2751: 'considered', 2752: 'classical', 2753: 'acquaintance', 2754: 'exceedingly', 2755: 'expressing', 2756: 'hugging', 2757: 'encouraged', 2758: 'imagination', 2759: 'harvest', 2760: 'hospitality', 2761: 'whatever', 2762: 'thoughts', 2763: 'particularily', 2764: 'chiseling', 2765: 'statue', 2766: 'marble', 2767: 'matters', 2768: 'which', 2769: 'discuss', 2770: 'countries', 2771: 'conversation', 2772: 'express', 2773: 'dissatisfaction', 2774: 'economically', 2775: 'spokesperson', 2776: 'organization', 2777: 'recognized', 2778: 'irresponsible', 2779: 'attitude', 2780: 'savings', 2781: 'account', 2782: 'receiving', 2783: 'reply', 2784: 'narita', 2785: 'grappling', 2786: 'beliefs', 2787: 'interpreter', 2788: 'international', 2789: 'behave', 2790: 'publication', 2791: 'critical', 2792: 'shortcomings', 2793: 'susceptible', 2794: 'hypnotic', 2795: 'jackson', 2796: 'experiments', 2797: 'laboratory', 2798: 'compiling', 2799: 'software', 2800: 'contributions', 2801: 'presidential', 2802: 'candidates'}\n"
     ]
    }
   ],
   "source": [
    "print(output_lang.index2word)"
   ]
  },
  {
   "cell_type": "markdown",
   "id": "c12dd062",
   "metadata": {},
   "source": [
    "### Exporting Language Models"
   ]
  },
  {
   "cell_type": "code",
   "execution_count": 24,
   "id": "0d3b4f74",
   "metadata": {},
   "outputs": [],
   "source": [
    "with open(f'{input_lang.name}_index2word.txt', 'w') as f:\n",
    "    f.write(str(input_lang.index2word))\n",
    "    f.close()\n",
    "    \n",
    "with open(f'{output_lang.name}_index2word.txt', 'w') as f:\n",
    "    f.write(str(output_lang.index2word))\n",
    "    f.close()"
   ]
  },
  {
   "cell_type": "markdown",
   "id": "1c26b99a",
   "metadata": {},
   "source": [
    "<br>"
   ]
  }
 ],
 "metadata": {
  "kernelspec": {
   "display_name": "Python 3 (ipykernel)",
   "language": "python",
   "name": "python3"
  },
  "language_info": {
   "codemirror_mode": {
    "name": "ipython",
    "version": 3
   },
   "file_extension": ".py",
   "mimetype": "text/x-python",
   "name": "python",
   "nbconvert_exporter": "python",
   "pygments_lexer": "ipython3",
   "version": "3.10.7"
  }
 },
 "nbformat": 4,
 "nbformat_minor": 5
}
