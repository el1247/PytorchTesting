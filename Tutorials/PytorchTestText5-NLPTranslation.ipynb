{
 "cells": [
  {
   "cell_type": "markdown",
   "id": "6df9348a",
   "metadata": {},
   "source": [
    "# Pytorch Text - Translation With A Sqeuence To Sequence Network and Attention\n",
    "Notebook for following along with Pytorch Text NLP From Scratch tutorials that is looking at creating a NN to translate French to English [Pytorch](https://pytorch.org/tutorials/intermediate/seq2seq_translation_tutorial.html)  website tutorial. <br><br>\n",
    "The data can be downloaded [here](https://download.pytorch.org/tutorial/data.zip)."
   ]
  },
  {
   "cell_type": "markdown",
   "id": "ec967837",
   "metadata": {},
   "source": [
    "### Choices for data"
   ]
  },
  {
   "cell_type": "code",
   "execution_count": null,
   "id": "b0ec7a22",
   "metadata": {},
   "outputs": [],
   "source": []
  },
  {
   "cell_type": "markdown",
   "id": "66e6fc7e",
   "metadata": {},
   "source": [
    "<br>"
   ]
  },
  {
   "cell_type": "markdown",
   "id": "699447fc",
   "metadata": {},
   "source": [
    "### Libaries and Modules\n",
    "Importing the necessary libaries and modules for the notebook."
   ]
  },
  {
   "cell_type": "code",
   "execution_count": 1,
   "id": "d660636a",
   "metadata": {
    "code_folding": [],
    "jupyter": {
     "source_hidden": true
    }
   },
   "outputs": [
    {
     "name": "stdout",
     "output_type": "stream",
     "text": [
      "Device: cpu. Cuda available: False\n",
      "Imports complete\n"
     ]
    }
   ],
   "source": [
    "#Import cell\n",
    "import glob\n",
    "import matplotlib as mpl\n",
    "import matplotlib.dates as mdates\n",
    "import matplotlib.pyplot as plt\n",
    "import matplotlib.ticker as ticker\n",
    "import math\n",
    "import numpy as np\n",
    "import os\n",
    "import pandas as pd\n",
    "import pickle as pk\n",
    "import random\n",
    "import re\n",
    "import string\n",
    "import time\n",
    "import torch\n",
    "import torch.nn as nn\n",
    "import torch.nn.functional as F\n",
    "import torchtext\n",
    "import unicodedata\n",
    "\n",
    "from __future__ import unicode_literals, print_function, division\n",
    "from io import open\n",
    "from torch import optim\n",
    "\n",
    "device = torch.device('cuda' if torch.cuda.is_available() else 'cpu')\n",
    "print(f\"Device: {device}. Cuda available: {torch.cuda.is_available()}\")\n",
    "print(\"Imports complete\")"
   ]
  },
  {
   "cell_type": "markdown",
   "id": "e77d57c5",
   "metadata": {},
   "source": [
    "<br>"
   ]
  },
  {
   "cell_type": "markdown",
   "id": "144b8a2f",
   "metadata": {},
   "source": [
    "### Importing and preparing data sets\n",
    "Importing and preparing the data for the models."
   ]
  },
  {
   "cell_type": "code",
   "execution_count": 2,
   "id": "3d9d6461",
   "metadata": {
    "code_folding": []
   },
   "outputs": [
    {
     "name": "stdout",
     "output_type": "stream",
     "text": [
      "Data sets functions defined.\n"
     ]
    }
   ],
   "source": [
    "#Gather datasets and prepare them for consumption\n",
    "def unicodeToAscii(s):\n",
    "    return ''.join(\n",
    "        c for c in unicodedata.normalize('NFD', s)\n",
    "        if unicodedata.category(c)!= 'Mn')\n",
    "\n",
    "def normalizeString(s):\n",
    "    s = unicodeToAscii(s.lower().strip())\n",
    "    s = re.sub(r\"([.!?])\", r\" \\1\", s)\n",
    "    s = re.sub(r\"[^a-zA-Z.!?]+\", r\" \", s)\n",
    "    return s\n",
    "\n",
    "print(\"Data sets functions defined.\")"
   ]
  },
  {
   "cell_type": "code",
   "execution_count": 3,
   "id": "76441c10",
   "metadata": {
    "code_folding": [],
    "jupyter": {
     "source_hidden": true
    }
   },
   "outputs": [
    {
     "name": "stdout",
     "output_type": "stream",
     "text": [
      "\n",
      "Data sets successfully imported.\n"
     ]
    }
   ],
   "source": [
    "#Importing data sets\n",
    "def readLangs(lang1, lang2, reverse=False):\n",
    "    print(\"Reading lines...\")\n",
    "    lines = open('data/%s-%s.txt' % (lang1, lang2), encoding='utf-8').\\\n",
    "                read().strip().split('\\n')\n",
    "    pairs = [[normalizeString(s) for s in l.split('\\t')] for l in lines]\n",
    "    \n",
    "    if reverse:\n",
    "        pairs = [list(reversed(p)) for p in pairs]\n",
    "        input_lang = Lang(lang2)\n",
    "        output_lang = Lang(lang1)\n",
    "    else:\n",
    "        input_lang = Lang(lang1)\n",
    "        output_lang = Lang(lang2)\n",
    "    return input_lang, output_lang, pairs    \n",
    "    \n",
    "print(\"\\nData sets successfully imported.\")"
   ]
  },
  {
   "cell_type": "code",
   "execution_count": 4,
   "id": "9b051ffe",
   "metadata": {
    "code_folding": [
     0
    ]
   },
   "outputs": [
    {
     "name": "stdout",
     "output_type": "stream",
     "text": [
      "Loaders defined, running on device: cpu\n"
     ]
    }
   ],
   "source": [
    "#Loader definitions\n",
    "\n",
    "print(f\"Loaders defined, running on device: {device}\")"
   ]
  },
  {
   "cell_type": "code",
   "execution_count": 5,
   "id": "d4b04821",
   "metadata": {},
   "outputs": [
    {
     "data": {
      "text/plain": [
       "<torch._C.Generator at 0x1de31c71070>"
      ]
     },
     "execution_count": 5,
     "metadata": {},
     "output_type": "execute_result"
    }
   ],
   "source": [
    "#Setting seed value\n",
    "torch.manual_seed(1247)"
   ]
  },
  {
   "cell_type": "markdown",
   "id": "f87f41a6",
   "metadata": {},
   "source": [
    "<br>"
   ]
  },
  {
   "cell_type": "markdown",
   "id": "cf1e919b",
   "metadata": {},
   "source": [
    "### Class Definitions\n",
    "<b>Classes:</b><br>\n",
    "<ul>\n",
    "    <li>Lang - Language encoder that converts words into a single hot-vector.</li>\n",
    "    <li>Encoder - Outputs some value for every word from the input sentence. For every input word the encord outputs a vector and a hidden state, which is used for the next input word.</li>\n",
    "    <li>Decoder - takes the encoder output vector(s) and outputs a sequence of words to create the translation.</li>\n",
    "</ul>"
   ]
  },
  {
   "cell_type": "code",
   "execution_count": 6,
   "id": "a333d5e5",
   "metadata": {},
   "outputs": [],
   "source": [
    "#Constants\n",
    "SOS_token = 0\n",
    "EOS_token = 1\n",
    "MAX_LENGTH = 10"
   ]
  },
  {
   "cell_type": "code",
   "execution_count": 7,
   "id": "26f3a52d",
   "metadata": {
    "code_folding": []
   },
   "outputs": [
    {
     "name": "stdout",
     "output_type": "stream",
     "text": [
      "Classes defined.\n"
     ]
    }
   ],
   "source": [
    "#Class definition cell\n",
    "class Lang:\n",
    "    def __init__(self, name) -> None:\n",
    "        self.name = name\n",
    "        self.word2index = {}\n",
    "        self.word2count = {}\n",
    "        self.index2word = {0: \"SOS\", 1:\"EOS\"}\n",
    "        self.n_words = 2 #Count SOS and EOS\n",
    "        return None\n",
    "        \n",
    "    def addSentence(self, sentence) -> None:\n",
    "        for word in sentence.split(' '):\n",
    "            self.addWord(word)\n",
    "        return None\n",
    "    \n",
    "    def addWord(self, word) -> None:\n",
    "        if word not in self.word2index:\n",
    "            self.word2index[word] = self.n_words\n",
    "            self.word2count[word] = 1\n",
    "            self.index2word[self.n_words] = word\n",
    "            self.n_words += 1\n",
    "        else:\n",
    "            self.word2count[word] += 1\n",
    "        return None\n",
    "\n",
    "    \n",
    "class EncoderRNN(nn.Module):\n",
    "    def __init__(self, input_size, hidden_size) -> None:\n",
    "        super(EncoderRNN, self).__init__()\n",
    "        self.hidden_size = hidden_size\n",
    "        self.embedding = nn.Embedding(input_size, hidden_size)\n",
    "        self.gru = nn.GRU(hidden_size, hidden_size)\n",
    "        return None\n",
    "    \n",
    "    def forward(self, input, hidden):\n",
    "        embedding = self.embedding(input).view(1, 1, -1)\n",
    "        output = embedded\n",
    "        output, hidden = self.gru(output, hidden)\n",
    "        return output, hidden\n",
    "    \n",
    "    def initHidden(self):\n",
    "        return torch.zeros(1, 1, self.hidden_size, device=device)\n",
    "    \n",
    "\n",
    "class DecoderRNN(nn.Module):\n",
    "    def __init__(self, hidden_size, output_size) -> None:\n",
    "        super(DecoderRNN, self).init()\n",
    "        self.hidden_size = hidden_size\n",
    "        self.embedding = nn.Embedding(output_size, hidden_size)\n",
    "        self.gru = nn.GRU(hidden_size, hidden_size)\n",
    "        self.out = nn.Linear(hidden_size, output_size)\n",
    "        self.softmax = nn.LogSoftmax(dim=1)\n",
    "        return None\n",
    "    \n",
    "    def forward(self, input, hidden):\n",
    "        output = self.embedding(input).view(1, 1, -1)\n",
    "        output = F.relu(output)\n",
    "        output, hidden = self.gru(output, hidden)\n",
    "        output = self.softmax(self.out(output[0]))\n",
    "        return output, hidden\n",
    "    \n",
    "    def initHidden(self):\n",
    "        return torch.zeros(1, 1, self.hidden_size, device=device)\n",
    "    \n",
    "    \n",
    "class AttnDecoderRNN(nn.Module):\n",
    "    def __init__(self, hidden_size, output_size, dropout_p=0.1, max_length=MAX_LENGTH):\n",
    "        super(AttnDecoderRNN, self).__init__()\n",
    "        self.hidden_size = hidden_size\n",
    "        self.output_size = output_size\n",
    "        self.dropout_p = dropout_p\n",
    "        self.max_length = max_length\n",
    "        \n",
    "        self.embedding = nn.Embedding(self.output_size, self.hidden_size)\n",
    "        self.attn = nn.Linear(self.hidden_size*2, self.max_length)\n",
    "        self.attn_combine = nn.Linear(self.hidden_size*2, self.hidden_size)\n",
    "        self.dropout = nn.Dropout(self.dropout_p)\n",
    "        self.gru = nn.GRU(self.hidden_size, self.hidden_size)\n",
    "        self.out = nn.Linear(self.hidden_size, self.output_size)\n",
    "        return None\n",
    "    \n",
    "    def forward(self, input, hidden, encoder_outputs):\n",
    "        embedded = self.embedding(input).view(1, 1, -1)\n",
    "        ebeded = self.dropout(embedded)\n",
    "        \n",
    "        attn_weights = F.softmax(\n",
    "            self.attn(torch.cat((embedded[0], hidden[0]), 1)), dim=1)\n",
    "        attn_applied = torch.bmm(attn_weights.unsqueeze(0),\n",
    "                                encoder_outputs.unsqueeze(0))\n",
    "        \n",
    "        output = torch.cat((embedded[0], attn_applied[0]), 1)\n",
    "        output = self.attn_combine(output).unsqueeze(0)\n",
    "        output = F.relu(output)\n",
    "        output, hidden = self.gru(output, hidden)\n",
    "        output = F.log_softmax(self.out(output[0]), dim=1)\n",
    "        return output, hidden, attn_weights\n",
    "    \n",
    "    def initHidden(self):\n",
    "        return torch.zeros(1, 1, self.hidden_size, device=device)\n",
    "\n",
    "print(\"Classes defined.\")"
   ]
  },
  {
   "cell_type": "markdown",
   "id": "55d966b5",
   "metadata": {},
   "source": [
    "<br>"
   ]
  },
  {
   "cell_type": "markdown",
   "id": "4ae43c80",
   "metadata": {},
   "source": [
    "### Calculation functions\n",
    "<b>Functions:</b><br>\n",
    "<ul>\n",
    "    <li>filterPair - Checks if the data is below the length of MAX_LENGTH</li>\n",
    "    <li>filterPairs - returns elements in a list if below the MAX_LENGTH</li>\n",
    "    <li>prepareData - filters data by MAX_LENGTH, printing relevant information</li>\n",
    "</ul>"
   ]
  },
  {
   "cell_type": "code",
   "execution_count": 8,
   "id": "72ba5a08",
   "metadata": {
    "code_folding": [],
    "jupyter": {
     "source_hidden": true
    }
   },
   "outputs": [
    {
     "name": "stdout",
     "output_type": "stream",
     "text": [
      "Calculation functions defined.\n"
     ]
    }
   ],
   "source": [
    "#Calculation functions cell\n",
    "def filterPair(p) -> bool:\n",
    "    return len(p[0].split(' ')) < MAX_LENGTH and \\\n",
    "            len(p[1].split(' ')) < MAX_LENGTH and \\\n",
    "            p[1].startswith(eng_prefixes)\n",
    "\n",
    "def filterPairs(pairs):\n",
    "    return [pair for pair in pairs if filterPair(pair)]\n",
    "\n",
    "def prepareData(lang1, lang2, reverse=False):\n",
    "    input_lang, output_lang, pairs = readLangs(lang1, lang2, reverse)\n",
    "    print(\"Read %s sentence pairs\\n\" % len(pairs))\n",
    "    pairs = filterPairs(pairs)\n",
    "    print(\"Trimmed to %s sentence pairs\\n\" % len(pairs))\n",
    "    print(\"Counting words...\")\n",
    "    for pair in pairs:\n",
    "        input_lang.addSentence(pair[0])\n",
    "        output_lang.addSentence(pair[0])\n",
    "    print(\"Counted words:\")\n",
    "    print(input_lang.name, input_lang.n_words)\n",
    "    print(output_lang.name, output_lang.n_words, \"\\n\")\n",
    "    return input_lang, output_lang, pairs\n",
    "    \n",
    "print(\"Calculation functions defined.\")"
   ]
  },
  {
   "cell_type": "markdown",
   "id": "a6fee989",
   "metadata": {},
   "source": [
    "<br>"
   ]
  },
  {
   "cell_type": "markdown",
   "id": "f0674ba3",
   "metadata": {},
   "source": [
    "### Plotting functions\n",
    "<b>Functions:</b>\n",
    "<ul>\n",
    "    <li>showPlot - plots input array, used for plot_losses</li>\n",
    "</ul>"
   ]
  },
  {
   "cell_type": "code",
   "execution_count": 9,
   "id": "b661aee3",
   "metadata": {
    "code_folding": [],
    "jupyter": {
     "source_hidden": true
    }
   },
   "outputs": [
    {
     "name": "stdout",
     "output_type": "stream",
     "text": [
      "Plotting functions defined.\n"
     ]
    }
   ],
   "source": [
    "#Plotting functions Cell\n",
    "plt.switch_backend('agg')\n",
    "\n",
    "def showPlot(points) -> None:\n",
    "    plt.figure()\n",
    "    fig, ax = plt.subplots()\n",
    "    loc = ticker.MultipleLocator(base=0.2)\n",
    "    ax.yaxis.set_major_locator(loc)\n",
    "    plt.plot(points)\n",
    "    return None\n",
    "    \n",
    "print(\"Plotting functions defined.\")"
   ]
  },
  {
   "cell_type": "markdown",
   "id": "03b08738",
   "metadata": {},
   "source": [
    "<br>"
   ]
  },
  {
   "cell_type": "markdown",
   "id": "033e79a7",
   "metadata": {},
   "source": [
    "### Main code"
   ]
  },
  {
   "cell_type": "code",
   "execution_count": 10,
   "id": "c6afb019",
   "metadata": {},
   "outputs": [],
   "source": [
    "eng_prefixes = (\n",
    "    \"i am \", \"i m \",\n",
    "    \"he is\", \"he s \",\n",
    "    \"she is\", \"she s \",\n",
    "    \"you are\", \"you re \",\n",
    "    \"we are\", \"we re \",\n",
    "    \"they are\", \"they re \")"
   ]
  },
  {
   "cell_type": "code",
   "execution_count": 11,
   "id": "4a0563e8",
   "metadata": {},
   "outputs": [
    {
     "name": "stdout",
     "output_type": "stream",
     "text": [
      "Reading lines...\n",
      "Read 135842 sentence pairs\n",
      "\n",
      "Trimmed to 10599 sentence pairs\n",
      "\n",
      "Counting words...\n",
      "Counted words:\n",
      "fra 4345\n",
      "eng 4345 \n",
      "\n",
      "['vous etes aveuglee par l amour .', 'you are blinded by love .']\n"
     ]
    }
   ],
   "source": [
    "input_lang, output_lang, pairs = prepareData('eng', 'fra', True)\n",
    "print(random.choice(pairs))"
   ]
  },
  {
   "cell_type": "markdown",
   "id": "c9d35444",
   "metadata": {},
   "source": [
    "#### Training Functions"
   ]
  },
  {
   "cell_type": "code",
   "execution_count": 12,
   "id": "7c67983c",
   "metadata": {
    "code_folding": [
     14,
     17
    ]
   },
   "outputs": [],
   "source": [
    "#Training Preparation Functions\n",
    "def indexesFromSentence(lang, sentence):\n",
    "    return [lang.word2index[word] for word in sentence.split(' ')]\n",
    "\n",
    "def tensorFromSentence(lang, sentence):\n",
    "    indexes = indexesFromSentence(lang, sentence)\n",
    "    indexes.append(EOS_token)\n",
    "    return torch.tensor(indexes, dtype=torch.long, device=device).view(-1,1)\n",
    "\n",
    "def tensorsFromPair(pair):\n",
    "    input_tensor = tensorFromSentence(input_lang,pair[0])\n",
    "    target_tensor = tensorFromSentence(output_lang, pair[1])\n",
    "    return (input_tensor, target_tensor)\n",
    "\n",
    "def asMinutes(s):\n",
    "    return '%dm %ds' % (s//60, s%60)\n",
    "\n",
    "def timeSince(since, precent):\n",
    "    now = time.time()\n",
    "    s = now - since\n",
    "    es = s/percent\n",
    "    rs = es - s\n",
    "    return '%s (- %s)' % (asMinutes(s), asMinutes(rs))"
   ]
  },
  {
   "cell_type": "code",
   "execution_count": 13,
   "id": "74bd45e9",
   "metadata": {},
   "outputs": [],
   "source": [
    "#Single training function\n",
    "def train(input_tensor, target_tensor, encoder, decoder, encoder_optimizer,\n",
    "          decoder_optimizer, criterion, max_length=MAX_LENGTH):\n",
    "    encoder_hidden = encoder.initHidden()\n",
    "    encoder_optimizer.zero_grad()\n",
    "    decoder_optimizer.zero_grad()\n",
    "    \n",
    "    input_length = input_tensor.size(0)\n",
    "    target_length = target_tensor.size(0)\n",
    "    encoder_outputs = torch.zeros(max_length, encoder.hidden_size, device=device)\n",
    "    \n",
    "    loss = 0\n",
    "    for ei in range(input_length):\n",
    "        encoder_output, encoder_hidden = encoder(\n",
    "                                        input_tensor[ei], encoder_hidden)\n",
    "        encoder_outputs[ei] = encoder[0, 0]\n",
    "    \n",
    "    decoder_input = torch.tensor([[SOS_token]], device = device)\n",
    "    decoder_hidden = encoder_hidden\n",
    "    \n",
    "    use_teacher_forcing = True if random.random()<teacher_forcing_ratio else False\n",
    "    \n",
    "    if use_teacher_forcing: #Teacher forcing: Feed the target as the next input\n",
    "        for di in range(target_length):\n",
    "            decoder_output, decoder_hidden, decoder_attention = decoder(\n",
    "                        decoder_input, decoder_hidden, encoder_outputs)\n",
    "            decoder_input = target_tensor[di]\n",
    "            loss += criterion(decoder_output, target_tensor[di])\n",
    "    else: #Without teacher forcing: use own prediction as the next input\n",
    "        for di in range(target_length):\n",
    "            decoder_output, decoder_hidden, decoder_attention = decoder(\n",
    "                        decoder_input, decoder_hidden. encoder_outputs)\n",
    "            topv, topi = decoder_output.topk(1)\n",
    "            decoder_input = topi.squeeze().detach() #detatch from history as input\n",
    "            loss += criterion(decoder_output, target_tensor[di])\n",
    "            if decoder_input.item()==EOS_token: break\n",
    "    \n",
    "    loss.backward()\n",
    "    encoder_optimizer.step()\n",
    "    decoder_optimizer.step()\n",
    "    \n",
    "    return loss.item()/target_length"
   ]
  },
  {
   "cell_type": "code",
   "execution_count": 14,
   "id": "1d9c0d71",
   "metadata": {
    "code_folding": []
   },
   "outputs": [],
   "source": [
    "#Main training loop function\n",
    "def trainIters(encoder, decoder, n_iters, print_every=1000, \n",
    "               plot_every=1000, learning_rate=0.01) -> None:\n",
    "    start = time.time()\n",
    "    plot_losses = []\n",
    "    print_loss_total = 0\n",
    "    plot_loss_total = 0\n",
    "    \n",
    "    encoder_optimizer = optim.SGD(encoder.parameters(), lr=learning_rate)\n",
    "    decoder_optimizer = optim.SGD(decoder.parameters(), lr=learning_rate)\n",
    "    training_pairs = [tensorsFromPair(random.choice(pairs)) \n",
    "                         for i in range(n_iters)]\n",
    "    criterion = nn.NLLLoss()\n",
    "    \n",
    "    for iter in range(1, n_iters+1):\n",
    "        training_pair = training_pairs[iter-1]\n",
    "        input_tensor = training_pair[0]\n",
    "        target_tensor = training_pair[1]\n",
    "        \n",
    "        loss = train(input_tensor, target_tensor, encoder, decoder,\n",
    "                     encoder_optimizer, decoder_optimizer, criterion)\n",
    "        print_loss_total += loss\n",
    "        plot_loss_total += loss\n",
    "        \n",
    "        if iter%print_every==0:\n",
    "            print_loss_avg = print_loss_total/print_every\n",
    "            print_loss_total = 0\n",
    "            print('%s (%d %d%%) %.4f' % (timeSince(start, iter/n_iters),\n",
    "                                        iter, iter/n_iters *100, \n",
    "                                         print_loss_avg))\n",
    "        if iter%plot_every==0:\n",
    "            plot_losses.append(plot_loss_total/plot_every)\n",
    "            plot_loss_total = 0\n",
    "            \n",
    "    showPlot(plot_losses)\n",
    "    return None"
   ]
  },
  {
   "cell_type": "markdown",
   "id": "3c1e144c",
   "metadata": {},
   "source": [
    "#### Evaluating Functions"
   ]
  },
  {
   "cell_type": "code",
   "execution_count": 15,
   "id": "551e4854",
   "metadata": {},
   "outputs": [],
   "source": [
    "def evaluate(encoder, decoder, sentence, max_length=MAX_LENGTH):\n",
    "    with torch.no_grad():\n",
    "        input_tensor = tensorFROMSentence(input_lang, sentence)\n",
    "        input_lenght = input_tensor.size()[0]\n",
    "        encoder_hidden = encoder.initHidden()\n",
    "        encoder_outputs = torch.zeros(max_length, encoder.hidden_size, device=device)\n",
    "        \n",
    "        for ei in range(input_length):\n",
    "            encoder_output, encoder_hidden = encoder(input_tensor[ei],\n",
    "                                                    encoder_hidden)\n",
    "            encoder_outputs[ei] += encoder_output[0, 0]\n",
    "            \n",
    "        decoder_input = torch.tensor([[SOS_token]], device=device)\n",
    "        decoder_hidden = encoder_hidden\n",
    "        decoded_words = []\n",
    "        decoder_attentions = torch.zeros(max_length, max_length)\n",
    "        \n",
    "        for di in range(max_length):\n",
    "            decoder_output, decoder_hidden, decoder_attention = decoder(\n",
    "                decoder_input, decoder_hidden, encoder_outputs)\n",
    "            decoder_attentions[di] = decoder_attention.data\n",
    "            topv, topi = decoder_output.data.topk(1)\n",
    "            if topi.item() == EOS_token:\n",
    "                decoded_words.append('<EOS>')\n",
    "                break\n",
    "            else:\n",
    "                decoded_words.append(output_lang.index2word[topi.item()])\n",
    "            decoder_input = topi.squeeze().detach()\n",
    "            \n",
    "        return decoded_words, decoder_attentions[:di+1]\n",
    "\n",
    "    \n",
    "def evaluateRandomly(encoder, decoder, n=10) -> None:\n",
    "    for i in range(n):\n",
    "        pair = random.choice(pairs)\n",
    "        print('>', pair[0])\n",
    "        print('=', pair[1])\n",
    "        output_words, attentions = evaluate(encoder, decoder, pair[0])\n",
    "        output_sentence = ' '.join(output_words)\n",
    "        print('<', output_sentence)\n",
    "        print('')\n",
    "    return None"
   ]
  },
  {
   "cell_type": "markdown",
   "id": "cbf38ed3",
   "metadata": {},
   "source": [
    "#### Training and Evaluating"
   ]
  },
  {
   "cell_type": "code",
   "execution_count": 17,
   "id": "c91548b6",
   "metadata": {},
   "outputs": [
    {
     "ename": "KeyError",
     "evalue": "'i'",
     "output_type": "error",
     "traceback": [
      "\u001b[1;31m---------------------------------------------------------------------------\u001b[0m",
      "\u001b[1;31mKeyError\u001b[0m                                  Traceback (most recent call last)",
      "\u001b[1;32m~\\AppData\\Local\\Temp/ipykernel_51332/1281117036.py\u001b[0m in \u001b[0;36m<module>\u001b[1;34m\u001b[0m\n\u001b[0;32m      4\u001b[0m attn_decoder1 = AttnDecoderRNN(hidden_size, output_lang.n_words,\n\u001b[0;32m      5\u001b[0m                                dropout_p=0.1).to(device)\n\u001b[1;32m----> 6\u001b[1;33m \u001b[0mtrainIters\u001b[0m\u001b[1;33m(\u001b[0m\u001b[0mencoder1\u001b[0m\u001b[1;33m,\u001b[0m \u001b[0mattn_decoder1\u001b[0m\u001b[1;33m,\u001b[0m \u001b[1;36m75000\u001b[0m\u001b[1;33m,\u001b[0m \u001b[0mprint_every\u001b[0m\u001b[1;33m=\u001b[0m\u001b[1;36m5000\u001b[0m\u001b[1;33m)\u001b[0m\u001b[1;33m\u001b[0m\u001b[1;33m\u001b[0m\u001b[0m\n\u001b[0m",
      "\u001b[1;32m~\\AppData\\Local\\Temp/ipykernel_51332/704557839.py\u001b[0m in \u001b[0;36mtrainIters\u001b[1;34m(encoder, decoder, n_iters, print_every, plot_every, learning_rate)\u001b[0m\n\u001b[0;32m      9\u001b[0m     \u001b[0mencoder_optimizer\u001b[0m \u001b[1;33m=\u001b[0m \u001b[0moptim\u001b[0m\u001b[1;33m.\u001b[0m\u001b[0mSGD\u001b[0m\u001b[1;33m(\u001b[0m\u001b[0mencoder\u001b[0m\u001b[1;33m.\u001b[0m\u001b[0mparameters\u001b[0m\u001b[1;33m(\u001b[0m\u001b[1;33m)\u001b[0m\u001b[1;33m,\u001b[0m \u001b[0mlr\u001b[0m\u001b[1;33m=\u001b[0m\u001b[0mlearning_rate\u001b[0m\u001b[1;33m)\u001b[0m\u001b[1;33m\u001b[0m\u001b[1;33m\u001b[0m\u001b[0m\n\u001b[0;32m     10\u001b[0m     \u001b[0mdecoder_optimizer\u001b[0m \u001b[1;33m=\u001b[0m \u001b[0moptim\u001b[0m\u001b[1;33m.\u001b[0m\u001b[0mSGD\u001b[0m\u001b[1;33m(\u001b[0m\u001b[0mdecoder\u001b[0m\u001b[1;33m.\u001b[0m\u001b[0mparameters\u001b[0m\u001b[1;33m(\u001b[0m\u001b[1;33m)\u001b[0m\u001b[1;33m,\u001b[0m \u001b[0mlr\u001b[0m\u001b[1;33m=\u001b[0m\u001b[0mlearning_rate\u001b[0m\u001b[1;33m)\u001b[0m\u001b[1;33m\u001b[0m\u001b[1;33m\u001b[0m\u001b[0m\n\u001b[1;32m---> 11\u001b[1;33m     training_pairs = [tensorsFromPair(random.choice(pairs)) \n\u001b[0m\u001b[0;32m     12\u001b[0m                          for i in range(n_iters)]\n\u001b[0;32m     13\u001b[0m     \u001b[0mcriterion\u001b[0m \u001b[1;33m=\u001b[0m \u001b[0mnn\u001b[0m\u001b[1;33m.\u001b[0m\u001b[0mNLLLoss\u001b[0m\u001b[1;33m(\u001b[0m\u001b[1;33m)\u001b[0m\u001b[1;33m\u001b[0m\u001b[1;33m\u001b[0m\u001b[0m\n",
      "\u001b[1;32m~\\AppData\\Local\\Temp/ipykernel_51332/704557839.py\u001b[0m in \u001b[0;36m<listcomp>\u001b[1;34m(.0)\u001b[0m\n\u001b[0;32m      9\u001b[0m     \u001b[0mencoder_optimizer\u001b[0m \u001b[1;33m=\u001b[0m \u001b[0moptim\u001b[0m\u001b[1;33m.\u001b[0m\u001b[0mSGD\u001b[0m\u001b[1;33m(\u001b[0m\u001b[0mencoder\u001b[0m\u001b[1;33m.\u001b[0m\u001b[0mparameters\u001b[0m\u001b[1;33m(\u001b[0m\u001b[1;33m)\u001b[0m\u001b[1;33m,\u001b[0m \u001b[0mlr\u001b[0m\u001b[1;33m=\u001b[0m\u001b[0mlearning_rate\u001b[0m\u001b[1;33m)\u001b[0m\u001b[1;33m\u001b[0m\u001b[1;33m\u001b[0m\u001b[0m\n\u001b[0;32m     10\u001b[0m     \u001b[0mdecoder_optimizer\u001b[0m \u001b[1;33m=\u001b[0m \u001b[0moptim\u001b[0m\u001b[1;33m.\u001b[0m\u001b[0mSGD\u001b[0m\u001b[1;33m(\u001b[0m\u001b[0mdecoder\u001b[0m\u001b[1;33m.\u001b[0m\u001b[0mparameters\u001b[0m\u001b[1;33m(\u001b[0m\u001b[1;33m)\u001b[0m\u001b[1;33m,\u001b[0m \u001b[0mlr\u001b[0m\u001b[1;33m=\u001b[0m\u001b[0mlearning_rate\u001b[0m\u001b[1;33m)\u001b[0m\u001b[1;33m\u001b[0m\u001b[1;33m\u001b[0m\u001b[0m\n\u001b[1;32m---> 11\u001b[1;33m     training_pairs = [tensorsFromPair(random.choice(pairs)) \n\u001b[0m\u001b[0;32m     12\u001b[0m                          for i in range(n_iters)]\n\u001b[0;32m     13\u001b[0m     \u001b[0mcriterion\u001b[0m \u001b[1;33m=\u001b[0m \u001b[0mnn\u001b[0m\u001b[1;33m.\u001b[0m\u001b[0mNLLLoss\u001b[0m\u001b[1;33m(\u001b[0m\u001b[1;33m)\u001b[0m\u001b[1;33m\u001b[0m\u001b[1;33m\u001b[0m\u001b[0m\n",
      "\u001b[1;32m~\\AppData\\Local\\Temp/ipykernel_51332/3617855579.py\u001b[0m in \u001b[0;36mtensorsFromPair\u001b[1;34m(pair)\u001b[0m\n\u001b[0;32m     10\u001b[0m \u001b[1;32mdef\u001b[0m \u001b[0mtensorsFromPair\u001b[0m\u001b[1;33m(\u001b[0m\u001b[0mpair\u001b[0m\u001b[1;33m)\u001b[0m\u001b[1;33m:\u001b[0m\u001b[1;33m\u001b[0m\u001b[1;33m\u001b[0m\u001b[0m\n\u001b[0;32m     11\u001b[0m     \u001b[0minput_tensor\u001b[0m \u001b[1;33m=\u001b[0m \u001b[0mtensorFromSentence\u001b[0m\u001b[1;33m(\u001b[0m\u001b[0minput_lang\u001b[0m\u001b[1;33m,\u001b[0m\u001b[0mpair\u001b[0m\u001b[1;33m[\u001b[0m\u001b[1;36m0\u001b[0m\u001b[1;33m]\u001b[0m\u001b[1;33m)\u001b[0m\u001b[1;33m\u001b[0m\u001b[1;33m\u001b[0m\u001b[0m\n\u001b[1;32m---> 12\u001b[1;33m     \u001b[0mtarget_tensor\u001b[0m \u001b[1;33m=\u001b[0m \u001b[0mtensorFromSentence\u001b[0m\u001b[1;33m(\u001b[0m\u001b[0moutput_lang\u001b[0m\u001b[1;33m,\u001b[0m \u001b[0mpair\u001b[0m\u001b[1;33m[\u001b[0m\u001b[1;36m1\u001b[0m\u001b[1;33m]\u001b[0m\u001b[1;33m)\u001b[0m\u001b[1;33m\u001b[0m\u001b[1;33m\u001b[0m\u001b[0m\n\u001b[0m\u001b[0;32m     13\u001b[0m     \u001b[1;32mreturn\u001b[0m \u001b[1;33m(\u001b[0m\u001b[0minput_tensor\u001b[0m\u001b[1;33m,\u001b[0m \u001b[0mtarget_tensor\u001b[0m\u001b[1;33m)\u001b[0m\u001b[1;33m\u001b[0m\u001b[1;33m\u001b[0m\u001b[0m\n\u001b[0;32m     14\u001b[0m \u001b[1;33m\u001b[0m\u001b[0m\n",
      "\u001b[1;32m~\\AppData\\Local\\Temp/ipykernel_51332/3617855579.py\u001b[0m in \u001b[0;36mtensorFromSentence\u001b[1;34m(lang, sentence)\u001b[0m\n\u001b[0;32m      4\u001b[0m \u001b[1;33m\u001b[0m\u001b[0m\n\u001b[0;32m      5\u001b[0m \u001b[1;32mdef\u001b[0m \u001b[0mtensorFromSentence\u001b[0m\u001b[1;33m(\u001b[0m\u001b[0mlang\u001b[0m\u001b[1;33m,\u001b[0m \u001b[0msentence\u001b[0m\u001b[1;33m)\u001b[0m\u001b[1;33m:\u001b[0m\u001b[1;33m\u001b[0m\u001b[1;33m\u001b[0m\u001b[0m\n\u001b[1;32m----> 6\u001b[1;33m     \u001b[0mindexes\u001b[0m \u001b[1;33m=\u001b[0m \u001b[0mindexesFromSentence\u001b[0m\u001b[1;33m(\u001b[0m\u001b[0mlang\u001b[0m\u001b[1;33m,\u001b[0m \u001b[0msentence\u001b[0m\u001b[1;33m)\u001b[0m\u001b[1;33m\u001b[0m\u001b[1;33m\u001b[0m\u001b[0m\n\u001b[0m\u001b[0;32m      7\u001b[0m     \u001b[0mindexes\u001b[0m\u001b[1;33m.\u001b[0m\u001b[0mappend\u001b[0m\u001b[1;33m(\u001b[0m\u001b[0mEOS_token\u001b[0m\u001b[1;33m)\u001b[0m\u001b[1;33m\u001b[0m\u001b[1;33m\u001b[0m\u001b[0m\n\u001b[0;32m      8\u001b[0m     \u001b[1;32mreturn\u001b[0m \u001b[0mtorch\u001b[0m\u001b[1;33m.\u001b[0m\u001b[0mtensor\u001b[0m\u001b[1;33m(\u001b[0m\u001b[0mindexes\u001b[0m\u001b[1;33m,\u001b[0m \u001b[0mdtype\u001b[0m\u001b[1;33m=\u001b[0m\u001b[0mtorch\u001b[0m\u001b[1;33m.\u001b[0m\u001b[0mlong\u001b[0m\u001b[1;33m,\u001b[0m \u001b[0mdevice\u001b[0m\u001b[1;33m=\u001b[0m\u001b[0mdevice\u001b[0m\u001b[1;33m)\u001b[0m\u001b[1;33m.\u001b[0m\u001b[0mview\u001b[0m\u001b[1;33m(\u001b[0m\u001b[1;33m-\u001b[0m\u001b[1;36m1\u001b[0m\u001b[1;33m,\u001b[0m\u001b[1;36m1\u001b[0m\u001b[1;33m)\u001b[0m\u001b[1;33m\u001b[0m\u001b[1;33m\u001b[0m\u001b[0m\n",
      "\u001b[1;32m~\\AppData\\Local\\Temp/ipykernel_51332/3617855579.py\u001b[0m in \u001b[0;36mindexesFromSentence\u001b[1;34m(lang, sentence)\u001b[0m\n\u001b[0;32m      1\u001b[0m \u001b[1;31m#Training Preparation Functions\u001b[0m\u001b[1;33m\u001b[0m\u001b[1;33m\u001b[0m\u001b[1;33m\u001b[0m\u001b[0m\n\u001b[0;32m      2\u001b[0m \u001b[1;32mdef\u001b[0m \u001b[0mindexesFromSentence\u001b[0m\u001b[1;33m(\u001b[0m\u001b[0mlang\u001b[0m\u001b[1;33m,\u001b[0m \u001b[0msentence\u001b[0m\u001b[1;33m)\u001b[0m\u001b[1;33m:\u001b[0m\u001b[1;33m\u001b[0m\u001b[1;33m\u001b[0m\u001b[0m\n\u001b[1;32m----> 3\u001b[1;33m     \u001b[1;32mreturn\u001b[0m \u001b[1;33m[\u001b[0m\u001b[0mlang\u001b[0m\u001b[1;33m.\u001b[0m\u001b[0mword2index\u001b[0m\u001b[1;33m[\u001b[0m\u001b[0mword\u001b[0m\u001b[1;33m]\u001b[0m \u001b[1;32mfor\u001b[0m \u001b[0mword\u001b[0m \u001b[1;32min\u001b[0m \u001b[0msentence\u001b[0m\u001b[1;33m.\u001b[0m\u001b[0msplit\u001b[0m\u001b[1;33m(\u001b[0m\u001b[1;34m' '\u001b[0m\u001b[1;33m)\u001b[0m\u001b[1;33m]\u001b[0m\u001b[1;33m\u001b[0m\u001b[1;33m\u001b[0m\u001b[0m\n\u001b[0m\u001b[0;32m      4\u001b[0m \u001b[1;33m\u001b[0m\u001b[0m\n\u001b[0;32m      5\u001b[0m \u001b[1;32mdef\u001b[0m \u001b[0mtensorFromSentence\u001b[0m\u001b[1;33m(\u001b[0m\u001b[0mlang\u001b[0m\u001b[1;33m,\u001b[0m \u001b[0msentence\u001b[0m\u001b[1;33m)\u001b[0m\u001b[1;33m:\u001b[0m\u001b[1;33m\u001b[0m\u001b[1;33m\u001b[0m\u001b[0m\n",
      "\u001b[1;32m~\\AppData\\Local\\Temp/ipykernel_51332/3617855579.py\u001b[0m in \u001b[0;36m<listcomp>\u001b[1;34m(.0)\u001b[0m\n\u001b[0;32m      1\u001b[0m \u001b[1;31m#Training Preparation Functions\u001b[0m\u001b[1;33m\u001b[0m\u001b[1;33m\u001b[0m\u001b[1;33m\u001b[0m\u001b[0m\n\u001b[0;32m      2\u001b[0m \u001b[1;32mdef\u001b[0m \u001b[0mindexesFromSentence\u001b[0m\u001b[1;33m(\u001b[0m\u001b[0mlang\u001b[0m\u001b[1;33m,\u001b[0m \u001b[0msentence\u001b[0m\u001b[1;33m)\u001b[0m\u001b[1;33m:\u001b[0m\u001b[1;33m\u001b[0m\u001b[1;33m\u001b[0m\u001b[0m\n\u001b[1;32m----> 3\u001b[1;33m     \u001b[1;32mreturn\u001b[0m \u001b[1;33m[\u001b[0m\u001b[0mlang\u001b[0m\u001b[1;33m.\u001b[0m\u001b[0mword2index\u001b[0m\u001b[1;33m[\u001b[0m\u001b[0mword\u001b[0m\u001b[1;33m]\u001b[0m \u001b[1;32mfor\u001b[0m \u001b[0mword\u001b[0m \u001b[1;32min\u001b[0m \u001b[0msentence\u001b[0m\u001b[1;33m.\u001b[0m\u001b[0msplit\u001b[0m\u001b[1;33m(\u001b[0m\u001b[1;34m' '\u001b[0m\u001b[1;33m)\u001b[0m\u001b[1;33m]\u001b[0m\u001b[1;33m\u001b[0m\u001b[1;33m\u001b[0m\u001b[0m\n\u001b[0m\u001b[0;32m      4\u001b[0m \u001b[1;33m\u001b[0m\u001b[0m\n\u001b[0;32m      5\u001b[0m \u001b[1;32mdef\u001b[0m \u001b[0mtensorFromSentence\u001b[0m\u001b[1;33m(\u001b[0m\u001b[0mlang\u001b[0m\u001b[1;33m,\u001b[0m \u001b[0msentence\u001b[0m\u001b[1;33m)\u001b[0m\u001b[1;33m:\u001b[0m\u001b[1;33m\u001b[0m\u001b[1;33m\u001b[0m\u001b[0m\n",
      "\u001b[1;31mKeyError\u001b[0m: 'i'"
     ]
    }
   ],
   "source": [
    "teacher_forcing_ratio = 0.5 #Freq real target outputs are used as next input\n",
    "hidden_size = 256\n",
    "encoder1 = EncoderRNN(input_lang.n_words, hidden_size).to(device)\n",
    "attn_decoder1 = AttnDecoderRNN(hidden_size, output_lang.n_words,\n",
    "                               dropout_p=0.1).to(device)\n",
    "trainIters(encoder1, attn_decoder1, 75000, print_every=5000)"
   ]
  },
  {
   "cell_type": "code",
   "execution_count": 30,
   "id": "92dfc671",
   "metadata": {},
   "outputs": [
    {
     "name": "stdout",
     "output_type": "stream",
     "text": [
      "['ce sont toutes les miennes .', 'they re all mine .']\n",
      "tensor([[528],\n",
      "        [349],\n",
      "        [997],\n",
      "        [270],\n",
      "        [541],\n",
      "        [  5],\n",
      "        [  1]])\n"
     ]
    },
    {
     "ename": "KeyError",
     "evalue": "'they'",
     "output_type": "error",
     "traceback": [
      "\u001b[1;31m---------------------------------------------------------------------------\u001b[0m",
      "\u001b[1;31mKeyError\u001b[0m                                  Traceback (most recent call last)",
      "\u001b[1;32m~\\AppData\\Local\\Temp/ipykernel_51332/1631600834.py\u001b[0m in \u001b[0;36m<module>\u001b[1;34m\u001b[0m\n\u001b[0;32m      2\u001b[0m \u001b[0mprint\u001b[0m\u001b[1;33m(\u001b[0m\u001b[0mpair\u001b[0m\u001b[1;33m)\u001b[0m\u001b[1;33m\u001b[0m\u001b[1;33m\u001b[0m\u001b[0m\n\u001b[0;32m      3\u001b[0m \u001b[0mprint\u001b[0m\u001b[1;33m(\u001b[0m\u001b[0mtensorFromSentence\u001b[0m\u001b[1;33m(\u001b[0m\u001b[0minput_lang\u001b[0m\u001b[1;33m,\u001b[0m \u001b[0mpair\u001b[0m\u001b[1;33m[\u001b[0m\u001b[1;36m0\u001b[0m\u001b[1;33m]\u001b[0m\u001b[1;33m)\u001b[0m\u001b[1;33m)\u001b[0m\u001b[1;33m\u001b[0m\u001b[1;33m\u001b[0m\u001b[0m\n\u001b[1;32m----> 4\u001b[1;33m \u001b[0mprint\u001b[0m\u001b[1;33m(\u001b[0m\u001b[0mtensorFromSentence\u001b[0m\u001b[1;33m(\u001b[0m\u001b[0moutput_lang\u001b[0m\u001b[1;33m,\u001b[0m \u001b[0mpair\u001b[0m\u001b[1;33m[\u001b[0m\u001b[1;36m1\u001b[0m\u001b[1;33m]\u001b[0m\u001b[1;33m)\u001b[0m\u001b[1;33m)\u001b[0m\u001b[1;33m\u001b[0m\u001b[1;33m\u001b[0m\u001b[0m\n\u001b[0m\u001b[0;32m      5\u001b[0m \u001b[1;31m#print(tensorsFromPair(pair))\u001b[0m\u001b[1;33m\u001b[0m\u001b[1;33m\u001b[0m\u001b[1;33m\u001b[0m\u001b[0m\n",
      "\u001b[1;32m~\\AppData\\Local\\Temp/ipykernel_51332/3617855579.py\u001b[0m in \u001b[0;36mtensorFromSentence\u001b[1;34m(lang, sentence)\u001b[0m\n\u001b[0;32m      4\u001b[0m \u001b[1;33m\u001b[0m\u001b[0m\n\u001b[0;32m      5\u001b[0m \u001b[1;32mdef\u001b[0m \u001b[0mtensorFromSentence\u001b[0m\u001b[1;33m(\u001b[0m\u001b[0mlang\u001b[0m\u001b[1;33m,\u001b[0m \u001b[0msentence\u001b[0m\u001b[1;33m)\u001b[0m\u001b[1;33m:\u001b[0m\u001b[1;33m\u001b[0m\u001b[1;33m\u001b[0m\u001b[0m\n\u001b[1;32m----> 6\u001b[1;33m     \u001b[0mindexes\u001b[0m \u001b[1;33m=\u001b[0m \u001b[0mindexesFromSentence\u001b[0m\u001b[1;33m(\u001b[0m\u001b[0mlang\u001b[0m\u001b[1;33m,\u001b[0m \u001b[0msentence\u001b[0m\u001b[1;33m)\u001b[0m\u001b[1;33m\u001b[0m\u001b[1;33m\u001b[0m\u001b[0m\n\u001b[0m\u001b[0;32m      7\u001b[0m     \u001b[0mindexes\u001b[0m\u001b[1;33m.\u001b[0m\u001b[0mappend\u001b[0m\u001b[1;33m(\u001b[0m\u001b[0mEOS_token\u001b[0m\u001b[1;33m)\u001b[0m\u001b[1;33m\u001b[0m\u001b[1;33m\u001b[0m\u001b[0m\n\u001b[0;32m      8\u001b[0m     \u001b[1;32mreturn\u001b[0m \u001b[0mtorch\u001b[0m\u001b[1;33m.\u001b[0m\u001b[0mtensor\u001b[0m\u001b[1;33m(\u001b[0m\u001b[0mindexes\u001b[0m\u001b[1;33m,\u001b[0m \u001b[0mdtype\u001b[0m\u001b[1;33m=\u001b[0m\u001b[0mtorch\u001b[0m\u001b[1;33m.\u001b[0m\u001b[0mlong\u001b[0m\u001b[1;33m,\u001b[0m \u001b[0mdevice\u001b[0m\u001b[1;33m=\u001b[0m\u001b[0mdevice\u001b[0m\u001b[1;33m)\u001b[0m\u001b[1;33m.\u001b[0m\u001b[0mview\u001b[0m\u001b[1;33m(\u001b[0m\u001b[1;33m-\u001b[0m\u001b[1;36m1\u001b[0m\u001b[1;33m,\u001b[0m\u001b[1;36m1\u001b[0m\u001b[1;33m)\u001b[0m\u001b[1;33m\u001b[0m\u001b[1;33m\u001b[0m\u001b[0m\n",
      "\u001b[1;32m~\\AppData\\Local\\Temp/ipykernel_51332/3617855579.py\u001b[0m in \u001b[0;36mindexesFromSentence\u001b[1;34m(lang, sentence)\u001b[0m\n\u001b[0;32m      1\u001b[0m \u001b[1;31m#Training Preparation Functions\u001b[0m\u001b[1;33m\u001b[0m\u001b[1;33m\u001b[0m\u001b[1;33m\u001b[0m\u001b[0m\n\u001b[0;32m      2\u001b[0m \u001b[1;32mdef\u001b[0m \u001b[0mindexesFromSentence\u001b[0m\u001b[1;33m(\u001b[0m\u001b[0mlang\u001b[0m\u001b[1;33m,\u001b[0m \u001b[0msentence\u001b[0m\u001b[1;33m)\u001b[0m\u001b[1;33m:\u001b[0m\u001b[1;33m\u001b[0m\u001b[1;33m\u001b[0m\u001b[0m\n\u001b[1;32m----> 3\u001b[1;33m     \u001b[1;32mreturn\u001b[0m \u001b[1;33m[\u001b[0m\u001b[0mlang\u001b[0m\u001b[1;33m.\u001b[0m\u001b[0mword2index\u001b[0m\u001b[1;33m[\u001b[0m\u001b[0mword\u001b[0m\u001b[1;33m]\u001b[0m \u001b[1;32mfor\u001b[0m \u001b[0mword\u001b[0m \u001b[1;32min\u001b[0m \u001b[0msentence\u001b[0m\u001b[1;33m.\u001b[0m\u001b[0msplit\u001b[0m\u001b[1;33m(\u001b[0m\u001b[1;34m' '\u001b[0m\u001b[1;33m)\u001b[0m\u001b[1;33m]\u001b[0m\u001b[1;33m\u001b[0m\u001b[1;33m\u001b[0m\u001b[0m\n\u001b[0m\u001b[0;32m      4\u001b[0m \u001b[1;33m\u001b[0m\u001b[0m\n\u001b[0;32m      5\u001b[0m \u001b[1;32mdef\u001b[0m \u001b[0mtensorFromSentence\u001b[0m\u001b[1;33m(\u001b[0m\u001b[0mlang\u001b[0m\u001b[1;33m,\u001b[0m \u001b[0msentence\u001b[0m\u001b[1;33m)\u001b[0m\u001b[1;33m:\u001b[0m\u001b[1;33m\u001b[0m\u001b[1;33m\u001b[0m\u001b[0m\n",
      "\u001b[1;32m~\\AppData\\Local\\Temp/ipykernel_51332/3617855579.py\u001b[0m in \u001b[0;36m<listcomp>\u001b[1;34m(.0)\u001b[0m\n\u001b[0;32m      1\u001b[0m \u001b[1;31m#Training Preparation Functions\u001b[0m\u001b[1;33m\u001b[0m\u001b[1;33m\u001b[0m\u001b[1;33m\u001b[0m\u001b[0m\n\u001b[0;32m      2\u001b[0m \u001b[1;32mdef\u001b[0m \u001b[0mindexesFromSentence\u001b[0m\u001b[1;33m(\u001b[0m\u001b[0mlang\u001b[0m\u001b[1;33m,\u001b[0m \u001b[0msentence\u001b[0m\u001b[1;33m)\u001b[0m\u001b[1;33m:\u001b[0m\u001b[1;33m\u001b[0m\u001b[1;33m\u001b[0m\u001b[0m\n\u001b[1;32m----> 3\u001b[1;33m     \u001b[1;32mreturn\u001b[0m \u001b[1;33m[\u001b[0m\u001b[0mlang\u001b[0m\u001b[1;33m.\u001b[0m\u001b[0mword2index\u001b[0m\u001b[1;33m[\u001b[0m\u001b[0mword\u001b[0m\u001b[1;33m]\u001b[0m \u001b[1;32mfor\u001b[0m \u001b[0mword\u001b[0m \u001b[1;32min\u001b[0m \u001b[0msentence\u001b[0m\u001b[1;33m.\u001b[0m\u001b[0msplit\u001b[0m\u001b[1;33m(\u001b[0m\u001b[1;34m' '\u001b[0m\u001b[1;33m)\u001b[0m\u001b[1;33m]\u001b[0m\u001b[1;33m\u001b[0m\u001b[1;33m\u001b[0m\u001b[0m\n\u001b[0m\u001b[0;32m      4\u001b[0m \u001b[1;33m\u001b[0m\u001b[0m\n\u001b[0;32m      5\u001b[0m \u001b[1;32mdef\u001b[0m \u001b[0mtensorFromSentence\u001b[0m\u001b[1;33m(\u001b[0m\u001b[0mlang\u001b[0m\u001b[1;33m,\u001b[0m \u001b[0msentence\u001b[0m\u001b[1;33m)\u001b[0m\u001b[1;33m:\u001b[0m\u001b[1;33m\u001b[0m\u001b[1;33m\u001b[0m\u001b[0m\n",
      "\u001b[1;31mKeyError\u001b[0m: 'they'"
     ]
    }
   ],
   "source": [
    "pair = random.choice(pairs)\n",
    "print(pair)\n",
    "print(tensorFromSentence(input_lang, pair[0]))\n",
    "print(tensorFromSentence(output_lang, pair[1]))\n",
    "#print(tensorsFromPair(pair))"
   ]
  },
  {
   "cell_type": "code",
   "execution_count": 44,
   "id": "22488fbf",
   "metadata": {},
   "outputs": [
    {
     "name": "stdout",
     "output_type": "stream",
     "text": [
      "eng\n",
      "4345\n",
      "{0: 'SOS', 1: 'EOS', 2: 'j', 3: 'ai', 4: 'ans', 5: '.', 6: 'je', 7: 'vais', 8: 'bien', 9: 'ca', 10: 'va', 11: 'suis', 12: 'gras', 13: 'gros', 14: 'en', 15: 'forme', 16: 'touche', 17: '!', 18: 'touchee', 19: 'malade', 20: 'triste', 21: 'timide', 22: 'mouille', 23: 'mouillee', 24: 'il', 25: 'est', 26: 'revenu', 27: 'me', 28: 'revoila', 29: 'chauve', 30: 'occupe', 31: 'occupee', 32: 'calme', 33: 'froid', 34: 'fini', 35: 'tout', 36: 'libre', 37: 'disponible', 38: 'repu', 39: 'rassasie', 40: 'content', 41: 'chez', 42: 'moi', 43: 'retard', 44: 'paresseux', 45: 'faineant', 46: 'paresseuse', 47: 'faineante', 48: 'porte', 49: 'securite', 50: 'certain', 51: 'sur', 52: 'sure', 53: 'grande', 54: 'mince', 55: 'ordonne', 56: 'ordonnee', 57: 'laid', 58: 'laide', 59: 'faible', 60: 'vieux', 61: 'dj', 62: 'bon', 63: 'riche', 64: 'ici', 65: 'flic', 66: 'un', 67: 'homme', 68: 'seule', 69: 'seul', 70: 'arme', 71: 'armee', 72: 'reveille', 73: 'aveugle', 74: 'fauche', 75: 'fou', 76: 'folle', 77: 'gueri', 78: 'guerie', 79: 'saoul', 80: 'soul', 81: 'ivre', 82: 'meurs', 83: 'avance', 84: 'premier', 85: 'difficile', 86: 'tatillon', 87: 'tatillonne', 88: 'pars', 89: 'maintenant', 90: 'tire', 91: 'y', 92: 'loyal', 93: 'loyale', 94: 'veinard', 95: 'veinarde', 96: 'du', 97: 'pot', 98: 'chanceux', 99: 'chanceuse', 100: 'train', 101: 'de', 102: 'mentir', 103: 'tranquille', 104: 'prete', 105: 'pret', 106: 'raison', 107: 'sobre', 108: 'excuse', 109: 'desole', 110: 'desolee', 111: 'coincee', 112: 'fatigue', 113: 'dur', 114: 'dure', 115: 'a', 116: 'cuire', 117: 'toi', 118: 'vous', 119: 'elle', 120: 'chaude', 121: 'tres', 122: 'attirante', 123: 'nous', 124: 'avons', 125: 'chaud', 126: 'sommes', 127: 'tristes', 128: 'timides', 129: 'faire', 130: 'gentil', 131: 'pauvre', 132: 'suisse', 133: 'helvete', 134: 'ruine', 135: 'intelligent', 136: 'humain', 137: 'creve', 138: 'francais', 139: 'coreen', 140: 'heros', 141: 'menteur', 142: 'cuis', 143: 'mieux', 144: 'paie', 145: 'c', 146: 'qui', 147: 'grassouillet', 148: 'grassouillette', 149: 'mange', 150: 'connu', 151: 'connue', 152: 'plus', 153: 'rapide', 154: 'flasque', 155: 'cupide', 156: 'gourmand', 157: 'gourmande', 158: 'cache', 159: 'honnete', 160: 'humble', 161: 'faim', 162: 'immunise', 163: 'immunisee', 164: 'au', 165: 'lit', 166: 'alite', 167: 'alitee', 168: 'rigole', 169: 'sens', 170: 'perdre', 171: 'demenager', 172: 'normal', 173: 'normale', 174: 'payer', 175: 'repose', 176: 'reposee', 177: 'ruinee', 178: 'remue', 179: 'remuee', 180: 'celibataire', 181: 'maigrichon', 182: 'maigrichonne', 183: 'sommeil', 184: 'sournois', 185: 'sournoise', 186: 'strict', 187: 'stricte', 188: 'fort', 189: 'forte', 190: 'trente', 191: 'affaiblie', 192: 'vieille', 193: 'gentille', 194: 'des', 195: 'hommes', 196: 'retour', 197: 'occupes', 198: 'occupees', 199: 'termine', 200: 'quittes', 201: 'allons', 202: 'la', 203: 'perdus', 204: 'perdues', 205: 'riches', 206: 'on', 207: 'foutu', 208: 'foutus', 209: 'faibles', 210: 'tu', 211: 'es', 212: 'vilain', 213: 'grand', 214: 'etes', 215: 'grands', 216: 'grandes', 217: 't', 218: 'marrante', 219: 'marrant', 220: 'vieilles', 221: 'huit', 222: 'hai', 223: 'mechant', 224: 'jeune', 225: 'beau', 226: 'mec', 227: 'gosse', 228: 'type', 229: 'binoclard', 230: 'flemmard', 231: 'endormi', 232: 'arrive', 233: 'd', 234: 'arriver', 235: 'pleurer', 236: 'simule', 237: 'blinde', 238: 'pete', 239: 'thune', 240: 'plein', 241: 'aux', 242: 'as', 243: 'mon', 244: 'age', 245: 'n', 246: 'pas', 247: 'lui', 248: 'l', 249: 'interieur', 250: 'cuisinier', 251: 'moine', 252: 'plaisante', 253: 'egalement', 254: 'dix', 255: 'sept', 256: 'finlandais', 257: 'finlandaise', 258: 'italien', 259: 'boulanger', 260: 'boulangere', 261: 'fait', 262: 'honte', 263: 'maison', 264: 'dans', 265: 'perplexe', 266: 'beni', 267: 'benie', 268: 'prudent', 269: 'prudente', 270: 'les', 271: 'foies', 272: 'chocottes', 273: 'curieux', 274: 'curieuse', 275: 'danser', 276: 'regime', 277: 'conduire', 278: 'conduis', 279: 'fiance', 280: 'fiancee', 281: 'excite', 282: 'excitee', 283: 'fais', 284: 'diete', 285: 'meticuleux', 286: 'meticuleuse', 287: 'affole', 288: 'affolee', 289: 'furieux', 290: 'bonne', 291: 'sante', 292: 'fredonne', 293: 'jalouse', 294: 'frousse', 295: 'marie', 296: 'mariee', 297: 'ne', 298: 'une', 299: 'idiote', 300: 'service', 301: 'patiente', 302: 'patient', 303: 'populaire', 304: 'remonte', 305: 'voyant', 306: 'voyante', 307: 'lis', 308: 'detendu', 309: 'detendue', 310: 'retraite', 311: 'retraitee', 312: 'pensionne', 313: 'pensionnee', 314: 'egoiste', 315: 'serieux', 316: 'choque', 317: 'choquee', 318: 'sincere', 319: 'bourre', 320: 'bourree', 321: 'tellement', 322: 'estomac', 323: 'talons', 324: 'dalle', 325: 'crocs', 326: 'reste', 327: 'gave', 328: 'gavee', 329: 'sidere', 330: 'sideree', 331: 'discuter', 332: 'taquine', 333: 'soif', 334: 'trop', 335: 'mecontent', 336: 'mecontente', 337: 'schcoumoune', 338: 'fortune', 339: 'fortunee', 340: 'gagne', 341: 'emporte', 342: 'travailler', 343: 'souci', 344: 'charme', 345: 'morte', 346: 'enfoiree', 347: 'renard', 348: 'ils', 349: 'sont', 350: 'mauvais', 351: 'elles', 352: 'mauvaises', 353: 'egalite', 354: 'seuls', 355: 'seules', 356: 'colere', 357: 'armes', 358: 'armees', 359: 'ennuyons', 360: 's', 361: 'emmerde', 362: 'fauches', 363: 'fauchees', 364: 'mourir', 365: 'heureux', 366: 'pretes', 367: 'sauves', 368: 'sauvees', 369: 'intelligents', 370: 'intelligentes', 371: 'desoles', 372: 'desolees', 373: 'coinces', 374: 'coincees', 375: 'fatigues', 376: 'fatiguees', 377: 'jumeaux', 378: 'jumelles', 379: 'sympa', 380: 'decontracte', 381: 'juste', 382: 'justes', 383: 'vas', 384: 'libres', 385: 'bons', 386: 'bonnes', 387: 'paresseuses', 388: 'perdu', 389: 'perdue', 390: 'sympas', 391: 'dingue', 392: 'dingues', 393: 'givre', 394: 'givree', 395: 'givres', 396: 'givrees', 397: 'grossier', 398: 'grossiers', 399: 'grossiere', 400: 'grossieres', 401: 'sauf', 402: 'saufs', 403: 'sauve', 404: 'minces', 405: 'poete', 406: 'excentrique', 407: 'manger', 408: 'heroique', 409: 'anglais', 410: 'bigot', 411: 'sectaire', 412: 'fanatique', 413: 'illumine', 414: 'souffre', 415: 'actuellement', 416: 'exterieur', 417: 'si', 418: 'mignon', 419: 'couard', 420: 'lache', 421: 'medecin', 422: 'toubib', 423: 'fermier', 424: 'agriculteur', 425: 'travaille', 426: 'ma', 427: 'ferme', 428: 'puriste', 429: 'drogue', 430: 'accro', 431: 'assuetude', 432: 'ouie', 433: 'adulte', 434: 'agent', 435: 'saigner', 436: 'melange', 437: 'pinceaux', 438: 'creatif', 439: 'creative', 440: 'cultive', 441: 'cultivee', 442: 'divorce', 443: 'divorcee', 444: 'noyer', 445: 'fidele', 446: 'affame', 447: 'intrepide', 448: 'bats', 449: 'gele', 450: 'cloue', 451: 'clouee', 452: 'credule', 453: 'le', 454: 'mal', 455: 'pays', 456: 'gueule', 457: 'bois', 458: 'paris', 459: 'innocent', 460: 'innocente', 461: 'ingenu', 462: 'ingenue', 463: 'implique', 464: 'impliquee', 465: 'm', 466: 'sors', 467: 'nouveau', 468: 'rebelle', 469: 'saint', 470: 'sainte', 471: 'sourd', 472: 'sourde', 473: 'abruti', 474: 'abrutie', 475: 'blesse', 476: 'blessee', 477: 'mechante', 478: 'certaine', 479: 'offense', 480: 'offensee', 481: 'indigne', 482: 'indignee', 483: 'puissant', 484: 'puissante', 485: 'preparee', 486: 'prepare', 487: 'ponctuel', 488: 'ponctuelle', 489: 'rationnel', 490: 'rationnelle', 491: 'amende', 492: 'amendee', 493: 'fiable', 494: 'tiens', 495: 'place', 496: 'impitoyable', 497: 'dormir', 498: 'las', 499: 'parler', 500: 'fringale', 501: 'tetu', 502: 'tetue', 503: 'obstine', 504: 'obstinee', 505: 'patron', 506: 'patronne', 507: 'reflechis', 508: 'minutieux', 509: 'minutieuse', 510: 'consciencieux', 511: 'consciencieuse', 512: 'ravi', 513: 'ravie', 514: 'chatouilleux', 515: 'chatouilleuse', 516: 'affaire', 517: 'affairee', 518: 'dis', 519: 'verite', 520: 'impartial', 521: 'impartiale', 522: 'dessus', 523: 'epuise', 524: 'chancarde', 525: 'tranchante', 526: 'affutee', 527: 'tort', 528: 'ce', 529: 'garcons', 530: 'froids', 531: 'froides', 532: 'flics', 533: 'mignons', 534: 'mignonnes', 535: 'decedes', 536: 'decedees', 537: 'ont', 538: 'partis', 539: 'parties', 540: 'miens', 541: 'miennes', 542: 'arabes', 543: 'equipe', 544: 'adultes', 545: 'tous', 546: 'guerre', 547: 'notre', 548: 'point', 549: 'vue', 550: 'biaise', 551: 'prejuges', 552: 'achetons', 553: 'fermes', 554: 'venons', 555: 'sortons', 556: 'ensemble', 557: 'condamnes', 558: 'cachons', 559: 'plaisantons', 560: 'perdons', 561: 'bouger', 562: 'normaux', 563: 'normales', 564: 'creves', 565: 'crevees', 566: 'ruines', 567: 'ruinees', 568: 'remues', 569: 'remuees', 570: 'sournoises', 571: 'forts', 572: 'fortes', 573: 'essayons', 574: 'joues', 575: 'chef', 576: 'cruelle', 577: 'cruel', 578: 'cruelles', 579: 'cruels', 580: 'viens', 581: 'tot', 582: 'matinal', 583: 'matinale', 584: 'vire', 585: 'licencie', 586: 'passes', 587: 'marrants', 588: 'marrantes', 589: 'manieres', 590: 'faites', 591: 'malpoli', 592: 'mens', 593: 'mentez', 594: 'lunatique', 595: 'naif', 596: 'naive', 597: 'naifs', 598: 'naives', 599: 'idiot', 600: 'idiots', 601: 'idiotes', 602: 'plante', 603: 'plantee', 604: 'plantes', 605: 'plantees', 606: 'durs', 607: 'dures', 608: 'contrariee', 609: 'contrarie', 610: 'bizarre', 611: 'bizarres', 612: 'erreur', 613: 'jeunes', 614: 'britannique', 615: 'voleur', 616: 'genre', 617: 'sorti', 618: 'lire', 619: 'court', 620: 'patin', 621: 'patine', 622: 'rouspeteur', 623: 'jesuite', 624: 'aine', 625: 'ancien', 626: 'magnat', 627: 'adorable', 628: 'derriere', 629: 'apres', 630: 'mes', 631: 'fesses', 632: 'poursuit', 633: 'embetant', 634: 'tokyo', 635: 'peu', 636: 'manque', 637: 'confiance', 638: 'sans', 639: 'pitie', 640: 'etudie', 641: 'etudier', 642: 'lent', 643: 'ton', 644: 'fils', 645: 'votre', 646: 'americain', 647: 'americaine', 648: 'japonais', 649: 'musulman', 650: 'musulmane', 651: 'coureur', 652: 'diabetique', 653: 'etudiant', 654: 'professeur', 655: 'enseignante', 656: 'adapte', 657: 'peur', 658: 'toute', 659: 'ambitieuse', 660: 'ambitieux', 661: 'artiste', 662: 'orphelin', 663: 'attentive', 664: 'attentif', 665: 'belle', 666: 'preoccupe', 667: 'preoccupee', 668: 'voila', 669: 'satisfait', 670: 'satisfaite', 671: 'convaincu', 672: 'deprime', 673: 'desespere', 674: 'desesperee', 675: 'differente', 676: 'degoute', 677: 'degoutee', 678: 'facile', 679: 'vivre', 680: 'epuisee', 681: 'vanne', 682: 'vannee', 683: 'fourbu', 684: 'crevee', 685: 'distrait', 686: 'distraite', 687: 'etourdi', 688: 'etourdie', 689: 'tom', 690: 'ur', 691: 'impatient', 692: 'impatiente', 693: 'important', 694: 'impressionnee', 695: 'impulsif', 696: 'impulsive', 697: 'boston', 698: 'danger', 699: 'intrigue', 700: 'intriguee', 701: 'cela', 702: 'ecoute', 703: 'motivee', 704: 'motive', 705: 'expert', 706: 'partie', 707: 'ses', 708: 'admirateurs', 709: 'leurs', 710: 'rends', 711: 'heureuse', 712: 'contente', 713: 'obese', 714: 'petite', 715: 'fatiguee', 716: 'observateur', 717: 'observatrice', 718: 'respectueux', 719: 'respectueuse', 720: 'chemin', 721: 'route', 722: 'desarme', 723: 'desarmee', 724: 'realiste', 725: 'eprouve', 726: 'ressentiment', 727: 'endurant', 728: 'endurante', 729: 'tenace', 730: 'non', 731: 'sensible', 732: 'surpris', 733: 'surprise', 734: 'survis', 735: 'terrifie', 736: 'terrifiee', 737: 'assure', 738: 'assuree', 739: 'vote', 740: 'tombe', 741: 'francaise', 742: 'jumelle', 743: 'active', 744: 'pleure', 745: 'beaute', 746: 'mannequin', 747: 'super', 748: 'asiatiques', 749: 'vie', 750: 'eveilles', 751: 'eveillees', 752: 'courageux', 753: 'courageuses', 754: 'yeux', 755: 'propres', 756: 'fous', 757: 'folles', 758: 'saouls', 759: 'saoules', 760: 'heureuses', 761: 'mentent', 762: 'petits', 763: 'petites', 764: 'espions', 765: 'espionnes', 766: 'formons', 767: 'groupe', 768: 'anxieux', 769: 'perplexes', 770: 'prudents', 771: 'prudentes', 772: 'certains', 773: 'certaines', 774: 'cousines', 775: 'fiances', 776: 'faisons', 777: 'amis', 778: 'amies', 779: 'aimons', 780: 'amoureux', 781: 'amoureuses', 782: 'veinards', 783: 'veinardes', 784: 'souffrons', 785: 'synchronises', 786: 'synchronisees', 787: 'ville', 788: 'jalouses', 789: 'maries', 790: 'detendus', 791: 'detendues', 792: 'serieuses', 793: 'choques', 794: 'choquees', 795: 'sinceres', 796: 'coulons', 797: 'couler', 798: 'bourres', 799: 'bourrees', 800: 'speciaux', 801: 'arret', 802: 'affames', 803: 'affamees', 804: 'restons', 805: 'gaves', 806: 'gavees', 807: 'sideres', 808: 'siderees', 809: 'touches', 810: 'touchees', 811: 'pieges', 812: 'piegees', 813: 'satisfaits', 814: 'satisfaites', 815: 'malchanceux', 816: 'malchanceuses', 817: 'inutiles', 818: 'attendre', 819: 'gagneurs', 820: 'gagner', 821: 'malin', 822: 'avez', 823: 'amour', 824: 'menteuse', 825: 'snob', 826: 'partiale', 827: 'partial', 828: 'ennuyez', 829: 'ennuies', 830: 'brillant', 831: 'brillante', 832: 'brillants', 833: 'brillantes', 834: 'maline', 835: 'malins', 836: 'malines', 837: 'ruse', 838: 'rusee', 839: 'ruses', 840: 'rusees', 841: 'astucieux', 842: 'astucieuse', 843: 'sinistre', 844: 'sinistres', 845: 'connus', 846: 'connues', 847: 'avide', 848: 'avides', 849: 'bougon', 850: 'bougonne', 851: 'grognon', 852: 'plaisantes', 853: 'plaisantez', 854: 'fric', 855: 'pleine', 856: 'drole', 857: 'jolie', 858: 'maigrichonnes', 859: 'maigrichons', 860: 'endormie', 861: 'endormis', 862: 'endormies', 863: 'injuste', 864: 'canadien', 865: 'genie', 866: 'ecrivain', 867: 'acteur', 868: 'faillite', 869: 'oncle', 870: 'ouvert', 871: 'sociable', 872: 'extraverti', 873: 'quelque', 874: 'joueur', 875: 'desormais', 876: 'planque', 877: 'auteur', 878: 'detenu', 879: 'hors', 880: 'loi', 881: 'harcele', 882: 'se', 883: 'trouve', 884: 'prison', 885: 'ami', 886: 'rend', 887: 'hongrois', 888: 'garcon', 889: 'touriste', 890: 'londres', 891: 'petrin', 892: 'endroit', 893: 'conge', 894: 'aujourd', 895: 'hui', 896: 'petit', 897: 'musicien', 898: 'musicienne', 899: 'quelqu', 900: 'vrai', 901: 'vendeur', 902: 'que', 903: 'crains', 904: 'contre', 905: 'maladroit', 906: 'vieil', 907: 'stupefait', 908: 'stupefaite', 909: 'utilise', 910: 'contagieux', 911: 'contagieuse', 912: 'mort', 913: 'deshydrate', 914: 'deshydratee', 915: 'peut', 916: 'compter', 917: 'aneanti', 918: 'aneantie', 919: 'bas', 920: 'entrainer', 921: 'vois', 922: 'loin', 923: 'fascine', 924: 'fascinee', 925: 'te', 926: 'kyoto', 927: 'retourne', 928: 'deviens', 929: 'aussi', 930: 'amuse', 931: 'analphabete', 932: 'voiture', 933: 'interesse', 934: 'interessee', 935: 'seulement', 936: 'simplement', 937: 'the', 938: 'mediter', 939: 'methodique', 940: 'baisse', 941: 'facilement', 942: 'bras', 943: 'abandonne', 944: 'amer', 945: 'amere', 946: 'grincheux', 947: 'grincheuse', 948: 'coupable', 949: 'blague', 950: 'raciste', 951: 'suffisamment', 952: 'vacances', 953: 'conges', 954: 'entre', 955: 'optimiste', 956: 'essence', 957: 'vraiment', 958: 'raisonnable', 959: 'reamenager', 960: 'quelle', 961: 'poisse', 962: 'toujours', 963: 'encore', 964: 'succes', 965: 'tueur', 966: 'deshabille', 967: 'devets', 968: 'chomage', 969: 'talent', 970: 'depourvu', 971: 'depourvue', 972: 'habitue', 973: 'accoutume', 974: 'habituee', 975: 'vegetarienne', 976: 'eveille', 977: 'eveillee', 978: 'infirmiere', 979: 'maladroite', 980: 'exprimer', 981: 'fille', 982: 'bombe', 983: 'canon', 984: 'ange', 985: 'enceinte', 986: 'attend', 987: 'evenement', 988: 'famille', 989: 'bruyante', 990: 'parle', 991: 'ennuient', 992: 'bebes', 993: 'ennuyeux', 994: 'ennuyeuses', 995: 'arrivent', 996: 'prets', 997: 'toutes', 998: 'couple', 999: 'completement', 1000: 'freres', 1001: 'divorces', 1002: 'echapper', 1003: 'battre', 1004: 'reconnaissants', 1005: 'reconnaissantes', 1006: 'impuissants', 1007: 'impuissantes', 1008: 'ouverts', 1009: 'ouvertes', 1010: 'surs', 1011: 'sures', 1012: 'obeissants', 1013: 'obeissantes', 1014: 'partenaires', 1015: 'puissants', 1016: 'puissantes', 1017: 'ponctuels', 1018: 'ponctuelles', 1019: 'abandonnons', 1020: 'fiables', 1021: 'partons', 1022: 'pension', 1023: 'impitoyables', 1024: 'debout', 1025: 'mourons', 1026: 'tetus', 1027: 'tetues', 1028: 'etudiants', 1029: 'meilleurs', 1030: 'meilleures', 1031: 'derniers', 1032: 'dernieres', 1033: 'pareils', 1034: 'pareilles', 1035: 'cretins', 1036: 'attardes', 1037: 'mentaux', 1038: 'stupide', 1039: 'puritain', 1040: 'puritaine', 1041: 'incroyable', 1042: 'incroyables', 1043: 'marrer', 1044: 'genial', 1045: 'geniale', 1046: 'insensible', 1047: 'insaisissable', 1048: 'tatillons', 1049: 'tatillonnes', 1050: 'imprudent', 1051: 'imprudente', 1052: 'imprudents', 1053: 'imprudentes', 1054: 'invites', 1055: 'invitees', 1056: 'invite', 1057: 'invitee', 1058: 'marcher', 1059: 'aucune', 1060: 'aide', 1061: 'grosse', 1062: 'grosses', 1063: 'conviens', 1064: 'convenez', 1065: 'precis', 1066: 'precise', 1067: 'remontee', 1068: 'egoistes', 1069: 'mechants', 1070: 'mechantes', 1071: 'professionnel', 1072: 'prie', 1073: 'avec', 1074: 'plaisir', 1075: 'rien', 1076: 'gagnes', 1077: 'gagnez', 1078: 'emportes', 1079: 'emportez', 1080: 'reveur', 1081: 'peintre', 1082: 'medium', 1083: 'enseignant', 1084: 'instituteur', 1085: 'paye', 1086: 'ment', 1087: 'comedien', 1088: 'membre', 1089: 'fraternite', 1090: 'etudiante', 1091: 'bizuth', 1092: 'bleu', 1093: 'jardinier', 1094: 'venu', 1095: 'lambin', 1096: 'lourdaud', 1097: 'gaucher', 1098: 'devient', 1099: 'epoux', 1100: 'associe', 1101: 'compagnon', 1102: 'partenaire', 1103: 'photogenique', 1104: 'egypte', 1105: 'barre', 1106: 'barree', 1107: 'azeri', 1108: 'tele', 1109: 'emeche', 1110: 'emechee', 1111: 'etranger', 1112: 'femme', 1113: 'foyer', 1114: 'masochiste', 1115: 'oiseau', 1116: 'nuit', 1117: 'peux', 1118: 'courir', 1119: 'sais', 1120: 'skier', 1121: 'presque', 1122: 'quasiment', 1123: 'aventureuse', 1124: 'ingenieur', 1125: 'travail', 1126: 'supplie', 1127: 'capte', 1128: 'comprends', 1129: 'fete', 1130: 'arrose', 1131: 'lave', 1132: 'daltonien', 1133: 'aise', 1134: 'cooperer', 1135: 'craque', 1136: 'gene', 1137: 'abattu', 1138: 'abattue', 1139: 'bresil', 1140: 'originaire', 1141: 'france', 1142: 'turquie', 1143: 'zambie', 1144: 'commence', 1145: 'devenir', 1146: 'vieillis', 1147: 'applique', 1148: 'appliquee', 1149: 'brise', 1150: 'pour', 1151: 'vaincre', 1152: 'presse', 1153: 'pressee', 1154: 'derange', 1155: 'introverti', 1156: 'introvertie', 1157: 'myope', 1158: 'anglaise', 1159: 'enfant', 1160: 'escroc', 1161: 'ivrogne', 1162: 'robot', 1163: 'voleuse', 1164: 'alarme', 1165: 'dispute', 1166: 'nerveux', 1167: 'nerveuse', 1168: 'parfait', 1169: 'parfaite', 1170: 'malheureux', 1171: 'malheureuse', 1172: 'blaguer', 1173: 'munitions', 1174: 'persevere', 1175: 'plutot', 1176: 'assez', 1177: 'aller', 1178: 'partir', 1179: 'remplacable', 1180: 'ressources', 1181: 'marre', 1182: 'confus', 1183: 'spontanee', 1184: 'spontane', 1185: 'tel', 1186: 'compassion', 1187: 'capitaine', 1188: 'chirurgien', 1189: 'ras', 1190: 'bol', 1191: 'sincerement', 1192: 'ambition', 1193: 'convaincue', 1194: 'loup', 1195: 'modeste', 1196: 'regarder', 1197: 'television', 1198: 'amie', 1199: 'avocat', 1200: 'ta', 1201: 'canadienne', 1202: 'japonaise', 1203: 'coureuse', 1204: 'chanteuse', 1205: 'dactylographe', 1206: 'dactylo', 1207: 'gracieuse', 1208: 'assurance', 1209: 'deprimee', 1210: 'passe', 1211: 'baraka', 1212: 'acteurs', 1213: 'melons', 1214: 'animaux', 1215: 'disputer', 1216: 'cousins', 1217: 'medecins', 1218: 'nerveuses', 1219: 'partent', 1220: 'vont', 1221: 'dehors', 1222: 'similaires', 1223: 'semblables', 1224: 'sourient', 1225: 'speciales', 1226: 'restent', 1227: 'parlent', 1228: 'grasses', 1229: 'enseignants', 1230: 'enseignantes', 1231: 'regardons', 1232: 'canadiens', 1233: 'canadiennes', 1234: 'flexibles', 1235: 'ambitieuses', 1236: 'disponibles', 1237: 'deux', 1238: 'comediens', 1239: 'engages', 1240: 'engagees', 1241: 'devoues', 1242: 'devouees', 1243: 'deprimes', 1244: 'differents', 1245: 'differentes', 1246: 'reparer', 1247: 'flattes', 1248: 'jardiniers', 1249: 'gentilshommes', 1250: 'charge', 1251: 'dirigeons', 1252: 'ecoutons', 1253: 'nouveaux', 1254: 'venus', 1255: 'nouvelles', 1256: 'venues', 1257: 'imbeciles', 1258: 'chichis', 1259: 'rendons', 1260: 'contents', 1261: 'contentes', 1262: 'depasse', 1263: 'prisonniers', 1264: 'prisonnieres', 1265: 'realistes', 1266: 'demissionnons', 1267: 'endurants', 1268: 'endurantes', 1269: 'sensibles', 1270: 'separees', 1271: 'separes', 1272: 'surprises', 1273: 'survivons', 1274: 'survivants', 1275: 'survivantes', 1276: 'nos', 1277: 'scores', 1278: 'serres', 1279: 'proches', 1280: 'assures', 1281: 'assurees', 1282: 'apparentes', 1283: 'apparentees', 1284: 'heroine', 1285: 'vilaine', 1286: 'comme', 1287: 'mignonne', 1288: 'celui', 1289: 'elu', 1290: 'celle', 1291: 'elue', 1292: 'adorables', 1293: 'finis', 1294: 'finies', 1295: 'chiant', 1296: 'chiante', 1297: 'arrogant', 1298: 'arrogante', 1299: 'arrogants', 1300: 'arrogantes', 1301: 'rougis', 1302: 'negligent', 1303: 'negligente', 1304: 'charmant', 1305: 'charmante', 1306: 'charmantes', 1307: 'charmants', 1308: 'triches', 1309: 'trichez', 1310: 'embrouilles', 1311: 'creatifs', 1312: 'creatives', 1313: 'dement', 1314: 'deloyal', 1315: 'deloyale', 1316: 'deloyales', 1317: 'deloyaux', 1318: 'fideles', 1319: 'intrepides', 1320: 'pardonne', 1321: 'pardonnee', 1322: 'pardonnes', 1323: 'pardonnees', 1324: 'terre', 1325: 'hideuses', 1326: 'hideux', 1327: 'trompez', 1328: 'trompes', 1329: 'ennemi', 1330: 'morts', 1331: 'mortes', 1332: 'malades', 1333: 'pathetique', 1334: 'pathetiques', 1335: 'agite', 1336: 'agitee', 1337: 'autoritaire', 1338: 'difficiles', 1339: 'gentils', 1340: 'gentilles', 1341: 'temporises', 1342: 'temporisez', 1343: 'entete', 1344: 'entetee', 1345: 'talentueux', 1346: 'talentueuse', 1347: 'talentueuses', 1348: 'meilleur', 1349: 'meilleure', 1350: 'bruyant', 1351: 'bruyants', 1352: 'bruyantes', 1353: 'lente', 1354: 'lents', 1355: 'lentes', 1356: 'acrobate', 1357: 'lune', 1358: 'son', 1359: 'pyjama', 1360: 'soucis', 1361: 'problemes', 1362: 'ennuis', 1363: 'qu', 1364: 'frere', 1365: 'jamais', 1366: 'apprecie', 1367: 'tenancier', 1368: 'bar', 1369: 'niais', 1370: 'adore', 1371: 'chats', 1372: 'gentleman', 1373: 'historien', 1374: 'fumeur', 1375: 'deuxieme', 1376: 'annee', 1377: 'cote', 1378: 'grippe', 1379: 'meme', 1380: 'classe', 1381: 'coup', 1382: 'foudre', 1383: 'esprit', 1384: 'ces', 1385: 'pauvres', 1386: 'types', 1387: 'inconscient', 1388: 'observe', 1389: 'pere', 1390: 'volontaire', 1391: 'cuisine', 1392: 'moment', 1393: 'russie', 1394: 'frire', 1395: 'poisson', 1396: 'temps', 1397: 'payee', 1398: 'semaine', 1399: 'relativement', 1400: 'vingt', 1401: 'cinq', 1402: 'cousin', 1403: 'employe', 1404: 'banque', 1405: 'solitaire', 1406: 'gars', 1407: 'fondu', 1408: 'photo', 1409: 'nager', 1410: 'desoriente', 1411: 'desorientee', 1412: 'deja', 1413: 'mauvaise', 1414: 'humeur', 1415: 'ambidextre', 1416: 'plage', 1417: 'emplois', 1418: 'postes', 1419: 'changer', 1420: 'poste', 1421: 'tes', 1422: 'cotes', 1423: 'vos', 1424: 'paume', 1425: 'decu', 1426: 'dejeune', 1427: 'colle', 1428: 'flippe', 1429: 'amerique', 1430: 'croatie', 1431: 'angleterre', 1432: 'roumanie', 1433: 'coucher', 1434: 'instant', 1435: 'scolarise', 1436: 'scolarisee', 1437: 'garde', 1438: 'grenier', 1439: 'tue', 1440: 'ainsi', 1441: 'dire', 1442: 'different', 1443: 'mendiant', 1444: 'docteur', 1445: 'serieuse', 1446: 'frime', 1447: 'rever', 1448: 'extravertie', 1449: 'paranoiaque', 1450: 'idees', 1451: 'reagis', 1452: 'fier', 1453: 'glandes', 1454: 'essaye', 1455: 'benevolat', 1456: 'pianiste', 1457: 'sage', 1458: 'fachee', 1459: 'russes', 1460: 'disputent', 1461: 'artistes', 1462: 'chanteurs', 1463: 'faux', 1464: 'fausses', 1465: 'disparu', 1466: 'droles', 1467: 'temporiser', 1468: 'etudiantes', 1469: 'eleves', 1470: 'traitres', 1471: 'tantinet', 1472: 'celibataires', 1473: 'uniques', 1474: 'stupefaits', 1475: 'exploite', 1476: 'copains', 1477: 'reduisons', 1478: 'voilure', 1479: 'pigeons', 1480: 'retournons', 1481: 'arriere', 1482: 'descendons', 1483: 'vers', 1484: 'ouest', 1485: 'moitie', 1486: 'amusons', 1487: 'fac', 1488: 'controlons', 1489: 'situation', 1490: 'sauveteurs', 1491: 'acheter', 1492: 'fricotons', 1493: 'coupables', 1494: 'besoin', 1495: 'voix', 1496: 'connaissons', 1497: 'reussite', 1498: 'cernes', 1499: 'decoller', 1500: 'proprietaires', 1501: 'deshabillons', 1502: 'deshabiller', 1503: 'emploi', 1504: 'depourvus', 1505: 'depourvues', 1506: 'enfants', 1507: 'fabuleux', 1508: 'fabuleuse', 1509: 'splendide', 1510: 'impossible', 1511: 'incorrigible', 1512: 'responsable', 1513: 'responsables', 1514: 'arrives', 1515: 'tard', 1516: 'arrivez', 1517: 'traitre', 1518: 'traitresse', 1519: 'allez', 1520: 'comprendre', 1521: 'savez', 1522: 'beaux', 1523: 'belles', 1524: 'suffisant', 1525: 'suffisante', 1526: 'suffisants', 1527: 'suffisantes', 1528: 'courtois', 1529: 'courtoise', 1530: 'courtoises', 1531: 'epuises', 1532: 'epuisees', 1533: 'oublieux', 1534: 'oublieuse', 1535: 'chance', 1536: 'chanceuses', 1537: 'chanteur', 1538: 'mourant', 1539: 'viree', 1540: 'vires', 1541: 'virees', 1542: 'odieux', 1543: 'odieuse', 1544: 'odieuses', 1545: 'observation', 1546: 'pouvoir', 1547: 'tenaces', 1548: 'frissonnes', 1549: 'bavard', 1550: 'bavarde', 1551: 'bavards', 1552: 'bavardes', 1553: 'tendu', 1554: 'tendue', 1555: 'tendus', 1556: 'tendues', 1557: 'immoral', 1558: 'immorale', 1559: 'chouette', 1560: 'chouettes', 1561: 'ouverte', 1562: 'avise', 1563: 'avisee', 1564: 'sages', 1565: 'avises', 1566: 'avisees', 1567: 'merveilleux', 1568: 'merveilleuse', 1569: 'merveilleuses', 1570: 'mangeur', 1571: 'biologiste', 1572: 'brave', 1573: 'casse', 1574: 'cou', 1575: 'detective', 1576: 'dramaturge', 1577: 'monsieur', 1578: 'physicien', 1579: 'taiseux', 1580: 'scientifique', 1581: 'doit', 1582: 'avoir', 1583: 'quarantaine', 1584: 'bureau', 1585: 'tirer', 1586: 'cas', 1587: 'espoir', 1588: 'affaires', 1589: 'incompetent', 1590: 'influent', 1591: 'vivant', 1592: 'fache', 1593: 'instruit', 1594: 'irrealiste', 1595: 'regarde', 1596: 'tv', 1597: 'journaliste', 1598: 'mordu', 1599: 'cinema', 1600: 'parti', 1601: 'alle', 1602: 'cycle', 1603: 'endette', 1604: 'jusqu', 1605: 'georgie', 1606: 'mouise', 1607: 'vient', 1608: 'air', 1609: 'et', 1610: 'met', 1611: 'poches', 1612: 'fourre', 1613: 'fouilles', 1614: 'ramasse', 1615: 'argent', 1616: 'pelle', 1617: 'prend', 1618: 'oseille', 1619: 'dort', 1620: 'profondement', 1621: 'anges', 1622: 'confiant', 1623: 'etre', 1624: 'aime', 1625: 'rendre', 1626: 'pain', 1627: 'maths', 1628: 'debiteur', 1629: 'debitrice', 1630: 'personne', 1631: 'nouvel', 1632: 'nouvelle', 1633: 'eleve', 1634: 'vraie', 1635: 'loque', 1636: 'ennuie', 1637: 'agee', 1638: 'ecole', 1639: 'merci', 1640: 'conscient', 1641: 'consciente', 1642: 'terriblement', 1643: 'attention', 1644: 'montre', 1645: 'patience', 1646: 'concentrer', 1647: 'cours', 1648: 'concentration', 1649: 'devoir', 1650: 'penser', 1651: 'extremement', 1652: 'tete', 1653: 'tourne', 1654: 'abasourdi', 1655: 'bulgarie', 1656: 'colombie', 1657: 'rejouis', 1658: 'sauter', 1659: 'irremplacable', 1660: 'supposer', 1661: 'perds', 1662: 'poids', 1663: 'maigris', 1664: 'joueuse', 1665: 'monstre', 1666: 'pratique', 1667: 'divination', 1668: 'devin', 1669: 'telepathe', 1670: 'soldat', 1671: 'institutrice', 1672: 'indisponible', 1673: 'gobe', 1674: 'dangereux', 1675: 'impressionne', 1676: 'pieces', 1677: 'panique', 1678: 'persuade', 1679: 'persuadee', 1680: 'entraineur', 1681: 'bebe', 1682: 'servante', 1683: 'deborde', 1684: 'partout', 1685: 'sorte', 1686: 'sceptique', 1687: 'attends', 1688: 'prendre', 1689: 'bain', 1690: 'voisin', 1691: 'debutante', 1692: 'novice', 1693: 'agressive', 1694: 'asociale', 1695: 'niaise', 1696: 'coriace', 1697: 'mode', 1698: 'argument', 1699: 'hyperactive', 1700: 'massives', 1701: 'massifs', 1702: 'regardent', 1703: 'menteurs', 1704: 'menteuses', 1705: 'cannibales', 1706: 'dangereuses', 1707: 'onereux', 1708: 'onereuses', 1709: 'chics', 1710: 'intacts', 1711: 'intactes', 1712: 'australiens', 1713: 'australiennes', 1714: 'camarades', 1715: 'rire', 1716: 'mariees', 1717: 'laches', 1718: 'retraites', 1719: 'retraitees', 1720: 'fetons', 1721: 'cooperons', 1722: 'defenses', 1723: 'experience', 1724: 'disposons', 1725: 'nord', 1726: 'sud', 1727: 'occuper', 1728: 'charger', 1729: 'derangeons', 1730: 'journalistes', 1731: 'habilles', 1732: 'habillees', 1733: 'tueurs', 1734: 'tueuses', 1735: 'parfaits', 1736: 'parfaites', 1737: 'sourire', 1738: 'bienvenus', 1739: 'bienvenues', 1740: 'clous', 1741: 'biere', 1742: 'lait', 1743: 'vin', 1744: 'perseverons', 1745: 'retirons', 1746: 'pleins', 1747: 'prenons', 1748: 'controle', 1749: 'ascendant', 1750: 'rejouons', 1751: 'probleme', 1752: 'dignes', 1753: 'actrices', 1754: 'importants', 1755: 'importantes', 1756: 'importante', 1757: 'prisonnier', 1758: 'agressif', 1759: 'exprimes', 1760: 'exprimez', 1761: 'courageuse', 1762: 'degoutant', 1763: 'degoutante', 1764: 'degoutants', 1765: 'degoutantes', 1766: 'tues', 1767: 'tuez', 1768: 'surmene', 1769: 'surmenee', 1770: 'surmenees', 1771: 'surmenes', 1772: 'productif', 1773: 'productive', 1774: 'productifs', 1775: 'productives', 1776: 'remarquable', 1777: 'cerne', 1778: 'cernees', 1779: 'cernee', 1780: 'maitre', 1781: 'maitresse', 1782: 'doyen', 1783: 'doyenne', 1784: 'ainee', 1785: 'poli', 1786: 'polie', 1787: 'polis', 1788: 'polies', 1789: 'maigre', 1790: 'maigres', 1791: 'braves', 1792: 'vif', 1793: 'vive', 1794: 'vifs', 1795: 'vives', 1796: 'intelligente', 1797: 'craintif', 1798: 'craintive', 1799: 'craintifs', 1800: 'craintives', 1801: 'peureux', 1802: 'peureuse', 1803: 'peureuses', 1804: 'contraries', 1805: 'contrariees', 1806: 'conducteur', 1807: 'poissonnier', 1808: 'perdant', 1809: 'environ', 1810: 'pres', 1811: 'article', 1812: 'boire', 1813: 'dejeuner', 1814: 'camarade', 1815: 'collegue', 1816: 'radio', 1817: 'joue', 1818: 'golf', 1819: 'venir', 1820: 'borne', 1821: 'soigneux', 1822: 'erudit', 1823: 'jaloux', 1824: 'creationiste', 1825: 'marcheur', 1826: 'sale', 1827: 'critique', 1828: 'gastronomique', 1829: 'negre', 1830: 'gardien', 1831: 'but', 1832: 'methamphetamines', 1833: 'etrange', 1834: 'aristocrate', 1835: 'approche', 1836: 'rapproche', 1837: 'concret', 1838: 'cartes', 1839: 'douche', 1840: 'bougre', 1841: 'notres', 1842: 'unique', 1843: 'frole', 1844: 'cinquante', 1845: 'independant', 1846: 'bouc', 1847: 'emissaire', 1848: 'flexible', 1849: 'enseigner', 1850: 'musique', 1851: 'portugal', 1852: 'shizuoka', 1853: 'griller', 1854: 'difficulte', 1855: 'jardin', 1856: 'monde', 1857: 'voisine', 1858: 'apprends', 1859: 'vite', 1860: 'rouille', 1861: 'photographe', 1862: 'mais', 1863: 'chauves', 1864: 'souris', 1865: 'chiens', 1866: 'harceler', 1867: 'promu', 1868: 'promue', 1869: 'puni', 1870: 'punie', 1871: 'preuve', 1872: 'saigne', 1873: 'gravement', 1874: 'achete', 1875: 'chiot', 1876: 'claustrophobe', 1877: 'suite', 1878: 'juillet', 1879: 'compte', 1880: 'eau', 1881: 'dimanche', 1882: 'singapour', 1883: 'prends', 1884: 'remets', 1885: 'detendre', 1886: 'ski', 1887: 'ecouter', 1888: '?', 1889: 'baignoire', 1890: 'peine', 1891: 'commencer', 1892: 'tcheque', 1893: 'laisse', 1894: 'libere', 1895: 'special', 1896: 'particulier', 1897: 'criminel', 1898: 'criminelle', 1899: 'magicien', 1900: 'lubies', 1901: 'nie', 1902: 'invincible', 1903: 'surpoids', 1904: 'saoule', 1905: 'ennemie', 1906: 'incontrolable', 1907: 'demarrer', 1908: 'embarrasse', 1909: 'embarrassee', 1910: 'excusez', 1911: 'sous', 1912: 'choc', 1913: 'soudainement', 1914: 'soutiens', 1915: 'double', 1916: 'enthousiasme', 1917: 'usage', 1918: 'cette', 1919: 'tasse', 1920: 'utiliser', 1921: 'beaucoup', 1922: 'ecrire', 1923: 'bouquin', 1924: 'pietre', 1925: 'cuisiniere', 1926: 'aider', 1927: 'embrasser', 1928: 'pieds', 1929: 'dedans', 1930: 'inconsciente', 1931: 'elite', 1932: 'alcoolique', 1933: 'fruits', 1934: 'extenues', 1935: 'extenuees', 1936: 'bienveillants', 1937: 'bienveillantes', 1938: 'chretiens', 1939: 'illets', 1940: 'jetables', 1941: 'dessous', 1942: 'mots', 1943: 'furieuses', 1944: 'viennent', 1945: 'font', 1946: 'gens', 1947: 'infectes', 1948: 'infectees', 1949: 'memes', 1950: 'effort', 1951: 'bientot', 1952: 'ecrivains', 1953: 'conservateurs', 1954: 'contribuons', 1955: 'decues', 1956: 'entretien', 1957: 'penetrer', 1958: 'essayer', 1959: 'mi', 1960: 'miel', 1961: 'gardons', 1962: 'bibliotheque', 1963: 'battons', 1964: 'impliques', 1965: 'impliquees', 1966: 'soldats', 1967: 'stock', 1968: 'reagissons', 1969: 'horaire', 1970: 'serre', 1971: 'enfuyons', 1972: 'ralentir', 1973: 'attaques', 1974: 'attaquees', 1975: 'excites', 1976: 'excitees', 1977: 'portons', 1978: 'volontaires', 1979: 'insupportable', 1980: 'regardes', 1981: 'regardez', 1982: 'nounours', 1983: 'zozo', 1984: 'specimen', 1985: 'gamin', 1986: 'racistes', 1987: 'enerves', 1988: 'evites', 1989: 'evitez', 1990: 'prevenant', 1991: 'prevenante', 1992: 'cooperez', 1993: 'extravertis', 1994: 'extraverties', 1995: 'fascinante', 1996: 'fascinantes', 1997: 'fascinant', 1998: 'fascinants', 1999: 'branche', 2000: 'branchee', 2001: 'branches', 2002: 'branchees', 2003: 'princesse', 2004: 'contusionne', 2005: 'contusionnee', 2006: 'contusionnes', 2007: 'contusionnees', 2008: 'habille', 2009: 'habillee', 2010: 'aides', 2011: 'aidez', 2012: 'liste', 2013: 'ecoule', 2014: 'remplacer', 2015: 'indispensable', 2016: 'pitoyable', 2017: 'vivants', 2018: 'vivante', 2019: 'vivantes', 2020: 'inexperimente', 2021: 'sacre', 2022: 'quel', 2023: 'sacree', 2024: 'prof', 2025: 'touchez', 2026: 'rouge', 2027: 'devenez', 2028: 'astucieuses', 2029: 'ingenieux', 2030: 'ingenieuse', 2031: 'habile', 2032: 'habiles', 2033: 'ingenieuses', 2034: 'direct', 2035: 'directe', 2036: 'directes', 2037: 'solitaires', 2038: 'travailleur', 2039: 'taille', 2040: 'tendance', 2041: 'oublier', 2042: 'rugby', 2043: 'religieux', 2044: 'kilos', 2045: 'probablement', 2046: 'promenade', 2047: 'dit', 2048: 'mensonge', 2049: 'nettoie', 2050: 'chapeau', 2051: 'cardiologue', 2052: 'invetere', 2053: 'embrasse', 2054: 'tardivement', 2055: 'maturite', 2056: 'electron', 2057: 'scenariste', 2058: 'actif', 2059: 'inconditionnel', 2060: 'opera', 2061: 'comporte', 2062: 'etrangement', 2063: 'correctement', 2064: 'faut', 2065: 'auparavant', 2066: 'merde', 2067: 'cinquantaine', 2068: 'probable', 2069: 'vienne', 2070: 'electricien', 2071: 'nouilles', 2072: 'rejoindre', 2073: 'morphee', 2074: 'mere', 2075: 'eplucher', 2076: 'pommes', 2077: 'mediocre', 2078: 'tennis', 2079: 'livre', 2080: 'fois', 2081: 'entendre', 2082: 'debutant', 2083: 'dors', 2084: 'perfectionniste', 2085: 'social', 2086: 'travailleuse', 2087: 'sociale', 2088: 'etrangere', 2089: 'sortir', 2090: 'programme', 2091: 'lessive', 2092: 'paille', 2093: 'pomme', 2094: 'marier', 2095: 'voir', 2096: 'enchante', 2097: 'rencontrer', 2098: 'ayons', 2099: 'vu', 2100: 'voyage', 2101: 'sciences', 2102: 'chant', 2103: 'vetements', 2104: 'incroyablement', 2105: 'dette', 2106: 'envers', 2107: 'apprendre', 2108: 'basque', 2109: 'soir', 2110: 'vis', 2111: 'reve', 2112: 'progres', 2113: 'presente', 2114: 'excuses', 2115: 'blame', 2116: 'reviens', 2117: 'plains', 2118: 'accorde', 2119: 'decourage', 2120: 'decouragee', 2121: 'moindre', 2122: 'douleur', 2123: 'intimide', 2124: 'intimidee', 2125: 'quitte', 2126: 'serail', 2127: 'leur', 2128: 'bande', 2129: 'presentable', 2130: 'fiere', 2131: 'client', 2132: 'parfaitement', 2133: 'bout', 2134: 'souffle', 2135: 'legerement', 2136: 'oublie', 2137: 'inquiet', 2138: 'indecis', 2139: 'coince', 2140: 'boulot', 2141: 'leger', 2142: 'essaie', 2143: 'frustre', 2144: 'frustree', 2145: 'tour', 2146: 'ecris', 2147: 'roman', 2148: 'capable', 2149: 'moulin', 2150: 'parole', 2151: 'elevee', 2152: 'peau', 2153: 'noire', 2154: 'gateaux', 2155: 'nature', 2156: 'bienveillante', 2157: 'eux', 2158: 'blamer', 2159: 'mineure', 2160: 'nee', 2161: 'blonde', 2162: 'concierge', 2163: 'commere', 2164: 'ravissante', 2165: 'veritable', 2166: 'ete', 2167: 'empoisonnee', 2168: 'volonte', 2169: 'chretiennes', 2170: 'voleurs', 2171: 'voleuses', 2172: 'attendent', 2173: 'pretent', 2174: 'moches', 2175: 'nes', 2176: 'impressionnes', 2177: 'impressionnees', 2178: 'temoins', 2179: 'milieu', 2180: 'observes', 2181: 'fermons', 2182: 'consciencieuses', 2183: 'enfin', 2184: 'approchons', 2185: 'arrivons', 2186: 'commencons', 2187: 'fatiguer', 2188: 'chasse', 2189: 'comptons', 2190: 'abandonner', 2191: 'etrangers', 2192: 'demain', 2193: 'cafe', 2194: 'jouer', 2195: 'fiers', 2196: 'fieres', 2197: 'tentons', 2198: 'diable', 2199: 'inquiets', 2200: 'acariatre', 2201: 'incorrigibles', 2202: 'irresistible', 2203: 'saignes', 2204: 'saignez', 2205: 'tiree', 2206: 'tirees', 2207: 'tires', 2208: 'sec', 2209: 'bibine', 2210: 'maree', 2211: 'basse', 2212: 'sucre', 2213: 'dramatises', 2214: 'dramatisez', 2215: 'maniere', 2216: 'excessive', 2217: 'reagissez', 2218: 'empoisonnes', 2219: 'empoisonnez', 2220: 'impatients', 2221: 'impatientes', 2222: 'dragueurs', 2223: 'dragueuses', 2224: 'dragueuse', 2225: 'confiante', 2226: 'confiants', 2227: 'confiantes', 2228: 'curieuses', 2229: 'effrontee', 2230: 'effronte', 2231: 'effrontees', 2232: 'effrontes', 2233: 'serviable', 2234: 'serviables', 2235: 'elegante', 2236: 'elegant', 2237: 'elegantes', 2238: 'elegants', 2239: 'gaspillez', 2240: 'gaspilles', 2241: 'travailles', 2242: 'travaillez', 2243: 'orateur', 2244: 'nageur', 2245: 'bel', 2246: 'acerbe', 2247: 'foi', 2248: 'emmerdeur', 2249: 'longueur', 2250: 'inconnu', 2251: 'respire', 2252: 'soixante', 2253: 'cool', 2254: 'mesure', 2255: 'energie', 2256: 'foot', 2257: 'satisfaire', 2258: 'propre', 2259: 'pareil', 2260: 'sa', 2261: 'cookies', 2262: 'precieux', 2263: 'sauvage', 2264: 'trompe', 2265: 'gants', 2266: 'influence', 2267: 'informaticien', 2268: 'boutonneux', 2269: 'maniaque', 2270: 'celebre', 2271: 'boule', 2272: 'nerfs', 2273: 'nerveusement', 2274: 'use', 2275: 'parleur', 2276: 'baratineur', 2277: 'follement', 2278: 'epris', 2279: 'cancer', 2280: 'poumons', 2281: 'grave', 2282: 'loupe', 2283: 'coche', 2284: 'demi', 2285: 'bateau', 2286: 'offert', 2287: 'assistance', 2288: 'domicile', 2289: 'pitre', 2290: 'chaise', 2291: 'protecteur', 2292: 'ours', 2293: 'contraint', 2294: 'vets', 2295: 'prudemment', 2296: 'dessin', 2297: 'conte', 2298: 'histoire', 2299: 'peser', 2300: 'citoyen', 2301: 'citoyenne', 2302: 'windows', 2303: 'complet', 2304: 'blond', 2305: 'naturel', 2306: 'voler', 2307: 'projet', 2308: 'allergique', 2309: 'disposition', 2310: 'attiree', 2311: 'par', 2312: 'repris', 2313: 'business', 2314: 'appelle', 2315: 'verifie', 2316: 'possibilites', 2317: 'fermer', 2318: 'depends', 2319: 'vaisselle', 2320: 'appel', 2321: 'fil', 2322: 'confuse', 2323: 'stresse', 2324: 'stressee', 2325: 'repare', 2326: 'chose', 2327: 'engage', 2328: 'engagee', 2329: 'ait', 2330: 'aies', 2331: 'rencontre', 2332: 'soyez', 2333: 'sois', 2334: 'serai', 2335: 'universite', 2336: 'revenue', 2337: 'rentre', 2338: 'pratiquement', 2339: 'soirs', 2340: 'sauver', 2341: 'amoureuse', 2342: 'galere', 2343: 'autre', 2344: 'cherche', 2345: 'bonhomme', 2346: 'neige', 2347: 'truc', 2348: 'vegetarien', 2349: 'moins', 2350: 'demens', 2351: 'invente', 2352: 'epouser', 2353: 'enfuis', 2354: 'asseoir', 2355: 'rester', 2356: 'empeche', 2357: 'porter', 2358: 'serviteur', 2359: 'souvent', 2360: 'poursuites', 2361: 'engager', 2362: 'combattre', 2363: 'degourdi', 2364: 'degourdie', 2365: 'blesses', 2366: 'blessees', 2367: 'epouvantable', 2368: 'math', 2369: 'embrouille', 2370: 'embrouillee', 2371: 'utile', 2372: 'film', 2373: 'inquiete', 2374: 'lettre', 2375: 'fan', 2376: 'danseuse', 2377: 'patiner', 2378: 'sport', 2379: 'rang', 2380: 'hostile', 2381: 'vit', 2382: 'souper', 2383: 'diner', 2384: 'reves', 2385: 'copine', 2386: 'heure', 2387: 'saute', 2388: 'corde', 2389: 'ventre', 2390: 'ooita', 2391: 'livres', 2392: 'emotive', 2393: 'approchent', 2394: 'urs', 2395: 'courent', 2396: 'peuvent', 2397: 'chanter', 2398: 'capables', 2399: 'touristes', 2400: 'tenter', 2401: 'trouver', 2402: 'constituent', 2403: 'menace', 2404: 'regles', 2405: 'intimes', 2406: 'radins', 2407: 'envoient', 2408: 'onze', 2409: 'mangerons', 2410: 'heures', 2411: 'tonneau', 2412: 'aneantis', 2413: 'aneanties', 2414: 'vulnerables', 2415: 'sang', 2416: 'claustrophobes', 2417: 'rapprochons', 2418: 'devenons', 2419: 'rechauffons', 2420: 'entrons', 2421: 'courses', 2422: 'emplettes', 2423: 'combattrons', 2424: 'montons', 2425: 'eclate', 2426: 'subissons', 2427: 'rafale', 2428: 'vent', 2429: 'tabac', 2430: 'visite', 2431: 'recession', 2432: 'barbares', 2433: 'evacuer', 2434: 'interesses', 2435: 'interessees', 2436: 'terroristes', 2437: 'habitues', 2438: 'habituees', 2439: 'ennemis', 2440: 'ennemies', 2441: 'balles', 2442: 'protegeons', 2443: 'mineurs', 2444: 'mineures', 2445: 'dernier', 2446: 'japonaises', 2447: 'etat', 2448: 'arrestation', 2449: 'bienvenue', 2450: 'mangez', 2451: 'allemand', 2452: 'gare', 2453: 'file', 2454: 'gares', 2455: 'garees', 2456: 'garee', 2457: 'comptes', 2458: 'nombre', 2459: 'suspects', 2460: 'comptez', 2461: 'dirige', 2462: 'dirigez', 2463: 'ecoutez', 2464: 'ecoutes', 2465: 'premiere', 2466: 'ordonnes', 2467: 'ordonnees', 2468: 'opportuniste', 2469: 'opportunistes', 2470: 'laisses', 2471: 'dominer', 2472: 'emotions', 2473: 'laissez', 2474: 'foutez', 2475: 'grandir', 2476: 'imbecile', 2477: 'lunatiques', 2478: 'fantasque', 2479: 'fantasques', 2480: 'inoubliable', 2481: 'inoubliables', 2482: 'genereux', 2483: 'genereuse', 2484: 'genereuses', 2485: 'farceur', 2486: 'heroino', 2487: 'dependant', 2488: 'fossile', 2489: 'vision', 2490: 'tireur', 2491: 'gate', 2492: 'pourri', 2493: 'soupcon', 2494: 'craint', 2495: 'officier', 2496: 'plaire', 2497: 'chante', 2498: 'salle', 2499: 'toilettes', 2500: 'amateur', 2501: 'pensees', 2502: 'proche', 2503: 'intime', 2504: 'ordinaire', 2505: 'egard', 2506: 'etait', 2507: 'ligne', 2508: 'frimeur', 2509: 'reussir', 2510: 'incapable', 2511: 'laver', 2512: 'lunettes', 2513: 'notoire', 2514: 'serpents', 2515: 'allergie', 2516: 'oceanographe', 2517: 'absent', 2518: 'maquis', 2519: 'moque', 2520: 'apprend', 2521: 'chinois', 2522: 'forces', 2523: 'force', 2524: 'suspect', 2525: 'distant', 2526: 'parents', 2527: 'plie', 2528: 'robe', 2529: 'reconnaissant', 2530: 'recolter', 2531: 'ble', 2532: 'comparer', 2533: 'danseur', 2534: 'vertige', 2535: 'araignees', 2536: 'expedients', 2537: 'restaurant', 2538: 'immediatement', 2539: 'devoirs', 2540: 'examen', 2541: 'redoute', 2542: 'apprehende', 2543: 'sandwich', 2544: 'echoue', 2545: 'japon', 2546: 'ayez', 2547: 'passer', 2548: 'blesser', 2549: 'manquer', 2550: 'tant', 2551: 'presenter', 2552: 'franc', 2553: 'franche', 2554: 'entrainement', 2555: 'incroyant', 2556: 'droguee', 2557: 'toxico', 2558: 'millionnaire', 2559: 'absolument', 2560: 'entierement', 2561: 'arreter', 2562: 'bagarrer', 2563: 'etroit', 2564: 'etroite', 2565: 'athletique', 2566: 'chaussettes', 2567: 'pause', 2568: 'jeu', 2569: 'televise', 2570: 'console', 2571: 'mecs', 2572: 'rarement', 2573: 'autant', 2574: 'hauteur', 2575: 'veux', 2576: 'meler', 2577: 'submerge', 2578: 'echecs', 2579: 'songe', 2580: 'faute', 2581: 'tienne', 2582: 'bruit', 2583: 'attirez', 2584: 'nageuse', 2585: 'fumer', 2586: 'apparentee', 2587: 'coud', 2588: 'eu', 2589: 'conne', 2590: 'elegamment', 2591: 'sortis', 2592: 'magasins', 2593: 'sorties', 2594: 'terrifies', 2595: 'terrifiees', 2596: 'chercher', 2597: 'criminels', 2598: 'criminelles', 2599: 'chers', 2600: 'cheres', 2601: 'suivre', 2602: 'jouent', 2603: 'mijotent', 2604: 'conneries', 2605: 'preparent', 2606: 'correctes', 2607: 'serons', 2608: 'egares', 2609: 'egarees', 2610: 'occupons', 2611: 'marions', 2612: 'aboutissons', 2613: 'nulle', 2614: 'part', 2615: 'exercer', 2616: 'gonzesse', 2617: 'chic', 2618: 'filles', 2619: 'chantes', 2620: 'chantez', 2621: 'paranoiaques', 2622: 'travers', 2623: 'approches', 2624: 'approchez', 2625: 'remettre', 2626: 'amusant', 2627: 'amusante', 2628: 'amusantes', 2629: 'amusants', 2630: 'analysez', 2631: 'analyses', 2632: 'geniales', 2633: 'geniaux', 2634: 'pense', 2635: 'previsible', 2636: 'previsibles', 2637: 'entres', 2638: 'trentaine', 2639: 'entrez', 2640: 'efficace', 2641: 'efficaces', 2642: 'emotives', 2643: 'emotifs', 2644: 'emotif', 2645: 'observateurs', 2646: 'observatrices', 2647: 'sceptiques', 2648: 'pire', 2649: 'naissance', 2650: 'competent', 2651: 'charpentier', 2652: 'gentilhomme', 2653: 'voit', 2654: 'borgne', 2655: 'jazz', 2656: 'tache', 2657: 'peinture', 2658: 'natation', 2659: 'meurtre', 2660: 'parmi', 2661: 'velo', 2662: 'lourd', 2663: 'reflechir', 2664: 'subalterne', 2665: 'agit', 2666: 'accroche', 2667: 'medicaments', 2668: 'mer', 2669: 'course', 2670: 'origine', 2671: 'asiatique', 2672: 'taupe', 2673: 'jetons', 2674: 'espionner', 2675: 'appuie', 2676: 'canne', 2677: 'soit', 2678: 'recherche', 2679: 'sait', 2680: 'digne', 2681: 'promener', 2682: 'ecrit', 2683: 'journal', 2684: 'brosse', 2685: 'dents', 2686: 'prochaine', 2687: 'demenage', 2688: 'mois', 2689: 'prochain', 2690: 'seize', 2691: 'quelques', 2692: 'minutes', 2693: 'chauffeur', 2694: 'taxi', 2695: 'familier', 2696: 'noir', 2697: 'obscurite', 2698: 'gluten', 2699: 'autorise', 2700: 'corps', 2701: 'aeroport', 2702: 'faits', 2703: 'risques', 2704: 'retenu', 2705: 'otage', 2706: 'retenue', 2707: 'vrac', 2708: 'venue', 2709: 'veniez', 2710: 'viennes', 2711: 'australie', 2712: 'honore', 2713: 'terrible', 2714: 'horrible', 2715: 'gamins', 2716: 'assoiffe', 2717: 'club', 2718: 'hate', 2719: 'cle', 2720: 'allonge', 2721: 'herbe', 2722: 'allongee', 2723: 'professionnelle', 2724: 'maligne', 2725: 'leve', 2726: 'matin', 2727: 'repondre', 2728: 'conteste', 2729: 'drague', 2730: 'question', 2731: 'bete', 2732: 'organise', 2733: 'organisee', 2734: 'payes', 2735: 'quand', 2736: 'reellement', 2737: 'rapport', 2738: 'assiduite', 2739: 'consciencieusement', 2740: 'rappeler', 2741: 'ordinateur', 2742: 'marche', 2743: 'soleil', 2744: 'sujet', 2745: 'cuisiner', 2746: 'apte', 2747: 'fraude', 2748: 'vol', 2749: 'habituellement', 2750: 'habitude', 2751: 'tenir', 2752: 'assise', 2753: 'seduisante', 2754: 'sorciere', 2755: 'rale', 2756: 'arrete', 2757: 'raler', 2758: 'mouvement', 2759: 'hotel', 2760: 'monopoly', 2761: 'cousue', 2762: 'or', 2763: 'joyeux', 2764: 'joyeuses', 2765: 'baquet', 2766: 'trousses', 2767: 'rendez', 2768: 'midi', 2769: 'decus', 2770: 'accord', 2771: 'carburant', 2772: 'travaillons', 2773: 'ufs', 2774: 'pouvons', 2775: 'divorcer', 2776: 'enquetons', 2777: 'apprenons', 2778: 'partirons', 2779: 'accoster', 2780: 'etudions', 2781: 'fouteur', 2782: 'fauteur', 2783: 'trouble', 2784: 'entendez', 2785: 'choses', 2786: 'entends', 2787: 'coherent', 2788: 'usee', 2789: 'medisant', 2790: 'mary', 2791: 'genez', 2792: 'mettez', 2793: 'genes', 2794: 'mets', 2795: 'rougir', 2796: 'cooperes', 2797: 'rapides', 2798: 'veut', 2799: 'courant', 2800: 'embetante', 2801: 'embetants', 2802: 'embetantes', 2803: 'magnifique', 2804: 'splendides', 2805: 'thesauriseur', 2806: 'manigances', 2807: 'attirant', 2808: 'attirants', 2809: 'attirantes', 2810: 'perspicace', 2811: 'perspicaces', 2812: 'gaspiller', 2813: 'compositeur', 2814: 'sympathique', 2815: 'medecine', 2816: 'champion', 2817: 'dessiner', 2818: 'image', 2819: 'desire', 2820: 'ardemment', 2821: 'couramment', 2822: 'aventure', 2823: 'deteste', 2824: 'canape', 2825: 'etendu', 2826: 'parait', 2827: 'semble', 2828: 'bord', 2829: 'chimie', 2830: 'grossit', 2831: 'respect', 2832: 'decede', 2833: 'hume', 2834: 'soupe', 2835: 'cheval', 2836: 'voyager', 2837: 'seduisant', 2838: 'etasunien', 2839: 'chinoise', 2840: 'tricheur', 2841: 'demande', 2842: 'hero', 2843: 'reussira', 2844: 'fusil', 2845: 'carabine', 2846: 'sort', 2847: 'moral', 2848: 'virer', 2849: 'adorer', 2850: 'calcul', 2851: 'dote', 2852: 'intelligence', 2853: 'desesperement', 2854: 'rumine', 2855: 'cadet', 2856: 'piste', 2857: 'danse', 2858: 'peindre', 2859: 'comprehensif', 2860: 'manteau', 2861: 'magazine', 2862: 'grimper', 2863: 'plait', 2864: 'connais', 2865: 'pleuve', 2866: 'decois', 2867: 'decevez', 2868: 'corvees', 2869: 'degouline', 2870: 'sueur', 2871: 'emotionnellement', 2872: 'vide', 2873: 'videe', 2874: 'recommencer', 2875: 'police', 2876: 'proteger', 2877: 'quoi', 2878: 'crois', 2879: 'pris', 2880: 'vertiges', 2881: 'adorent', 2882: 'partisan', 2883: 'prone', 2884: 'appartiens', 2885: 'pecheur', 2886: 'noms', 2887: 'excelle', 2888: 'suggestions', 2889: 'propositions', 2890: 'connaissance', 2891: 'combat', 2892: 'decue', 2893: 'nom', 2894: 'serieusement', 2895: 'semblant', 2896: 'somnolent', 2897: 'bus', 2898: 'dispose', 2899: 'rejouit', 2900: 'donner', 2901: 'abeille', 2902: 'vetue', 2903: 'blanc', 2904: 'epouse', 2905: 'verte', 2906: 'massacrante', 2907: 'tricote', 2908: 'echarpe', 2909: 'broche', 2910: 'championne', 2911: 'football', 2912: 'rechauffer', 2913: 'cles', 2914: 'chouchoute', 2915: 'inapte', 2916: 'ramassent', 2917: 'noisettes', 2918: 'salade', 2919: 'direction', 2920: 'rendent', 2921: 'cherchent', 2922: 'revenir', 2923: 'trouvent', 2924: 'autosuffisants', 2925: 'autosuffisantes', 2926: 'quatre', 2927: 'dejeunons', 2928: 'espagnol', 2929: 'lundi', 2930: 'convaincus', 2931: 'convaincues', 2932: 'desesperes', 2933: 'desesperees', 2934: 'parvenir', 2935: 'parlons', 2936: 'aveuglee', 2937: 'aveuglees', 2938: 'aveugles', 2939: 'rentrer', 2940: 'lieu', 2941: 'devez', 2942: 'dois', 2943: 'obsession', 2944: 'hypocrites', 2945: 'bloques', 2946: 'bloquez', 2947: 'conduisez', 2948: 'caches', 2949: 'cachez', 2950: 'imagines', 2951: 'imaginez', 2952: 'faciles', 2953: 'reussit', 2954: 'rates', 2955: 'ratez', 2956: 'bienvenu', 2957: 'effrayer', 2958: 'effraies', 2959: 'trois', 2960: 'ignorant', 2961: 'ignorante', 2962: 'ignorants', 2963: 'ignorantes', 2964: 'propriete', 2965: 'privee', 2966: 'pleines', 2967: 'caractere', 2968: 'typique', 2969: 'plaint', 2970: 'frais', 2971: 'emoulu', 2972: 'gymnastique', 2973: 'ouvrir', 2974: 'fenetre', 2975: 'tableau', 2976: 'sorcier', 2977: 'personnage', 2978: 'constamment', 2979: 'insatisfait', 2980: 'sublimement', 2981: 'eglise', 2982: 'sent', 2983: 'tassee', 2984: 'sera', 2985: 'choisi', 2986: 'frappe', 2987: 'chat', 2988: 'chatte', 2989: 'quitter', 2990: 'cet', 2991: 'interet', 2992: 'entraine', 2993: 'romantique', 2994: 'jeux', 2995: 'video', 2996: 'honnetete', 2997: 'desireux', 2998: 'echouer', 2999: 'enchantee', 3000: 'nourris', 3001: 'revoir', 3002: 'papa', 3003: 'raccrocher', 3004: 'pieuter', 3005: 'regretter', 3006: 'taire', 3007: 'songer', 3008: 'baigner', 3009: 'char', 3010: 'station', 3011: 'soin', 3012: 'portefeuille', 3013: 'realise', 3014: 'documentaire', 3015: 'locuteur', 3016: 'natif', 3017: 'violent', 3018: 'violente', 3019: 'demander', 3020: 'fantomes', 3021: 'enfreins', 3022: 'nettoyer', 3023: 'coin', 3024: 'hasard', 3025: 'parie', 3026: 'impliquer', 3027: 'entrerai', 3028: 'competition', 3029: 'vendrai', 3030: 'inspiree', 3031: 'excessif', 3032: 'vends', 3033: 'signe', 3034: 'aimer', 3035: 'claires', 3036: 'repentir', 3037: 'disposee', 3038: 'pardon', 3039: 'poser', 3040: 'apprecier', 3041: 'etonne', 3042: 'etonnee', 3043: 'telephone', 3044: 'bu', 3045: 'economiser', 3046: 'vaux', 3047: 'affreusement', 3048: 'cheveux', 3049: 'conseils', 3050: 'fauchee', 3051: 'decorative', 3052: 'determinee', 3053: 'tomber', 3054: 'raide', 3055: 'machine', 3056: 'enseigne', 3057: 'ombre', 3058: 'paupiere', 3059: 'hauts', 3060: 'mettent', 3061: 'paquet', 3062: 'compatibles', 3063: 'suivent', 3064: 'chanson', 3065: 'terrifiez', 3066: 'magasin', 3067: 'boutique', 3068: 'demenageons', 3069: 'jeans', 3070: 'rupture', 3071: 'commandement', 3072: 'inquietons', 3073: 'bercons', 3074: 'illusions', 3075: 'leurrons', 3076: 'presses', 3077: 'gaz', 3078: 'fierte', 3079: 'joie', 3080: 'indelicats', 3081: 'indelicates', 3082: 'indelicat', 3083: 'indelicate', 3084: 'individu', 3085: 'execrable', 3086: 'formidable', 3087: 'tarabuster', 3088: 'desobeis', 3089: 'ordres', 3090: 'desobeissez', 3091: 'pouvez', 3092: 'passez', 3093: 'saisis', 3094: 'saisissez', 3095: 'atmosphere', 3096: 'gachez', 3097: 'gaches', 3098: 'deformes', 3099: 'paroles', 3100: 'deformez', 3101: 'societe', 3102: 'quarante', 3103: 'cocaine', 3104: 'nuages', 3105: 'revasse', 3106: 'ecologiste', 3107: 'enseignement', 3108: 'tend', 3109: 'mettre', 3110: 'voisins', 3111: 'chambre', 3112: 'doutes', 3113: 'cause', 3114: 'surmenage', 3115: 'amical', 3116: 'lentement', 3117: 'qualite', 3118: 'accepte', 3119: 'causer', 3120: 'placard', 3121: 'penderie', 3122: 'enfreint', 3123: 'candidat', 3124: 'congres', 3125: 'lecture', 3126: 'agis', 3127: 'quatorze', 3128: 'habiller', 3129: 'pends', 3130: 'chemises', 3131: 'sienne', 3132: 'mienne', 3133: 'sien', 3134: 'habite', 3135: 'present', 3136: 'chateau', 3137: 'deranger', 3138: 'emploie', 3139: 'jours', 3140: 'ci', 3141: 'arroser', 3142: 'fleurs', 3143: 'inconditionnelle', 3144: 'lyceen', 3145: 'puisse', 3146: 'tremblements', 3147: 'pression', 3148: 'penses', 3149: 'pensez', 3150: 'fin', 3151: 'haricots', 3152: 'joins', 3153: 'fichiers', 3154: 'detester', 3155: 'ramene', 3156: 'pizza', 3157: 'demissionner', 3158: 'raccourcis', 3159: 'choix', 3160: 'decision', 3161: 'realite', 3162: 'rassemble', 3163: 'informations', 3164: 'impression', 3165: 'pompe', 3166: 'pu', 3167: 'contenter', 3168: 'preniez', 3169: 'conscience', 3170: 'prennes', 3171: 'portiez', 3172: 'portes', 3173: 'verre', 3174: 'feu', 3175: 'confectionner', 3176: 'bucher', 3177: 'moyens', 3178: 'hopital', 3179: 'pousser', 3180: 'barbe', 3181: 'retourner', 3182: 'obeir', 3183: 'pull', 3184: 'over', 3185: 'chandail', 3186: 'piles', 3187: 'appareil', 3188: 'impatience', 3189: 'specialise', 3190: 'sociologie', 3191: 'appeler', 3192: 'ceci', 3193: 'evanouir', 3194: 'toucher', 3195: 'autres', 3196: 'camp', 3197: 'prevois', 3198: 'suppose', 3199: 'supposee', 3200: 'repeter', 3201: 'chaleur', 3202: 'general', 3203: 'etais', 3204: 'reveillee', 3205: 'soulage', 3206: 'releve', 3207: 'hurle', 3208: 'crie', 3209: 'propos', 3210: 'hier', 3211: 'perte', 3212: 'art', 3213: 'dramatique', 3214: 'kabuki', 3215: 'approuverait', 3216: 'nul', 3217: 'langues', 3218: 'tente', 3219: 'conductrice', 3220: 'lamentable', 3221: 'loyer', 3222: 'enrhumee', 3223: 'personnes', 3224: 'agees', 3225: 'piano', 3226: 'banale', 3227: 'bleue', 3228: 'lisent', 3229: 'inquietent', 3230: 'paix', 3231: 'pendre', 3232: 'consequence', 3233: 'vivons', 3234: 'dos', 3235: 'mur', 3236: 'estimes', 3237: 'espion', 3238: 'espionne', 3239: 'allemands', 3240: 'plaignez', 3241: 'dites', 3242: 'adolescent', 3243: 'adolescente', 3244: 'malignes', 3245: 'rationnels', 3246: 'rationnelles', 3247: 'totalement', 3248: 'pente', 3249: 'racontes', 3250: 'mensonges', 3251: 'raffine', 3252: 'raffinee', 3253: 'raffines', 3254: 'raffinees', 3255: 'comprehensive', 3256: 'comprehensifs', 3257: 'comprehensives', 3258: 'mari', 3259: 'noble', 3260: 'harvard', 3261: 'absorbe', 3262: 'six', 3263: 'haut', 3264: 'trahison', 3265: 'matiere', 3266: 'baseball', 3267: 'chine', 3268: 'concert', 3269: 'devant', 3270: 'handicape', 3271: 'mental', 3272: 'avant', 3273: 'sejourne', 3274: 'assis', 3275: 'tailleur', 3276: 'tient', 3277: 'colline', 3278: 'agronomie', 3279: 'table', 3280: 'suspecte', 3281: 'nage', 3282: 'piscine', 3283: 'merite', 3284: 'louanges', 3285: 'batiment', 3286: 'lois', 3287: 'multiples', 3288: 'talents', 3289: 'malbouffe', 3290: 'bandes', 3291: 'dessinees', 3292: 'viendra', 3293: 'decidement', 3294: 'creuse', 3295: 'beuverie', 3296: 'faculte', 3297: 'doue', 3298: 'parc', 3299: 'longue', 3300: 'chaque', 3301: 'descends', 3302: 'escalier', 3303: 'simple', 3304: 'ceinture', 3305: 'karate', 3306: 'clochard', 3307: 'enrhume', 3308: 'sauvages', 3309: 'sein', 3310: 'donne', 3311: 'salaire', 3312: 'lance', 3313: 'signal', 3314: 'detresse', 3315: 'aucun', 3316: 'doute', 3317: 'certainement', 3318: 'possible', 3319: 'envie', 3320: 'boisson', 3321: 'fraiche', 3322: 'idee', 3323: 'demenagement', 3324: 'puissiez', 3325: 'puisses', 3326: 'sieste', 3327: 'piquer', 3328: 'somme', 3329: 'repenser', 3330: 'doucher', 3331: 'constater', 3332: 'haute', 3333: 'survivre', 3334: 'maman', 3335: 'disparaitre', 3336: 'signer', 3337: 'simulation', 3338: 'fetes', 3339: 'garder', 3340: 'refuse', 3341: 'vendre', 3342: 'croire', 3343: 'risque', 3344: 'decore', 3345: 'uf', 3346: 'paques', 3347: 'rechigne', 3348: 'epargne', 3349: 'malentendu', 3350: 'interrompre', 3351: 'embouteillage', 3352: 'moyen', 3353: 'partira', 3354: 'construit', 3355: 'mcdonald', 3356: 'apre', 3357: 'desireuse', 3358: 'preparer', 3359: 'sortie', 3360: 'editeur', 3361: 'aimee', 3362: 'tombee', 3363: 'banc', 3364: 'agacer', 3365: 'ample', 3366: 'nettoient', 3367: 'laboratoire', 3368: 'etasuniens', 3369: 'etasuniennes', 3370: 'appartenons', 3371: 'billets', 3372: 'refaire', 3373: 'desastre', 3374: 'destines', 3375: 'censes', 3376: 'jeter', 3377: 'phase', 3378: 'plaindre', 3379: 'leurrez', 3380: 'leurres', 3381: 'avion', 3382: 'coco', 3383: 'drille', 3384: 'comportes', 3385: 'comportez', 3386: 'interessante', 3387: 'souffrez', 3388: 'souffres', 3389: 'autorisee', 3390: 'dormez', 3391: 'stupides', 3392: 'epreuve', 3393: 'objet', 3394: 'enquete', 3395: 'soucieux', 3396: 'soucieuse', 3397: 'soucieuses', 3398: 'inquietes', 3399: 'mathematicien', 3400: 'romancier', 3401: 'prometteur', 3402: 'soigneusement', 3403: 'vetu', 3404: 'autorite', 3405: 'mains', 3406: 'couilles', 3407: 'photos', 3408: 'debut', 3409: 'crime', 3410: 'compagnie', 3411: 'respecte', 3412: 'torrefie', 3413: 'feves', 3414: 'scene', 3415: 'fringant', 3416: 'rhume', 3417: 'marketing', 3418: 'pigiste', 3419: 'portable', 3420: 'joindre', 3421: 'cercle', 3422: 'rude', 3423: 'encoignures', 3424: 'fume', 3425: 'tripotee', 3426: 'tripote', 3427: 'partirai', 3428: 'termes', 3429: 'tien', 3430: 'mien', 3431: 'conseiller', 3432: 'gestion', 3433: 'faveur', 3434: 'suggestion', 3435: 'cesse', 3436: 'surprendre', 3437: 'actrice', 3438: 'andouille', 3439: 'aurai', 3440: 'mariage', 3441: 'abattre', 3442: 'jour', 3443: 'quotidiennement', 3444: 'gerant', 3445: 'autoriser', 3446: 'citer', 3447: 'livrer', 3448: 'negocier', 3449: 'suggere', 3450: 'ouvre', 3451: 'cadeaux', 3452: 'economise', 3453: 'recriminations', 3454: 'doives', 3455: 'elimine', 3456: 'antipathique', 3457: 'persuader', 3458: 'promene', 3459: 'effondre', 3460: 'regrette', 3461: 'soignee', 3462: 'excellente', 3463: 'quadra', 3464: 'planifie', 3465: 'bonheur', 3466: 'epluche', 3467: 'attitree', 3468: 'fondue', 3469: 'tricot', 3470: 'passionnee', 3471: 'lourde', 3472: 'accomplie', 3473: 'professeurs', 3474: 'agissent', 3475: 'amusent', 3476: 'employes', 3477: 'partiel', 3478: 'employees', 3479: 'dollars', 3480: 'chacun', 3481: 'chacune', 3482: 'lavent', 3483: 'susceptibles', 3484: 'commettre', 3485: 'erreurs', 3486: 'propension', 3487: 'changeons', 3488: 'attendons', 3489: 'hiver', 3490: 'doux', 3491: 'manipules', 3492: 'manipulees', 3493: 'joueurs', 3494: 'joueuses', 3495: 'continuer', 3496: 'officiellement', 3497: 'drap', 3498: 'cachet', 3499: 'aspirine', 3500: 'decollage', 3501: 'confirme', 3502: 'redevable', 3503: 'reclame', 3504: 'commets', 3505: 'commettez', 3506: 'interessant', 3507: 'interessants', 3508: 'interessantes', 3509: 'clairement', 3510: 'negociateur', 3511: 'commences', 3512: 'commencez', 3513: 'recherchee', 3514: 'metier', 3515: 'profession', 3516: 'experimente', 3517: 'echec', 3518: 'match', 3519: 'president', 3520: 'attache', 3521: 'gloire', 3522: 'elections', 3523: 'municipales', 3524: 'chances', 3525: 'remporter', 3526: 'remporte', 3527: 'progresser', 3528: 'aupres', 3529: 'test', 3530: 'reunion', 3531: 'fonds', 3532: 'frileux', 3533: 'pionnier', 3534: 'appelons', 3535: 'niveau', 3536: 'international', 3537: 'defauts', 3538: 'mondanites', 3539: 'audace', 3540: 'conduite', 3541: 'australienne', 3542: 'lie', 3543: 'indiffere', 3544: 'indifferent', 3545: 'concerne', 3546: 'camion', 3547: 'lecteur', 3548: 'offenses', 3549: 'offensees', 3550: 'perde', 3551: 'rumeur', 3552: 'averee', 3553: 'puissions', 3554: 'requiers', 3555: 'disposez', 3556: 'plan', 3557: 'disposes', 3558: 'audition', 3559: 'role', 3560: 'possibilite', 3561: 'sentir', 3562: 'curiosite', 3563: 'aiguiser', 3564: 'deconne', 3565: 'chaussures', 3566: 'pale', 3567: 'malgre', 3568: 'lignes', 3569: 'directrices', 3570: 'bouquins', 3571: 'voulez', 3572: 'comprenne', 3573: 'compreniez', 3574: 'comprennes', 3575: 'finalement', 3576: 'rencontree', 3577: 'rencontrees', 3578: 'rencontres', 3579: 'souleve', 3580: 'mentionne', 3581: 'voies', 3582: 'voyiez', 3583: 'chemise', 3584: 'dechiffrer', 3585: 'resoudre', 3586: 'volerai', 3587: 'laisser', 3588: 'epargner', 3589: 'possede', 3590: 'traverse', 3591: 'cellulaire', 3592: 'mobile', 3593: 'renseigne', 3594: 'acquerir', 3595: 'donnerai', 3596: 'patinerai', 3597: 'particulierement', 3598: 'rue', 3599: 'siege', 3600: 'supporte', 3601: 'rompu', 3602: 'promesse', 3603: 'derangee', 3604: 'deranges', 3605: 'derangees', 3606: 'intimides', 3607: 'intimidez', 3608: 'avait', 3609: 'raisons', 3610: 'reussiras', 3611: 'secrets', 3612: 'queue', 3613: 'plaintes', 3614: 'allemagne', 3615: 'lever', 3616: 'cuillere', 3617: 'avenir', 3618: 'jules', 3619: 'dame', 3620: 'autodidacte', 3621: 'absorbee', 3622: 'etude', 3623: 'amicale', 3624: 'tonnerre', 3625: 'imiter', 3626: 'personnel', 3627: 'douee', 3628: 'isolee', 3629: 'vrais', 3630: 'militent', 3631: 'violences', 3632: 'trainent', 3633: 'torturer', 3634: 'essuyer', 3635: 'tempete', 3636: 'degats', 3637: 'agressifs', 3638: 'ratons', 3639: 'manquons', 3640: 'critiques', 3641: 'critiquez', 3642: 'hallucines', 3643: 'hallucinez', 3644: 'deprimees', 3645: 'tare', 3646: 'ridiculises', 3647: 'paraitre', 3648: 'diplomate', 3649: 'exactement', 3650: 'irreprochable', 3651: 'pantalon', 3652: 'aidiez', 3653: 'dentiste', 3654: 'domaine', 3655: 'guitare', 3656: 'ideal', 3657: 'attitude', 3658: 'quiconque', 3659: 'sentiments', 3660: 'humains', 3661: 'ordinateurs', 3662: 'arracheur', 3663: 'outrageusement', 3664: 'annees', 3665: 'collection', 3666: 'portrait', 3667: 'crache', 3668: 'craindre', 3669: 'realiser', 3670: 'discours', 3671: 'telles', 3672: 'situations', 3673: 'impresario', 3674: 'rare', 3675: 'change', 3676: 'avis', 3677: 'attire', 3678: 'femmes', 3679: 'negresses', 3680: 'noires', 3681: 'manipulateur', 3682: 'traverser', 3683: 'riviere', 3684: 'tenue', 3685: 'negligee', 3686: 'resultat', 3687: 'excellent', 3688: 'essouffle', 3689: 'sida', 3690: 'assistant', 3691: 'fautes', 3692: 'verrai', 3693: 'respectable', 3694: 'difficultes', 3695: 'construire', 3696: 'occasion', 3697: 'rende', 3698: 'aimiez', 3699: 'aimes', 3700: 'hanovre', 3701: 'irai', 3702: 'parce', 3703: 'requerir', 3704: 'compare', 3705: 'vetement', 3706: 'compris', 3707: 'effraye', 3708: 'effrayee', 3709: 'effrayes', 3710: 'effrayees', 3711: 'decevoir', 3712: 'plans', 3713: 'arranger', 3714: 'janvier', 3715: 'second', 3716: 'survecu', 3717: 'reflexions', 3718: 'octobre', 3719: 'aboient', 3720: 'rose', 3721: 'devouee', 3722: 'vaut', 3723: 'paralysee', 3724: 'jambes', 3725: 'appreciee', 3726: 'ni', 3727: 'peint', 3728: 'etaient', 3729: 'habituels', 3730: 'attraper', 3731: 'forment', 3732: 'panier', 3733: 'marchent', 3734: 'nus', 3735: 'cherchons', 3736: 'facon', 3737: 'rigoler', 3738: 'amuser', 3739: 'basket', 3740: 'passons', 3741: 'rajeunit', 3742: 'rajeunissons', 3743: 'regrettons', 3744: 'corriger', 3745: 'bug', 3746: 'papillon', 3747: 'parfois', 3748: 'pueril', 3749: 'puerile', 3750: 'puerils', 3751: 'pueriles', 3752: 'plats', 3753: 'nourriture', 3754: 'vises', 3755: 'visez', 3756: 'preches', 3757: 'prechez', 3758: 'cense', 3759: 'reposer', 3760: 'entrainee', 3761: 'formee', 3762: 'aie', 3763: 'gai', 3764: 'attentionnee', 3765: 'acte', 3766: 'directeur', 3767: 'questions', 3768: 'pretextes', 3769: 'capacites', 3770: 'profite', 3771: 'ecolier', 3772: 'confronte', 3773: 'nombreuses', 3774: 'quittera', 3775: 'chicago', 3776: 'celebrite', 3777: 'crises', 3778: 'aient', 3779: 'tromper', 3780: 'journee', 3781: 'renommee', 3782: 'obsede', 3783: 'proprete', 3784: 'europe', 3785: 'proposition', 3786: 'langue', 3787: 'representant', 3788: 'commerce', 3789: 'flattee', 3790: 'flatte', 3791: 'insiste', 3792: 'perdions', 3793: 'apercevoir', 3794: 'motif', 3795: 'distinguer', 3796: 'schema', 3797: 'traite', 3798: 'chocolat', 3799: 'droit', 3800: 'opinion', 3801: 'nombreux', 3802: 'automne', 3803: 'ambulance', 3804: 'tuer', 3805: 'manquera', 3806: 'secret', 3807: 'conter', 3808: 'politique', 3809: 'soucie', 3810: 'veste', 3811: 'new', 3812: 'york', 3813: 'times', 3814: 'linux', 3815: 'ressens', 3816: 'hostilite', 3817: 'embarrasses', 3818: 'embarrassees', 3819: 'blessent', 3820: 'monnaie', 3821: 'commande', 3822: 'ira', 3823: 'passera', 3824: 'surgir', 3825: 'surement', 3826: 'benjamin', 3827: 'flemme', 3828: 'triathlon', 3829: 'entreprise', 3830: 'repasse', 3831: 'mouchoirs', 3832: 'visiter', 3833: 'commun', 3834: 'conception', 3835: 'cynique', 3836: 'bague', 3837: 'prix', 3838: 'convient', 3839: 'depend', 3840: 'examens', 3841: 'pacifiques', 3842: 'innocents', 3843: 'profs', 3844: 'loyaux', 3845: 'menent', 3846: 'tiennent', 3847: 'gardent', 3848: 'souffrent', 3849: 'paludisme', 3850: 'face', 3851: 'crise', 3852: 'case', 3853: 'depart', 3854: 'passerons', 3855: 'manquerons', 3856: 'thanksgiving', 3857: 'planifions', 3858: 'abuses', 3859: 'abusez', 3860: 'piece', 3861: 'adorerez', 3862: 'bousiller', 3863: 'rajeunis', 3864: 'suffisament', 3865: 'echauffer', 3866: 'restes', 3867: 'restez', 3868: 'emballe', 3869: 'emballee', 3870: 'estime', 3871: 'comite', 3872: 'imaginatif', 3873: 'imagination', 3874: 'maladie', 3875: 'connait', 3876: 'maire', 3877: 'compliments', 3878: 'ameliore', 3879: 'expliquer', 3880: 'exigences', 3881: 'parent', 3882: 'alliance', 3883: 'impopulaire', 3884: 'quelconque', 3885: 'montagne', 3886: 'fronde', 3887: 'depuis', 3888: 'expulse', 3889: 'condition', 3890: 'physique', 3891: 'vecu', 3892: 'entiere', 3893: 'public', 3894: 'coutume', 3895: 'innocence', 3896: 'linge', 3897: 'pic', 3898: 'nic', 3899: 'veuillez', 3900: 'excuser', 3901: 'davantage', 3902: 'eventuellement', 3903: 'comprise', 3904: 'brulures', 3905: 'suivant', 3906: 'lecon', 3907: 'commissariat', 3908: 'essentiel', 3909: 'canada', 3910: 'correspondant', 3911: 'louer', 3912: 'reponse', 3913: 'evidemment', 3914: 'dirai', 3915: 'defi', 3916: 'retrousser', 3917: 'manches', 3918: 'eponge', 3919: 'espace', 3920: 'vieillesse', 3921: 'liquidites', 3922: 'alors', 3923: 'tardive', 3924: 'serait', 3925: 'engueule', 3926: 'achat', 3927: 'revienne', 3928: 'experte', 3929: 'mathematiques', 3930: 'manche', 3931: 'balai', 3932: 'chantage', 3933: 'exerce', 3934: 'vaguement', 3935: 'lointaine', 3936: 'juin', 3937: 'materialiste', 3938: 'superficielle', 3939: 'admet', 3940: 'broadway', 3941: 'avenue', 3942: 'discutent', 3943: 'etats', 3944: 'unis', 3945: 'jalousent', 3946: 'quittent', 3947: 'veulent', 3948: 'quittons', 3949: 'concurrents', 3950: 'concurrentes', 3951: 'soucions', 3952: 'appretons', 3953: 'justement', 3954: 'savoir', 3955: 'sied', 3956: 'superbement', 3957: 'citadine', 3958: 'evidence', 3959: 'connaisse', 3960: 'ceremonies', 3961: 'puissance', 3962: 'deguise', 3963: 'mouton', 3964: 'tradition', 3965: 'perd', 3966: 'parapluie', 3967: 'connaitre', 3968: 'separe', 3969: 'departement', 3970: 'radin', 3971: 'inde', 3972: 'pleurnichard', 3973: 'ramollo', 3974: 'attente', 3975: 'vehicule', 3976: 'comportement', 3977: 'bijouterie', 3978: 'monotone', 3979: 'habilete', 3980: 'responsabilites', 3981: 'humide', 3982: 'couper', 3983: 'arbre', 3984: 'reecrire', 3985: 'envoyer', 3986: 'joli', 3987: 'visage', 3988: 'impressionner', 3989: 'performance', 3990: 'representation', 3991: 'prestation', 3992: 'hamburgers', 3993: 'rate', 3994: 'anniversaire', 3995: 'ennuyer', 3996: 'reconnais', 3997: 'reproduira', 3998: 'decalage', 3999: 'numero', 4000: 'longtemps', 4001: 'accepter', 4002: 'offre', 4003: 'familiere', 4004: 'chansons', 4005: 'romanciere', 4006: 'nourrit', 4007: 'chien', 4008: 'ressemble', 4009: 'violoniste', 4010: 'renom', 4011: 'comment', 4012: 'promis', 4013: 'allait', 4014: 'collegues', 4015: 'ceux', 4016: 'celles', 4017: 'disent', 4018: 'smic', 4019: 'distribuent', 4020: 'echantillons', 4021: 'gratuits', 4022: 'choisissons', 4023: 'aurons', 4024: 'gachons', 4025: 'stationner', 4026: 'autorises', 4027: 'censees', 4028: 'censee', 4029: 'soutenez', 4030: 'pretez', 4031: 'interrompez', 4032: 'devrais', 4033: 'bouche', 4034: 'archeologie', 4035: 'preparatifs', 4036: 'entier', 4037: 'prompt', 4038: 'inquietudes', 4039: 'violon', 4040: 'rugueux', 4041: 'reveche', 4042: 'liquide', 4043: 'lancer', 4044: 'couteaux', 4045: 'remarquer', 4046: 'decide', 4047: 'troupe', 4048: 'attaque', 4049: 'cardiaque', 4050: 'experiences', 4051: 'malheureuses', 4052: 'traine', 4053: 'coton', 4054: 'determine', 4055: 'reussi', 4056: 'noel', 4057: 'oreillons', 4058: 'depenser', 4059: 'izu', 4060: 'pendant', 4061: 'week', 4062: 'end', 4063: 'manifestation', 4064: 'pourrait', 4065: 'genee', 4066: 'apparemment', 4067: 'alentours', 4068: 'blanche', 4069: 'lettres', 4070: 'autour', 4071: 'semestre', 4072: 'journaux', 4073: 'epandent', 4074: 'arbres', 4075: 'fruitiers', 4076: 'vivent', 4077: 'fantaisie', 4078: 'planete', 4079: 'hawai', 4080: 'interruption', 4081: 'supposes', 4082: 'craignons', 4083: 'demandons', 4084: 'budget', 4085: 'limite', 4086: 'embrouillez', 4087: 'responsabilite', 4088: 'liberee', 4089: 'liberees', 4090: 'liberes', 4091: 'humanite', 4092: 'religieuses', 4093: 'religieuse', 4094: 'reporter', 4095: 'time', 4096: 'severe', 4097: 'considere', 4098: 'accident', 4099: 'quelquefois', 4100: 'horriblement', 4101: 'deambule', 4102: 'transe', 4103: 'hyogo', 4104: 'veiller', 4105: 'commette', 4106: 'egariez', 4107: 'perdiez', 4108: 'perdes', 4109: 'resolu', 4110: 'actuel', 4111: 'jouerai', 4112: 'semaines', 4113: 'labeur', 4114: 'baille', 4115: 'rudiments', 4116: 'ceramique', 4117: 'orientale', 4118: 'poetes', 4119: 'classer', 4120: 'sommeille', 4121: 'bequilles', 4122: 'inquieter', 4123: 'ignoriez', 4124: 'ignorais', 4125: 'recuperer', 4126: 'retomber', 4127: 'relation', 4128: 'independante', 4129: 'roses', 4130: 'conscients', 4131: 'voient', 4132: 'confrontes', 4133: 'financieres', 4134: 'bronzent', 4135: 'jouons', 4136: 'derangement', 4137: 'voyageons', 4138: 'ou', 4139: 'pensais', 4140: 'voie', 4141: 'retablissement', 4142: 'millionieme', 4143: 'resultats', 4144: 'anticipez', 4145: 'pareille', 4146: 'amnesie', 4147: 'maitrise', 4148: 'technique', 4149: 'bagarre', 4150: 'fomenter', 4151: 'troubles', 4152: 'propheties', 4153: 'mayas', 4154: 'parte', 4155: 'oxford', 4156: 'invitation', 4157: 'etrangeres', 4158: 'impatiemment', 4159: 'protection', 4160: 'pleinement', 4161: 'hemorragie', 4162: 'interne', 4163: 'coree', 4164: 'signaler', 4165: 'mille', 4166: 'prendrais', 4167: 'finit', 4168: 'identite', 4169: 'decisions', 4170: 'accoutumee', 4171: 'personnelles', 4172: 'gravir', 4173: 'intention', 4174: 'trouves', 4175: 'reproches', 4176: 'compares', 4177: 'choux', 4178: 'carottes', 4179: 'plonge', 4180: 'latin', 4181: 'humanites', 4182: 'culture', 4183: 'rendra', 4184: 'tremble', 4185: 'serez', 4186: 'ajouterai', 4187: 'finale', 4188: 'ecarte', 4189: 'relations', 4190: 'prevu', 4191: 'vendu', 4192: 'devalises', 4193: 'farouchement', 4194: 'oppose', 4195: 'compromis', 4196: 'economie', 4197: 'dotee', 4198: 'inconduite', 4199: 'collier', 4200: 'mercredi', 4201: 'materiel', 4202: 'soutien', 4203: 'devis', 4204: 'multitude', 4205: 'foule', 4206: 'tas', 4207: 'quantite', 4208: 'influences', 4209: 'environnement', 4210: 'soumis', 4211: 'fouiller', 4212: 'totalite', 4213: 'reduire', 4214: 'depenses', 4215: 'reprocher', 4216: 'amusez', 4217: 'amuses', 4218: 'leeds', 4219: 'evaluation', 4220: 'antiquites', 4221: 'projette', 4222: 'cale', 4223: 'litterature', 4224: 'biologie', 4225: 'pointure', 4226: 'sommite', 4227: 'impressionnable', 4228: 'inconfortables', 4229: 'histoires', 4230: 'car', 4231: 'agi', 4232: 'stupidement', 4233: 'disputes', 4234: 'commencent', 4235: 'derniere', 4236: 'bjork', 4237: 'grandissent', 4238: 'etudes', 4239: 'sociales', 4240: 'interessent', 4241: 'quete', 4242: 'astronomie', 4243: 'souhaitons', 4244: 'pechons', 4245: 'oceans', 4246: 'conseil', 4247: 'paroissial', 4248: 'redire', 4249: 'normalement', 4250: 'prevoit', 4251: 'developper', 4252: 'vente', 4253: 'financierement', 4254: 'suedois', 4255: 'gentillesse', 4256: 'orchestre', 4257: 'oreille', 4258: 'gauche', 4259: 'travaillent', 4260: 'animalerie', 4261: 'etudient', 4262: 'webdesign', 4263: 'suspicieux', 4264: 'suspicieuse', 4265: 'suspicieuses', 4266: 'espere', 4267: 'rodomontades', 4268: 'tubes', 4269: 'populaires', 4270: 'mesurons', 4271: 'profondeur', 4272: 'acheve', 4273: 'main', 4274: 'paysage', 4275: 'tirez', 4276: 'avantage', 4277: 'faiblesse', 4278: 'ambassade', 4279: 'irritant', 4280: 'prochaines', 4281: 'recupere', 4282: 'moto', 4283: 'trafiquee', 4284: 'calvitie', 4285: 'naissante', 4286: 'parasol', 4287: 'classique', 4288: 'expriment', 4289: 'enlacant', 4290: 'encourage', 4291: 'moisson', 4292: 'annonce', 4293: 'rejouissons', 4294: 'presence', 4295: 'hospitalite', 4296: 'quoique', 4297: 'fasses', 4298: 'desaccord', 4299: 'nobles', 4300: 'sculptent', 4301: 'statue', 4302: 'marbre', 4303: 'dont', 4304: 'devons', 4305: 'emmenent', 4306: 'urgences', 4307: 'rales', 4308: 'souvenir', 4309: 'mele', 4310: 'conversation', 4311: 'insatisfaction', 4312: 'romps', 4313: 'nana', 4314: 'organisation', 4315: 'institution', 4316: 'disposees', 4317: 'reconnue', 4318: 'irresponsable', 4319: 'cloturer', 4320: 'recevoir', 4321: 'tarde', 4322: 'discuterons', 4323: 'jouant', 4324: 'videos', 4325: 'narita', 4326: 'hawaii', 4327: 'bataille', 4328: 'croyances', 4329: 'interprete', 4330: 'internationale', 4331: 'comporter', 4332: 'inventer', 4333: 'publication', 4334: 'ouvrage', 4335: 'receptive', 4336: 'hypnotique', 4337: 'jackson', 4338: 'entreprend', 4339: 'compiler', 4340: 'collectent', 4341: 'dons', 4342: 'candidats', 4343: 'presidentielles', 4344: 'americaines'}\n"
     ]
    }
   ],
   "source": [
    "for langs in [output_lang]:\n",
    "    print(langs.name)\n",
    "    print(langs.n_words)\n",
    "    print(langs.index2word)"
   ]
  },
  {
   "cell_type": "markdown",
   "id": "1c26b99a",
   "metadata": {},
   "source": [
    "<br>"
   ]
  }
 ],
 "metadata": {
  "kernelspec": {
   "display_name": "Python 3 (ipykernel)",
   "language": "python",
   "name": "python3"
  },
  "language_info": {
   "codemirror_mode": {
    "name": "ipython",
    "version": 3
   },
   "file_extension": ".py",
   "mimetype": "text/x-python",
   "name": "python",
   "nbconvert_exporter": "python",
   "pygments_lexer": "ipython3",
   "version": "3.9.5"
  }
 },
 "nbformat": 4,
 "nbformat_minor": 5
}
